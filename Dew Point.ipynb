{
 "cells": [
  {
   "cell_type": "code",
   "execution_count": null,
   "metadata": {},
   "outputs": [],
   "source": [
    "'''Comment for myself\n",
    "The dew point is the temperature to which air must be cooled to become saturated with water vapor.\n",
    "When cooled further, the airborne water vapor will condense to form liquid water (dew). When air\n",
    "cools to its dew point through contact with a surface that is colder than the air, water will \n",
    "condense on the surface. When the temperature is below the freezing point of water, the dew point \n",
    "is called the frost point, as frost is formed rather than dew. The measurement of the dew point is\n",
    "related to humidity. A higher dew point means there is more moisture in the air.\n",
    "\n",
    "Formula:\n",
    "\n",
    "Tdew = (237.3 × [ln(RH/100) + ( (17.27×T) / (237.3+T) )]) / (17.27 - [ln(RH/100) + ( (17.27×T) / (237.3+T) )])\n",
    "\n",
    "Tdew = dew point temperature in degrees Celsius (°C), T = air temperature in degrees Celsius (°C), RH = relative humidity (%), ln = natural logarithm.\n",
    "\n",
    "A function will be defined which has to be imported nd called in main function\n",
    "'''"
   ]
  },
  {
   "cell_type": "code",
   "execution_count": 4,
   "metadata": {},
   "outputs": [],
   "source": [
    "import math\n",
    "def ln(n):\n",
    "    return math.log(n,math.e)\n",
    "def Tdew(T,H):\n",
    "    nl =ln(H/100)\n",
    "    s=237.3+T\n",
    "    m=17.27*T\n",
    "    TD = (237.3*(nl+(m/s)))/(17.27+(-1)*(nl+(m/s)))    \n",
    "    return TD"
   ]
  },
  {
   "cell_type": "code",
   "execution_count": 5,
   "metadata": {},
   "outputs": [
    {
     "name": "stdout",
     "output_type": "stream",
     "text": [
      "24.579629605630686\n"
     ]
    }
   ],
   "source": [
    "print(Tdew(36,52))"
   ]
  },
  {
   "cell_type": "code",
   "execution_count": null,
   "metadata": {},
   "outputs": [],
   "source": []
  }
 ],
 "metadata": {
  "kernelspec": {
   "display_name": "Python 3",
   "language": "python",
   "name": "python3"
  },
  "language_info": {
   "codemirror_mode": {
    "name": "ipython",
    "version": 3
   },
   "file_extension": ".py",
   "mimetype": "text/x-python",
   "name": "python",
   "nbconvert_exporter": "python",
   "pygments_lexer": "ipython3",
   "version": "3.7.4"
  }
 },
 "nbformat": 4,
 "nbformat_minor": 2
}
