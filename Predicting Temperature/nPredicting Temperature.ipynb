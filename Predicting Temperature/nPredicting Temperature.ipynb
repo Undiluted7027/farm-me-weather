{
 "cells": [
  {
   "cell_type": "code",
   "execution_count": 1,
   "metadata": {},
   "outputs": [],
   "source": [
    "#Importing all the libraries and modules\n",
    "import warnings\n",
    "warnings.filterwarnings('ignore')\n",
    "import numpy as np\n",
    "import pandas as pd\n",
    "from matplotlib import pyplot as plt\n",
    "%matplotlib inline\n",
    "\n",
    "import sklearn\n",
    "from sklearn.model_selection import train_test_split\n",
    "from sklearn.metrics import accuracy_score\n",
    "\n",
    "from sklearn.linear_model import LinearRegression\n",
    "from sklearn import preprocessing"
   ]
  },
  {
   "cell_type": "code",
   "execution_count": 2,
   "metadata": {},
   "outputs": [],
   "source": [
    "df=pd.read_csv(r\"/home/pi/mausam/mausam-main/models/Final Datasets/nTemperature.csv\")"
   ]
  },
  {
   "cell_type": "code",
   "execution_count": 3,
   "metadata": {},
   "outputs": [
    {
     "name": "stdout",
     "output_type": "stream",
     "text": [
      "(100990, 9)\n",
      "                Date          Month           Hour     heatindex  \\\n",
      "count  100990.000000  100990.000000  100990.000000  29155.000000   \n",
      "mean       15.690049       6.579344      10.928844     35.651710   \n",
      "std         8.769718       3.475841       6.854328      5.015384   \n",
      "min         1.000000       1.000000       0.000000     26.800000   \n",
      "25%         8.000000       4.000000       5.000000     31.700000   \n",
      "50%        16.000000       7.000000      11.000000     35.100000   \n",
      "75%        23.000000      10.000000      17.000000     39.200000   \n",
      "max        31.000000      12.000000      23.000000     73.600000   \n",
      "\n",
      "            humidity           rain           temp  temp previous  \n",
      "count  100233.000000  100990.000000  100317.000000  100317.000000  \n",
      "mean       57.909481       0.026260      25.451260      25.451269  \n",
      "std        23.807771       0.159908       8.482854       8.482859  \n",
      "min         4.000000       0.000000       1.000000       1.000000  \n",
      "25%        39.000000       0.000000      19.000000      19.000000  \n",
      "50%        59.000000       0.000000      27.000000      27.000000  \n",
      "75%        78.000000       0.000000      32.000000      32.000000  \n",
      "max       243.000000       1.000000      90.000000      90.000000  \n",
      "   Date  Month  Hour   Time  heatindex  humidity  rain  temp  temp previous\n",
      "0     1     11    11  11:00        NaN      27.0     0  28.0           30.0\n",
      "1     1     11    12  12:00        NaN      32.0     0  24.0           28.0\n",
      "2     1     11    13  13:00        NaN      44.0     0  24.0           24.0\n",
      "3     1     11    14  14:00        NaN      41.0     0  23.0           24.0\n",
      "4     1     11    16  16:00        NaN      47.0     0  21.0           23.0\n",
      "Index(['Date', 'Month', 'Hour', 'Time', 'heatindex', 'humidity', 'rain',\n",
      "       'temp', 'temp previous'],\n",
      "      dtype='object')\n"
     ]
    }
   ],
   "source": [
    "print(df.shape)\n",
    "print(df.describe())\n",
    "print(df.head())\n",
    "print(df.columns)\n",
    "df.drop([\"Time\"],axis=1,inplace=True)"
   ]
  },
  {
   "cell_type": "markdown",
   "metadata": {},
   "source": [
    "# Preprocessing the data"
   ]
  },
  {
   "cell_type": "code",
   "execution_count": 4,
   "metadata": {},
   "outputs": [
    {
     "name": "stdout",
     "output_type": "stream",
     "text": [
      "Date             False\n",
      "Month            False\n",
      "Hour             False\n",
      "heatindex         True\n",
      "humidity          True\n",
      "rain             False\n",
      "temp              True\n",
      "temp previous     True\n",
      "dtype: bool\n"
     ]
    }
   ],
   "source": [
    "print(df.isnull().any())"
   ]
  },
  {
   "cell_type": "code",
   "execution_count": 5,
   "metadata": {},
   "outputs": [],
   "source": [
    "# Temperature Previous\n",
    "\n",
    "def replace(j):\n",
    "    if df[\"temp previous\"][j]!=(-10):\n",
    "        return df[\"temp previous\"][j]\n",
    "    else:\n",
    "        return replace(j+1)\n",
    "        \n",
    "df[\"temp previous\"].fillna(-10, inplace = True)\n",
    "\n",
    "for i in range(100990):\n",
    "    if df[\"temp previous\"][i]==-10:\n",
    "        df[\"temp previous\"][i]=(replace(i+1)+df[\"temp previous\"][i-1])/2\n",
    "    elif df[\"temp previous\"][i]>=50:\n",
    "        df[\"temp previous\"][i]=(df[\"temp previous\"][i-1]+df[\"temp previous\"][i+1])/2\n",
    "        "
   ]
  },
  {
   "cell_type": "code",
   "execution_count": 6,
   "metadata": {},
   "outputs": [
    {
     "name": "stdout",
     "output_type": "stream",
     "text": [
      "False\n"
     ]
    },
    {
     "data": {
      "text/plain": [
       "15.5"
      ]
     },
     "execution_count": 6,
     "metadata": {},
     "output_type": "execute_result"
    }
   ],
   "source": [
    "print(df[\"temp previous\"].isnull().any())\n",
    "df[\"temp previous\"][124]"
   ]
  },
  {
   "cell_type": "code",
   "execution_count": 7,
   "metadata": {},
   "outputs": [
    {
     "name": "stdout",
     "output_type": "stream",
     "text": [
      "True\n"
     ]
    }
   ],
   "source": [
    "# Temperature\n",
    "\n",
    "print(df[\"temp\"].isnull().any())\n",
    "\n",
    "df[\"temp\"].fillna(-300, inplace = True)\n",
    "\n",
    "for i in range(100990):\n",
    "    if df[\"temp\"][i]==-300:\n",
    "        df[\"temp\"][i]=df[\"temp previous\"][i+1]\n",
    "    elif df[\"temp\"][i]>100:\n",
    "        df[\"temp\"][i]=df[\"temp previous\"][i+1]\n"
   ]
  },
  {
   "cell_type": "code",
   "execution_count": 8,
   "metadata": {},
   "outputs": [
    {
     "name": "stdout",
     "output_type": "stream",
     "text": [
      "False\n"
     ]
    },
    {
     "data": {
      "text/plain": [
       "15.5"
      ]
     },
     "execution_count": 8,
     "metadata": {},
     "output_type": "execute_result"
    }
   ],
   "source": [
    "print(df[\"temp\"].isnull().any())\n",
    "df[\"temp\"][123]"
   ]
  },
  {
   "cell_type": "code",
   "execution_count": 9,
   "metadata": {},
   "outputs": [
    {
     "name": "stdout",
     "output_type": "stream",
     "text": [
      "False\n"
     ]
    }
   ],
   "source": [
    "# Humidity\n",
    "\n",
    "df[\"humidity\"].fillna(-100, inplace = True)\n",
    "\n",
    "print(df[\"humidity\"].isnull().any())\n",
    "\n",
    "def replace(j):\n",
    "    if df[\"humidity\"][j]!=(-100):\n",
    "        return df[\"humidity\"][j]\n",
    "    else:\n",
    "        return replace(j+1)\n",
    "\n",
    "for i in range(100990):\n",
    "    if df[\"humidity\"][i]==-100:\n",
    "        df[\"humidity\"][i]=(replace(i+1)+df[\"humidity\"][i-1])/2\n",
    "    elif df[\"humidity\"][i]>100:\n",
    "        df[\"humidity\"][i]=(df[\"humidity\"][i-1]+df[\"humidity\"][i+1])/2\n",
    "        "
   ]
  },
  {
   "cell_type": "code",
   "execution_count": 10,
   "metadata": {},
   "outputs": [
    {
     "data": {
      "text/plain": [
       "59.0"
      ]
     },
     "execution_count": 10,
     "metadata": {},
     "output_type": "execute_result"
    }
   ],
   "source": [
    "df[\"humidity\"][124]"
   ]
  },
  {
   "cell_type": "code",
   "execution_count": 11,
   "metadata": {},
   "outputs": [],
   "source": [
    "# Heat Index\n",
    "\n",
    "#This is the function for calculating heat index\n",
    "def HI(t,H):\n",
    "    c1 = -42.379\n",
    "    c2= 2.04901523\n",
    "    c3 = 10.14333127\n",
    "    c4 = -0.22475541\n",
    "    c5 = -6.83783 *(0.001)\n",
    "    c6 = -5.481717 * (0.01)\n",
    "    c7 = 1.22874 * (0.001)\n",
    "    c8 = 8.5282 * (0.0001)\n",
    "    c9 = -1.99 * (0.000001)\n",
    "    T=(1.8*t)+32\n",
    "    HI=c1+(c2*T)+(c3*H)+(c4*T*H)+(c5*T*T)+(c6*H*H)+(c7*T*H*T)+(c8*T*H*H)+(c9*T*H*T*H)\n",
    "    FHI=((HI-32)*5)/9\n",
    "    return FHI\n",
    "\n",
    "df[\"heatindex\"].fillna(-200, inplace = True)\n",
    "\n",
    "\n",
    "for i in range(100990):\n",
    "    if df[\"heatindex\"][i]==-200:\n",
    "        df[\"heatindex\"][i]=HI(df[\"temp previous\"][i],df[\"humidity\"][i])\n",
    "    elif df[\"heatindex\"][i]>60:\n",
    "        df[\"heatindex\"][i]=HI(df[\"temp previous\"][i],df[\"humidity\"][i])\n",
    "        \n",
    "    "
   ]
  },
  {
   "cell_type": "code",
   "execution_count": 12,
   "metadata": {},
   "outputs": [
    {
     "name": "stdout",
     "output_type": "stream",
     "text": [
      "27.90896452244449\n"
     ]
    }
   ],
   "source": [
    "print(df[\"heatindex\"][124])"
   ]
  },
  {
   "cell_type": "code",
   "execution_count": 14,
   "metadata": {},
   "outputs": [
    {
     "name": "stdout",
     "output_type": "stream",
     "text": [
      "Date             False\n",
      "Month            False\n",
      "Hour             False\n",
      "heatindex        False\n",
      "humidity         False\n",
      "rain             False\n",
      "temp             False\n",
      "temp previous    False\n",
      "dtype: bool\n"
     ]
    }
   ],
   "source": [
    "weather_df_num=df[list(df.dtypes[df.dtypes!='object'].index)]\n",
    "weather_y=weather_df_num.pop('temp')\n",
    "weather_x=weather_df_num\n",
    "print(df.isnull().any())"
   ]
  },
  {
   "cell_type": "code",
   "execution_count": 15,
   "metadata": {},
   "outputs": [
    {
     "data": {
      "text/html": [
       "<div>\n",
       "<style scoped>\n",
       "    .dataframe tbody tr th:only-of-type {\n",
       "        vertical-align: middle;\n",
       "    }\n",
       "\n",
       "    .dataframe tbody tr th {\n",
       "        vertical-align: top;\n",
       "    }\n",
       "\n",
       "    .dataframe thead th {\n",
       "        text-align: right;\n",
       "    }\n",
       "</style>\n",
       "<table border=\"1\" class=\"dataframe\">\n",
       "  <thead>\n",
       "    <tr style=\"text-align: right;\">\n",
       "      <th></th>\n",
       "      <th>Date</th>\n",
       "      <th>Month</th>\n",
       "      <th>Hour</th>\n",
       "      <th>heatindex</th>\n",
       "      <th>humidity</th>\n",
       "      <th>rain</th>\n",
       "      <th>temp previous</th>\n",
       "    </tr>\n",
       "  </thead>\n",
       "  <tbody>\n",
       "    <tr>\n",
       "      <th>99686</th>\n",
       "      <td>6</td>\n",
       "      <td>1</td>\n",
       "      <td>15</td>\n",
       "      <td>15.316544</td>\n",
       "      <td>96.0</td>\n",
       "      <td>0</td>\n",
       "      <td>18.0</td>\n",
       "    </tr>\n",
       "    <tr>\n",
       "      <th>18305</th>\n",
       "      <td>29</td>\n",
       "      <td>1</td>\n",
       "      <td>10</td>\n",
       "      <td>24.825667</td>\n",
       "      <td>35.0</td>\n",
       "      <td>0</td>\n",
       "      <td>21.0</td>\n",
       "    </tr>\n",
       "    <tr>\n",
       "      <th>91877</th>\n",
       "      <td>20</td>\n",
       "      <td>8</td>\n",
       "      <td>6</td>\n",
       "      <td>36.195542</td>\n",
       "      <td>57.0</td>\n",
       "      <td>0</td>\n",
       "      <td>32.0</td>\n",
       "    </tr>\n",
       "    <tr>\n",
       "      <th>55714</th>\n",
       "      <td>29</td>\n",
       "      <td>2</td>\n",
       "      <td>14</td>\n",
       "      <td>25.389065</td>\n",
       "      <td>47.0</td>\n",
       "      <td>0</td>\n",
       "      <td>24.0</td>\n",
       "    </tr>\n",
       "    <tr>\n",
       "      <th>40664</th>\n",
       "      <td>2</td>\n",
       "      <td>2</td>\n",
       "      <td>7</td>\n",
       "      <td>21.773657</td>\n",
       "      <td>82.0</td>\n",
       "      <td>0</td>\n",
       "      <td>16.0</td>\n",
       "    </tr>\n",
       "  </tbody>\n",
       "</table>\n",
       "</div>"
      ],
      "text/plain": [
       "       Date  Month  Hour  heatindex  humidity  rain  temp previous\n",
       "99686     6      1    15  15.316544      96.0     0           18.0\n",
       "18305    29      1    10  24.825667      35.0     0           21.0\n",
       "91877    20      8     6  36.195542      57.0     0           32.0\n",
       "55714    29      2    14  25.389065      47.0     0           24.0\n",
       "40664     2      2     7  21.773657      82.0     0           16.0"
      ]
     },
     "execution_count": 15,
     "metadata": {},
     "output_type": "execute_result"
    }
   ],
   "source": [
    "train_x,test_x,train_y,test_y=train_test_split(weather_x,weather_y,test_size=0.2,random_state=4)\n",
    "train_x.head()"
   ]
  },
  {
   "cell_type": "code",
   "execution_count": 16,
   "metadata": {},
   "outputs": [
    {
     "data": {
      "text/plain": [
       "LinearRegression(copy_X=True, fit_intercept=True, n_jobs=None, normalize=False)"
      ]
     },
     "execution_count": 16,
     "metadata": {},
     "output_type": "execute_result"
    }
   ],
   "source": [
    "#First Model Linear Regression\n",
    "tlrmodel = LinearRegression()\n",
    "tlrmodel.fit(train_x,train_y)"
   ]
  },
  {
   "cell_type": "code",
   "execution_count": 17,
   "metadata": {},
   "outputs": [
    {
     "name": "stdout",
     "output_type": "stream",
     "text": [
      "       Date  Month  Hour  heatindex  humidity  rain  temp previous\n",
      "16733    18     11     8  26.768215      21.0     0           28.0\n",
      "82934    21      4    15  28.553710      27.0     0           30.0\n",
      "33831    11      4    13  32.450585      13.0     0           35.0\n",
      "22660    14     12    19  25.969198      77.0     0           14.0\n",
      "47063    16      8    14  33.600000      89.0     0           28.0\n",
      "...     ...    ...   ...        ...       ...   ...            ...\n",
      "26343    24      5     8  44.400000      21.0     0           43.0\n",
      "10264    12      9    22  25.540468      94.0     0           25.0\n",
      "17753     4      1    15  26.601143      88.0     0           11.0\n",
      "98956     2     12    12  23.190211      73.0     0           22.0\n",
      "46164    26      7    23  34.500000      79.0     0           29.0\n",
      "\n",
      "[20198 rows x 7 columns]\n"
     ]
    },
    {
     "data": {
      "text/plain": [
       "5.4107202618832515"
      ]
     },
     "execution_count": 17,
     "metadata": {},
     "output_type": "execute_result"
    }
   ],
   "source": [
    "print(test_x)\n",
    "prediction=tlrmodel.predict(test_x)\n",
    "#Calculating error\n",
    "np.mean((prediction-test_y)**2)"
   ]
  },
  {
   "cell_type": "code",
   "execution_count": 18,
   "metadata": {},
   "outputs": [
    {
     "name": "stdout",
     "output_type": "stream",
     "text": [
      "(1, 7)\n",
      "[27.67444428 28.63836648 33.58768702 ... 11.28601438 22.18737737\n",
      " 27.29846139] [31.17680504]\n"
     ]
    }
   ],
   "source": [
    "l=[6,7,18,43,65,1,33]\n",
    "x=np.array(l).reshape(1,-1)\n",
    "print(x.shape)\n",
    "prediction=tlrmodel.predict(test_x)\n",
    "print(prediction,tlrmodel.predict(x))"
   ]
  },
  {
   "cell_type": "code",
   "execution_count": 19,
   "metadata": {},
   "outputs": [
    {
     "data": {
      "text/html": [
       "<div>\n",
       "<style scoped>\n",
       "    .dataframe tbody tr th:only-of-type {\n",
       "        vertical-align: middle;\n",
       "    }\n",
       "\n",
       "    .dataframe tbody tr th {\n",
       "        vertical-align: top;\n",
       "    }\n",
       "\n",
       "    .dataframe thead th {\n",
       "        text-align: right;\n",
       "    }\n",
       "</style>\n",
       "<table border=\"1\" class=\"dataframe\">\n",
       "  <thead>\n",
       "    <tr style=\"text-align: right;\">\n",
       "      <th></th>\n",
       "      <th>actual</th>\n",
       "      <th>prediction</th>\n",
       "      <th>diff</th>\n",
       "    </tr>\n",
       "  </thead>\n",
       "  <tbody>\n",
       "    <tr>\n",
       "      <th>16733</th>\n",
       "      <td>28.0</td>\n",
       "      <td>27.674444</td>\n",
       "      <td>0.325556</td>\n",
       "    </tr>\n",
       "    <tr>\n",
       "      <th>82934</th>\n",
       "      <td>27.0</td>\n",
       "      <td>28.638366</td>\n",
       "      <td>-1.638366</td>\n",
       "    </tr>\n",
       "    <tr>\n",
       "      <th>33831</th>\n",
       "      <td>32.0</td>\n",
       "      <td>33.587687</td>\n",
       "      <td>-1.587687</td>\n",
       "    </tr>\n",
       "    <tr>\n",
       "      <th>22660</th>\n",
       "      <td>14.0</td>\n",
       "      <td>13.201690</td>\n",
       "      <td>0.798310</td>\n",
       "    </tr>\n",
       "    <tr>\n",
       "      <th>47063</th>\n",
       "      <td>28.0</td>\n",
       "      <td>28.051453</td>\n",
       "      <td>-0.051453</td>\n",
       "    </tr>\n",
       "    <tr>\n",
       "      <th>...</th>\n",
       "      <td>...</td>\n",
       "      <td>...</td>\n",
       "      <td>...</td>\n",
       "    </tr>\n",
       "    <tr>\n",
       "      <th>26343</th>\n",
       "      <td>43.0</td>\n",
       "      <td>42.379087</td>\n",
       "      <td>0.620913</td>\n",
       "    </tr>\n",
       "    <tr>\n",
       "      <th>10264</th>\n",
       "      <td>25.0</td>\n",
       "      <td>23.880131</td>\n",
       "      <td>1.119869</td>\n",
       "    </tr>\n",
       "    <tr>\n",
       "      <th>17753</th>\n",
       "      <td>10.0</td>\n",
       "      <td>11.286014</td>\n",
       "      <td>-1.286014</td>\n",
       "    </tr>\n",
       "    <tr>\n",
       "      <th>98956</th>\n",
       "      <td>19.0</td>\n",
       "      <td>22.187377</td>\n",
       "      <td>-3.187377</td>\n",
       "    </tr>\n",
       "    <tr>\n",
       "      <th>46164</th>\n",
       "      <td>29.0</td>\n",
       "      <td>27.298461</td>\n",
       "      <td>1.701539</td>\n",
       "    </tr>\n",
       "  </tbody>\n",
       "</table>\n",
       "<p>20198 rows × 3 columns</p>\n",
       "</div>"
      ],
      "text/plain": [
       "       actual  prediction      diff\n",
       "16733    28.0   27.674444  0.325556\n",
       "82934    27.0   28.638366 -1.638366\n",
       "33831    32.0   33.587687 -1.587687\n",
       "22660    14.0   13.201690  0.798310\n",
       "47063    28.0   28.051453 -0.051453\n",
       "...       ...         ...       ...\n",
       "26343    43.0   42.379087  0.620913\n",
       "10264    25.0   23.880131  1.119869\n",
       "17753    10.0   11.286014 -1.286014\n",
       "98956    19.0   22.187377 -3.187377\n",
       "46164    29.0   27.298461  1.701539\n",
       "\n",
       "[20198 rows x 3 columns]"
      ]
     },
     "execution_count": 19,
     "metadata": {},
     "output_type": "execute_result"
    }
   ],
   "source": [
    "pd.DataFrame({'actual':test_y,'prediction':prediction,'diff':(test_y-prediction)})"
   ]
  },
  {
   "cell_type": "code",
   "execution_count": 20,
   "metadata": {},
   "outputs": [
    {
     "data": {
      "text/plain": [
       "['nTLinearRegression.pkl']"
      ]
     },
     "execution_count": 20,
     "metadata": {},
     "output_type": "execute_result"
    }
   ],
   "source": [
    "from sklearn.externals import joblib \n",
    "  \n",
    "# Save the model as a pickle in a file \n",
    "joblib.dump(tlrmodel, 'nTLinearRegression.pkl') \n",
    "  \n",
    "# Load the model from the file only to be uncommented when to be used \n",
    "#LR = joblib.load('TLinearRegression.pkl')  \n",
    "  \n",
    "# Use the loaded model to make predictions \n",
    "#LR.predict(X_test)"
   ]
  },
  {
   "cell_type": "code",
   "execution_count": 21,
   "metadata": {},
   "outputs": [
    {
     "data": {
      "text/html": [
       "<div>\n",
       "<style scoped>\n",
       "    .dataframe tbody tr th:only-of-type {\n",
       "        vertical-align: middle;\n",
       "    }\n",
       "\n",
       "    .dataframe tbody tr th {\n",
       "        vertical-align: top;\n",
       "    }\n",
       "\n",
       "    .dataframe thead th {\n",
       "        text-align: right;\n",
       "    }\n",
       "</style>\n",
       "<table border=\"1\" class=\"dataframe\">\n",
       "  <thead>\n",
       "    <tr style=\"text-align: right;\">\n",
       "      <th></th>\n",
       "      <th>Date</th>\n",
       "      <th>Month</th>\n",
       "      <th>Hour</th>\n",
       "      <th>heatindex</th>\n",
       "      <th>humidity</th>\n",
       "      <th>rain</th>\n",
       "      <th>temp previous</th>\n",
       "    </tr>\n",
       "  </thead>\n",
       "  <tbody>\n",
       "    <tr>\n",
       "      <th>16733</th>\n",
       "      <td>18</td>\n",
       "      <td>11</td>\n",
       "      <td>8</td>\n",
       "      <td>26.768215</td>\n",
       "      <td>21.0</td>\n",
       "      <td>0</td>\n",
       "      <td>28.0</td>\n",
       "    </tr>\n",
       "    <tr>\n",
       "      <th>82934</th>\n",
       "      <td>21</td>\n",
       "      <td>4</td>\n",
       "      <td>15</td>\n",
       "      <td>28.553710</td>\n",
       "      <td>27.0</td>\n",
       "      <td>0</td>\n",
       "      <td>30.0</td>\n",
       "    </tr>\n",
       "    <tr>\n",
       "      <th>33831</th>\n",
       "      <td>11</td>\n",
       "      <td>4</td>\n",
       "      <td>13</td>\n",
       "      <td>32.450585</td>\n",
       "      <td>13.0</td>\n",
       "      <td>0</td>\n",
       "      <td>35.0</td>\n",
       "    </tr>\n",
       "    <tr>\n",
       "      <th>22660</th>\n",
       "      <td>14</td>\n",
       "      <td>12</td>\n",
       "      <td>19</td>\n",
       "      <td>25.969198</td>\n",
       "      <td>77.0</td>\n",
       "      <td>0</td>\n",
       "      <td>14.0</td>\n",
       "    </tr>\n",
       "    <tr>\n",
       "      <th>47063</th>\n",
       "      <td>16</td>\n",
       "      <td>8</td>\n",
       "      <td>14</td>\n",
       "      <td>33.600000</td>\n",
       "      <td>89.0</td>\n",
       "      <td>0</td>\n",
       "      <td>28.0</td>\n",
       "    </tr>\n",
       "    <tr>\n",
       "      <th>...</th>\n",
       "      <td>...</td>\n",
       "      <td>...</td>\n",
       "      <td>...</td>\n",
       "      <td>...</td>\n",
       "      <td>...</td>\n",
       "      <td>...</td>\n",
       "      <td>...</td>\n",
       "    </tr>\n",
       "    <tr>\n",
       "      <th>26343</th>\n",
       "      <td>24</td>\n",
       "      <td>5</td>\n",
       "      <td>8</td>\n",
       "      <td>44.400000</td>\n",
       "      <td>21.0</td>\n",
       "      <td>0</td>\n",
       "      <td>43.0</td>\n",
       "    </tr>\n",
       "    <tr>\n",
       "      <th>10264</th>\n",
       "      <td>12</td>\n",
       "      <td>9</td>\n",
       "      <td>22</td>\n",
       "      <td>25.540468</td>\n",
       "      <td>94.0</td>\n",
       "      <td>0</td>\n",
       "      <td>25.0</td>\n",
       "    </tr>\n",
       "    <tr>\n",
       "      <th>17753</th>\n",
       "      <td>4</td>\n",
       "      <td>1</td>\n",
       "      <td>15</td>\n",
       "      <td>26.601143</td>\n",
       "      <td>88.0</td>\n",
       "      <td>0</td>\n",
       "      <td>11.0</td>\n",
       "    </tr>\n",
       "    <tr>\n",
       "      <th>98956</th>\n",
       "      <td>2</td>\n",
       "      <td>12</td>\n",
       "      <td>12</td>\n",
       "      <td>23.190211</td>\n",
       "      <td>73.0</td>\n",
       "      <td>0</td>\n",
       "      <td>22.0</td>\n",
       "    </tr>\n",
       "    <tr>\n",
       "      <th>46164</th>\n",
       "      <td>26</td>\n",
       "      <td>7</td>\n",
       "      <td>23</td>\n",
       "      <td>34.500000</td>\n",
       "      <td>79.0</td>\n",
       "      <td>0</td>\n",
       "      <td>29.0</td>\n",
       "    </tr>\n",
       "  </tbody>\n",
       "</table>\n",
       "<p>20198 rows × 7 columns</p>\n",
       "</div>"
      ],
      "text/plain": [
       "       Date  Month  Hour  heatindex  humidity  rain  temp previous\n",
       "16733    18     11     8  26.768215      21.0     0           28.0\n",
       "82934    21      4    15  28.553710      27.0     0           30.0\n",
       "33831    11      4    13  32.450585      13.0     0           35.0\n",
       "22660    14     12    19  25.969198      77.0     0           14.0\n",
       "47063    16      8    14  33.600000      89.0     0           28.0\n",
       "...     ...    ...   ...        ...       ...   ...            ...\n",
       "26343    24      5     8  44.400000      21.0     0           43.0\n",
       "10264    12      9    22  25.540468      94.0     0           25.0\n",
       "17753     4      1    15  26.601143      88.0     0           11.0\n",
       "98956     2     12    12  23.190211      73.0     0           22.0\n",
       "46164    26      7    23  34.500000      79.0     0           29.0\n",
       "\n",
       "[20198 rows x 7 columns]"
      ]
     },
     "execution_count": 21,
     "metadata": {},
     "output_type": "execute_result"
    }
   ],
   "source": [
    "test_x"
   ]
  },
  {
   "cell_type": "code",
   "execution_count": 22,
   "metadata": {},
   "outputs": [],
   "source": [
    "#Polynomial Regression\n",
    "from sklearn.preprocessing import PolynomialFeatures\n",
    "poly=PolynomialFeatures(degree=4)"
   ]
  },
  {
   "cell_type": "code",
   "execution_count": 23,
   "metadata": {},
   "outputs": [
    {
     "data": {
      "text/plain": [
       "LinearRegression(copy_X=True, fit_intercept=True, n_jobs=None, normalize=False)"
      ]
     },
     "execution_count": 23,
     "metadata": {},
     "output_type": "execute_result"
    }
   ],
   "source": [
    "x_poly=poly.fit_transform(train_x)\n",
    "lin2=LinearRegression()\n",
    "poly.fit(x_poly,train_y)\n",
    "lin2.fit(x_poly,train_y)"
   ]
  },
  {
   "cell_type": "code",
   "execution_count": 25,
   "metadata": {},
   "outputs": [
    {
     "data": {
      "text/plain": [
       "3.6012801200626168"
      ]
     },
     "execution_count": 25,
     "metadata": {},
     "output_type": "execute_result"
    }
   ],
   "source": [
    "prediction2 = lin2.predict(poly.fit_transform(test_x))\n",
    "#Calculating the error\n",
    "np.mean((prediction2-test_y)**2)"
   ]
  },
  {
   "cell_type": "code",
   "execution_count": 26,
   "metadata": {},
   "outputs": [
    {
     "data": {
      "text/html": [
       "<div>\n",
       "<style scoped>\n",
       "    .dataframe tbody tr th:only-of-type {\n",
       "        vertical-align: middle;\n",
       "    }\n",
       "\n",
       "    .dataframe tbody tr th {\n",
       "        vertical-align: top;\n",
       "    }\n",
       "\n",
       "    .dataframe thead th {\n",
       "        text-align: right;\n",
       "    }\n",
       "</style>\n",
       "<table border=\"1\" class=\"dataframe\">\n",
       "  <thead>\n",
       "    <tr style=\"text-align: right;\">\n",
       "      <th></th>\n",
       "      <th>actual</th>\n",
       "      <th>prediction</th>\n",
       "      <th>diff</th>\n",
       "    </tr>\n",
       "  </thead>\n",
       "  <tbody>\n",
       "    <tr>\n",
       "      <th>16733</th>\n",
       "      <td>28.0</td>\n",
       "      <td>26.890418</td>\n",
       "      <td>1.109582</td>\n",
       "    </tr>\n",
       "    <tr>\n",
       "      <th>82934</th>\n",
       "      <td>27.0</td>\n",
       "      <td>27.621160</td>\n",
       "      <td>-0.621160</td>\n",
       "    </tr>\n",
       "    <tr>\n",
       "      <th>33831</th>\n",
       "      <td>32.0</td>\n",
       "      <td>31.582420</td>\n",
       "      <td>0.417580</td>\n",
       "    </tr>\n",
       "    <tr>\n",
       "      <th>22660</th>\n",
       "      <td>14.0</td>\n",
       "      <td>12.875534</td>\n",
       "      <td>1.124466</td>\n",
       "    </tr>\n",
       "    <tr>\n",
       "      <th>47063</th>\n",
       "      <td>28.0</td>\n",
       "      <td>27.285693</td>\n",
       "      <td>0.714307</td>\n",
       "    </tr>\n",
       "    <tr>\n",
       "      <th>...</th>\n",
       "      <td>...</td>\n",
       "      <td>...</td>\n",
       "      <td>...</td>\n",
       "    </tr>\n",
       "    <tr>\n",
       "      <th>26343</th>\n",
       "      <td>43.0</td>\n",
       "      <td>42.850979</td>\n",
       "      <td>0.149021</td>\n",
       "    </tr>\n",
       "    <tr>\n",
       "      <th>10264</th>\n",
       "      <td>25.0</td>\n",
       "      <td>25.063772</td>\n",
       "      <td>-0.063772</td>\n",
       "    </tr>\n",
       "    <tr>\n",
       "      <th>17753</th>\n",
       "      <td>10.0</td>\n",
       "      <td>9.513604</td>\n",
       "      <td>0.486396</td>\n",
       "    </tr>\n",
       "    <tr>\n",
       "      <th>98956</th>\n",
       "      <td>19.0</td>\n",
       "      <td>19.624309</td>\n",
       "      <td>-0.624309</td>\n",
       "    </tr>\n",
       "    <tr>\n",
       "      <th>46164</th>\n",
       "      <td>29.0</td>\n",
       "      <td>27.834952</td>\n",
       "      <td>1.165048</td>\n",
       "    </tr>\n",
       "  </tbody>\n",
       "</table>\n",
       "<p>20198 rows × 3 columns</p>\n",
       "</div>"
      ],
      "text/plain": [
       "       actual  prediction      diff\n",
       "16733    28.0   26.890418  1.109582\n",
       "82934    27.0   27.621160 -0.621160\n",
       "33831    32.0   31.582420  0.417580\n",
       "22660    14.0   12.875534  1.124466\n",
       "47063    28.0   27.285693  0.714307\n",
       "...       ...         ...       ...\n",
       "26343    43.0   42.850979  0.149021\n",
       "10264    25.0   25.063772 -0.063772\n",
       "17753    10.0    9.513604  0.486396\n",
       "98956    19.0   19.624309 -0.624309\n",
       "46164    29.0   27.834952  1.165048\n",
       "\n",
       "[20198 rows x 3 columns]"
      ]
     },
     "execution_count": 26,
     "metadata": {},
     "output_type": "execute_result"
    }
   ],
   "source": [
    "pd.DataFrame({'actual':test_y,'prediction':prediction2,'diff':(test_y-prediction2)})"
   ]
  },
  {
   "cell_type": "code",
   "execution_count": 27,
   "metadata": {},
   "outputs": [
    {
     "data": {
      "text/plain": [
       "['nTPolynomialRegression.pkl']"
      ]
     },
     "execution_count": 27,
     "metadata": {},
     "output_type": "execute_result"
    }
   ],
   "source": [
    "#Saving the Polynomial Regression Model\n",
    "from sklearn.externals import joblib \n",
    "joblib.dump(poly, 'nTPoly.pkl') \n",
    "joblib.dump(lin2, 'nTPolynomialRegression.pkl') \n",
    "  \n",
    "# Load the model from the file only to be uncommented when to be used \n",
    "#PR = joblib.load('PRTP.pkl')  \n",
    "  \n",
    "# Use the loaded model to make predictions \n",
    "#PR.predict(X_test)"
   ]
  },
  {
   "cell_type": "code",
   "execution_count": 28,
   "metadata": {},
   "outputs": [
    {
     "data": {
      "text/plain": [
       "DecisionTreeRegressor(ccp_alpha=0.0, criterion='mse', max_depth=None,\n",
       "                      max_features=None, max_leaf_nodes=None,\n",
       "                      min_impurity_decrease=0.0, min_impurity_split=None,\n",
       "                      min_samples_leaf=1, min_samples_split=2,\n",
       "                      min_weight_fraction_leaf=0.0, presort='deprecated',\n",
       "                      random_state=0, splitter='best')"
      ]
     },
     "execution_count": 28,
     "metadata": {},
     "output_type": "execute_result"
    }
   ],
   "source": [
    "#Decision Tree Model\n",
    "from sklearn.tree import DecisionTreeRegressor\n",
    "regressor = DecisionTreeRegressor(random_state=0)\n",
    "regressor.fit(train_x,train_y)"
   ]
  },
  {
   "cell_type": "code",
   "execution_count": 29,
   "metadata": {},
   "outputs": [
    {
     "name": "stdout",
     "output_type": "stream",
     "text": [
      "5.341675485609135\n",
      "[36.]\n"
     ]
    }
   ],
   "source": [
    "prediction3=regressor.predict(test_x)\n",
    "print(np.mean((prediction3-test_y)**2))\n",
    "dt=np.array([6,7,18,43,65,1,33]).reshape(1,-1)\n",
    "print(regressor.predict(dt))"
   ]
  },
  {
   "cell_type": "code",
   "execution_count": 30,
   "metadata": {},
   "outputs": [
    {
     "data": {
      "text/html": [
       "<div>\n",
       "<style scoped>\n",
       "    .dataframe tbody tr th:only-of-type {\n",
       "        vertical-align: middle;\n",
       "    }\n",
       "\n",
       "    .dataframe tbody tr th {\n",
       "        vertical-align: top;\n",
       "    }\n",
       "\n",
       "    .dataframe thead th {\n",
       "        text-align: right;\n",
       "    }\n",
       "</style>\n",
       "<table border=\"1\" class=\"dataframe\">\n",
       "  <thead>\n",
       "    <tr style=\"text-align: right;\">\n",
       "      <th></th>\n",
       "      <th>actual</th>\n",
       "      <th>prediction</th>\n",
       "      <th>diff</th>\n",
       "    </tr>\n",
       "  </thead>\n",
       "  <tbody>\n",
       "    <tr>\n",
       "      <th>16733</th>\n",
       "      <td>28.0</td>\n",
       "      <td>28.0</td>\n",
       "      <td>0.0</td>\n",
       "    </tr>\n",
       "    <tr>\n",
       "      <th>82934</th>\n",
       "      <td>27.0</td>\n",
       "      <td>31.0</td>\n",
       "      <td>-4.0</td>\n",
       "    </tr>\n",
       "    <tr>\n",
       "      <th>33831</th>\n",
       "      <td>32.0</td>\n",
       "      <td>33.0</td>\n",
       "      <td>-1.0</td>\n",
       "    </tr>\n",
       "    <tr>\n",
       "      <th>22660</th>\n",
       "      <td>14.0</td>\n",
       "      <td>14.0</td>\n",
       "      <td>0.0</td>\n",
       "    </tr>\n",
       "    <tr>\n",
       "      <th>47063</th>\n",
       "      <td>28.0</td>\n",
       "      <td>28.0</td>\n",
       "      <td>0.0</td>\n",
       "    </tr>\n",
       "    <tr>\n",
       "      <th>...</th>\n",
       "      <td>...</td>\n",
       "      <td>...</td>\n",
       "      <td>...</td>\n",
       "    </tr>\n",
       "    <tr>\n",
       "      <th>26343</th>\n",
       "      <td>43.0</td>\n",
       "      <td>43.0</td>\n",
       "      <td>0.0</td>\n",
       "    </tr>\n",
       "    <tr>\n",
       "      <th>10264</th>\n",
       "      <td>25.0</td>\n",
       "      <td>25.0</td>\n",
       "      <td>0.0</td>\n",
       "    </tr>\n",
       "    <tr>\n",
       "      <th>17753</th>\n",
       "      <td>10.0</td>\n",
       "      <td>10.5</td>\n",
       "      <td>-0.5</td>\n",
       "    </tr>\n",
       "    <tr>\n",
       "      <th>98956</th>\n",
       "      <td>19.0</td>\n",
       "      <td>21.0</td>\n",
       "      <td>-2.0</td>\n",
       "    </tr>\n",
       "    <tr>\n",
       "      <th>46164</th>\n",
       "      <td>29.0</td>\n",
       "      <td>29.0</td>\n",
       "      <td>0.0</td>\n",
       "    </tr>\n",
       "  </tbody>\n",
       "</table>\n",
       "<p>20198 rows × 3 columns</p>\n",
       "</div>"
      ],
      "text/plain": [
       "       actual  prediction  diff\n",
       "16733    28.0        28.0   0.0\n",
       "82934    27.0        31.0  -4.0\n",
       "33831    32.0        33.0  -1.0\n",
       "22660    14.0        14.0   0.0\n",
       "47063    28.0        28.0   0.0\n",
       "...       ...         ...   ...\n",
       "26343    43.0        43.0   0.0\n",
       "10264    25.0        25.0   0.0\n",
       "17753    10.0        10.5  -0.5\n",
       "98956    19.0        21.0  -2.0\n",
       "46164    29.0        29.0   0.0\n",
       "\n",
       "[20198 rows x 3 columns]"
      ]
     },
     "execution_count": 30,
     "metadata": {},
     "output_type": "execute_result"
    }
   ],
   "source": [
    "pd.DataFrame({'actual':test_y,'prediction':prediction3,'diff':(test_y-prediction3)})"
   ]
  },
  {
   "cell_type": "code",
   "execution_count": 31,
   "metadata": {},
   "outputs": [
    {
     "data": {
      "text/plain": [
       "['nTDecisionTree.pkl']"
      ]
     },
     "execution_count": 31,
     "metadata": {},
     "output_type": "execute_result"
    }
   ],
   "source": [
    "#Saving the Decision Tree\n",
    "joblib.dump(regressor, 'nTDecisionTree.pkl') \n",
    "\n",
    "# Load the model from the file only to be uncommented when to be used \n",
    "#DT = joblib.load('TDecision.pkl')  \n",
    "  \n",
    "# Use the loaded model to make predictions \n",
    "#DT.predict(X_test)"
   ]
  },
  {
   "cell_type": "code",
   "execution_count": 32,
   "metadata": {},
   "outputs": [
    {
     "data": {
      "text/plain": [
       "RandomForestRegressor(bootstrap=True, ccp_alpha=0.0, criterion='mse',\n",
       "                      max_depth=60, max_features='auto', max_leaf_nodes=None,\n",
       "                      max_samples=None, min_impurity_decrease=0.0,\n",
       "                      min_impurity_split=None, min_samples_leaf=1,\n",
       "                      min_samples_split=2, min_weight_fraction_leaf=0.0,\n",
       "                      n_estimators=100, n_jobs=None, oob_score=False,\n",
       "                      random_state=0, verbose=0, warm_start=False)"
      ]
     },
     "execution_count": 32,
     "metadata": {},
     "output_type": "execute_result"
    }
   ],
   "source": [
    "#Random Forest Model\n",
    "from sklearn.ensemble import RandomForestRegressor\n",
    "regr=RandomForestRegressor(max_depth=60,random_state=0,n_estimators=100)\n",
    "regr.fit(train_x,train_y)"
   ]
  },
  {
   "cell_type": "code",
   "execution_count": 33,
   "metadata": {},
   "outputs": [
    {
     "data": {
      "text/plain": [
       "3.1968962072291185"
      ]
     },
     "execution_count": 33,
     "metadata": {},
     "output_type": "execute_result"
    }
   ],
   "source": [
    "prediction4=regr.predict(test_x)\n",
    "np.mean((prediction4-test_y)**2)"
   ]
  },
  {
   "cell_type": "code",
   "execution_count": 34,
   "metadata": {},
   "outputs": [
    {
     "data": {
      "text/plain": [
       "array([32.47])"
      ]
     },
     "execution_count": 34,
     "metadata": {},
     "output_type": "execute_result"
    }
   ],
   "source": [
    "regr.predict(dt)"
   ]
  },
  {
   "cell_type": "code",
   "execution_count": 35,
   "metadata": {},
   "outputs": [
    {
     "data": {
      "text/html": [
       "<div>\n",
       "<style scoped>\n",
       "    .dataframe tbody tr th:only-of-type {\n",
       "        vertical-align: middle;\n",
       "    }\n",
       "\n",
       "    .dataframe tbody tr th {\n",
       "        vertical-align: top;\n",
       "    }\n",
       "\n",
       "    .dataframe thead th {\n",
       "        text-align: right;\n",
       "    }\n",
       "</style>\n",
       "<table border=\"1\" class=\"dataframe\">\n",
       "  <thead>\n",
       "    <tr style=\"text-align: right;\">\n",
       "      <th></th>\n",
       "      <th>actual</th>\n",
       "      <th>prediction</th>\n",
       "      <th>diff</th>\n",
       "    </tr>\n",
       "  </thead>\n",
       "  <tbody>\n",
       "    <tr>\n",
       "      <th>16733</th>\n",
       "      <td>28.0</td>\n",
       "      <td>28.150000</td>\n",
       "      <td>-0.150000</td>\n",
       "    </tr>\n",
       "    <tr>\n",
       "      <th>82934</th>\n",
       "      <td>27.0</td>\n",
       "      <td>28.820000</td>\n",
       "      <td>-1.820000</td>\n",
       "    </tr>\n",
       "    <tr>\n",
       "      <th>33831</th>\n",
       "      <td>32.0</td>\n",
       "      <td>33.060000</td>\n",
       "      <td>-1.060000</td>\n",
       "    </tr>\n",
       "    <tr>\n",
       "      <th>22660</th>\n",
       "      <td>14.0</td>\n",
       "      <td>13.365000</td>\n",
       "      <td>0.635000</td>\n",
       "    </tr>\n",
       "    <tr>\n",
       "      <th>47063</th>\n",
       "      <td>28.0</td>\n",
       "      <td>27.830000</td>\n",
       "      <td>0.170000</td>\n",
       "    </tr>\n",
       "    <tr>\n",
       "      <th>...</th>\n",
       "      <td>...</td>\n",
       "      <td>...</td>\n",
       "      <td>...</td>\n",
       "    </tr>\n",
       "    <tr>\n",
       "      <th>26343</th>\n",
       "      <td>43.0</td>\n",
       "      <td>42.680000</td>\n",
       "      <td>0.320000</td>\n",
       "    </tr>\n",
       "    <tr>\n",
       "      <th>10264</th>\n",
       "      <td>25.0</td>\n",
       "      <td>24.990000</td>\n",
       "      <td>0.010000</td>\n",
       "    </tr>\n",
       "    <tr>\n",
       "      <th>17753</th>\n",
       "      <td>10.0</td>\n",
       "      <td>10.625167</td>\n",
       "      <td>-0.625167</td>\n",
       "    </tr>\n",
       "    <tr>\n",
       "      <th>98956</th>\n",
       "      <td>19.0</td>\n",
       "      <td>20.530000</td>\n",
       "      <td>-1.530000</td>\n",
       "    </tr>\n",
       "    <tr>\n",
       "      <th>46164</th>\n",
       "      <td>29.0</td>\n",
       "      <td>29.000000</td>\n",
       "      <td>0.000000</td>\n",
       "    </tr>\n",
       "  </tbody>\n",
       "</table>\n",
       "<p>20198 rows × 3 columns</p>\n",
       "</div>"
      ],
      "text/plain": [
       "       actual  prediction      diff\n",
       "16733    28.0   28.150000 -0.150000\n",
       "82934    27.0   28.820000 -1.820000\n",
       "33831    32.0   33.060000 -1.060000\n",
       "22660    14.0   13.365000  0.635000\n",
       "47063    28.0   27.830000  0.170000\n",
       "...       ...         ...       ...\n",
       "26343    43.0   42.680000  0.320000\n",
       "10264    25.0   24.990000  0.010000\n",
       "17753    10.0   10.625167 -0.625167\n",
       "98956    19.0   20.530000 -1.530000\n",
       "46164    29.0   29.000000  0.000000\n",
       "\n",
       "[20198 rows x 3 columns]"
      ]
     },
     "execution_count": 35,
     "metadata": {},
     "output_type": "execute_result"
    }
   ],
   "source": [
    "pd.DataFrame({'actual':test_y,'prediction':prediction4,'diff':(test_y-prediction4)})"
   ]
  },
  {
   "cell_type": "code",
   "execution_count": 36,
   "metadata": {},
   "outputs": [
    {
     "data": {
      "text/plain": [
       "['nTRandomForest.pkl']"
      ]
     },
     "execution_count": 36,
     "metadata": {},
     "output_type": "execute_result"
    }
   ],
   "source": [
    "from sklearn.externals import joblib \n",
    "  \n",
    "# Save the model as a pickle in a file \n",
    "joblib.dump(regr, 'nTRandomForest.pkl') \n",
    "  \n",
    "# Load the model from the file only to be uncommented when to be used \n",
    "#RF = joblib.load('TRandomForest.pkl')  \n",
    "  \n",
    "# Use the loaded model to make predictions \n",
    "#TEMP.predict(X_test)"
   ]
  },
  {
   "cell_type": "code",
   "execution_count": 37,
   "metadata": {},
   "outputs": [
    {
     "data": {
      "text/plain": [
       "<matplotlib.collections.PathCollection at 0x1e417af5c10>"
      ]
     },
     "execution_count": 37,
     "metadata": {},
     "output_type": "execute_result"
    },
    {
     "data": {
      "image/png": "[encoded data removed]",
      "text/plain": [
       "<Figure size 432x288 with 1 Axes>"
      ]
     },
     "metadata": {
      "needs_background": "light"
     },
     "output_type": "display_data"
    }
   ],
   "source": [
    "plt.scatter(prediction4,test_y)"
   ]
  },
  {
   "cell_type": "code",
   "execution_count": 38,
   "metadata": {},
   "outputs": [],
   "source": [
    "from datetime import datetime\n",
    "datetime.today()\n",
    "date=datetime.now()\n"
   ]
  },
  {
   "cell_type": "code",
   "execution_count": 39,
   "metadata": {},
   "outputs": [
    {
     "name": "stdout",
     "output_type": "stream",
     "text": [
      "14 23 1\n"
     ]
    }
   ],
   "source": [
    "D=date.day\n",
    "H=date.hour\n",
    "M=date.month\n",
    "print(D,H,M)"
   ]
  },
  {
   "cell_type": "code",
   "execution_count": 40,
   "metadata": {},
   "outputs": [
    {
     "name": "stdout",
     "output_type": "stream",
     "text": [
      "[30.53410527] 23 14 1\n",
      "[32.0214874] 0 15 1\n",
      "[33.31219596] 1 15 1\n",
      "[34.40975993] 2 15 1\n",
      "[35.31764493] 3 15 1\n",
      "[36.03925442] 4 15 1\n",
      "[36.57793079] 5 15 1\n",
      "[36.93695643] 6 15 1\n",
      "[37.11955488] 7 15 1\n",
      "[37.12889179] 8 15 1\n",
      "[36.96807604] 9 15 1\n",
      "[36.64016072] 10 15 1\n",
      "[36.14814413] 11 15 1\n",
      "[35.49497077] 12 15 1\n",
      "[34.68353233] 13 15 1\n",
      "[33.71666858] 14 15 1\n",
      "[32.59716835] 15 15 1\n",
      "[31.32777045] 16 15 1\n",
      "[29.9111645] 17 15 1\n",
      "[28.34999191] 18 15 1\n",
      "[26.64684666] 19 15 1\n",
      "[24.8042762] 20 15 1\n",
      "[22.82478227] 21 15 1\n",
      "[20.71082171] 22 15 1\n",
      "[18.4648073] 23 15 1\n",
      "[20.16812437] 0 16 1\n",
      "[21.67089331] 1 16 1\n",
      "[22.97671261] 2 16 1\n",
      "[24.08911617] 3 16 1\n",
      "[25.0115745] 4 16 1\n",
      "[25.74749583] 5 16 1\n",
      "[26.30022723] 6 16 1\n",
      "[26.67305572] 7 16 1\n",
      "[26.86920934] 8 16 1\n",
      "[26.8918582] 9 16 1\n",
      "[26.74411554] 10 16 1\n",
      "[26.42903874] 11 16 1\n",
      "[25.9496303] 12 16 1\n",
      "[25.30883887] 13 16 1\n",
      "[24.50956017] 14 16 1\n",
      "[23.55463799] 15 16 1\n",
      "[22.44686506] 16 16 1\n",
      "[21.18898403] 17 16 1\n",
      "[19.7836883] 18 16 1\n",
      "[18.23362299] 19 16 1\n",
      "[16.54138572] 20 16 1\n",
      "[14.70952751] 21 16 1\n",
      "[12.74055362] 22 16 1\n",
      "[10.63692434] 23 16 1\n",
      "[12.4800717] 0 17 1\n",
      "[14.12016193] 1 17 1\n",
      "[15.56083852] 2 17 1\n",
      "[16.80567961] 3 17 1\n",
      "[17.8581991] 4 17 1\n",
      "[18.72184788] 5 17 1\n",
      "[19.40001489] 6 17 1\n",
      "[19.89602826] 7 17 1\n",
      "[20.21315643] 8 17 1\n",
      "[20.35460918] 9 17 1\n",
      "[20.32353868] 10 17 1\n",
      "[20.12304055] 11 17 1\n",
      "[19.75615488] 12 17 1\n",
      "[19.2258672] 13 17 1\n",
      "[18.53510946] 14 17 1\n",
      "[17.68676102] 15 17 1\n",
      "[16.68364955] 16 17 1\n",
      "[15.52855202] 17 17 1\n",
      "[14.22419552] 18 17 1\n",
      "[12.77325827] 19 17 1\n",
      "[11.17837038] 20 17 1\n",
      "[9.44211479] 21 17 1\n",
      "[7.5670281] 22 17 1\n",
      "[5.55560138] 23 17 1\n",
      "[7.48929688] 0 18 1\n",
      "[9.21831053] 1 18 1\n",
      "[10.74631498] 2 18 1\n",
      "[12.07691697] 3 18 1\n",
      "[13.21365854] 4 18 1\n",
      "[14.16001818] 5 18 1\n",
      "[14.91941195] 6 18 1\n",
      "[15.49519463] 7 18 1\n",
      "[15.89066077] 8 18 1\n",
      "[16.10904586] 9 18 1\n",
      "[16.15352728] 10 18 1\n",
      "[16.02722544] 11 18 1\n",
      "[15.73320473] 12 18 1\n",
      "[15.27447458] 13 18 1\n",
      "[14.65399039] 14 18 1\n",
      "[13.87465457] 15 18 1\n",
      "[12.93931742] 16 18 1\n",
      "[11.8507781] 17 18 1\n",
      "[10.61178556] 18 18 1\n",
      "[9.22503942] 19 18 1\n",
      "[7.69319085] 20 18 1\n",
      "[6.01884345] 21 18 1\n",
      "[4.20455411] 22 18 1\n",
      "[2.25283385] 23 18 1\n",
      "[4.24516449] 0 19 1\n",
      "[6.03176116] 1 19 1\n",
      "[7.61631541] 2 19 1\n",
      "[9.00245252] 3 19 1\n",
      "[10.19373273] 4 19 1\n",
      "[11.19365241] 5 19 1\n",
      "[12.00564518] 6 19 1\n",
      "[12.63308305] 7 19 1\n",
      "[13.07927754] 8 19 1\n",
      "[13.34748073] 9 19 1\n",
      "[13.44088637] 10 19 1\n",
      "[13.36263089] 11 19 1\n",
      "[13.11579443] 12 19 1\n",
      "[12.70340189] 13 19 1\n",
      "[12.12842387] 14 19 1\n",
      "[11.39377768] 15 19 1\n",
      "[10.50232829] 16 19 1\n",
      "[9.45688925] 17 19 1\n",
      "[8.26022363] 18 19 1\n",
      "[6.91504492] 19 19 1\n",
      "[5.42401793] 20 19 1\n",
      "[3.78975964] 21 19 1\n",
      "[2.01484009] 22 19 1\n",
      "[0.10178319] 23 19 1\n",
      "[2.13208344] 0 20 1\n",
      "[3.95596844] 1 20 1\n",
      "[5.57714193] 2 20 1\n",
      "[6.99924122] 3 20 1\n",
      "[8.22583833] 4 20 1\n",
      "[9.26044121] 5 20 1\n",
      "[10.10649485] 6 20 1\n",
      "[10.76738244] 7 20 1\n",
      "[11.24642645] 8 20 1\n",
      "[11.54688973] 9 20 1\n",
      "[11.67197661] 10 20 1\n",
      "[11.6248339] 11 20 1\n",
      "[11.40855195] 12 20 1\n",
      "[11.02616568] 13 20 1\n",
      "[10.48065552] 14 20 1\n",
      "[9.77494844] 15 20 1\n",
      "[8.9119189] 16 20 1\n",
      "[7.89438977] 17 20 1\n",
      "[6.72513326] 18 20 1\n",
      "[5.40687185] 19 20 1\n",
      "[3.94227918] 20 20 1\n",
      "[2.33398089] 21 20 1\n",
      "[0.58455554] 22 20 1\n",
      "[-1.30346461] 23 20 1\n",
      "[0.75142315] 0 21 1\n",
      "[2.59945447] 1 21 1\n",
      "[4.24434103] 2 21 1\n",
      "[5.6897279] 3 21 1\n",
      "[6.93919473] 4 21 1\n",
      "[7.99625698] 5 21 1\n",
      "[8.864367] 6 21 1\n",
      "[9.54691519] 7 21 1\n",
      "[10.04723115] 8 21 1\n",
      "[10.3685847] 9 21 1\n",
      "[10.514187] 10 21 1\n",
      "[10.4871916] 11 21 1\n",
      "[10.29069546] 12 21 1\n",
      "[9.92773997] 13 21 1\n",
      "[9.40131194] 14 21 1\n",
      "[8.7143446] 15 21 1\n",
      "[7.86971854] 16 21 1\n",
      "[6.87026267] 17 21 1\n",
      "[5.71875514] 18 21 1\n",
      "[4.41792423] 19 21 1\n",
      "[2.9704493] 20 21 1\n",
      "[1.37896161] 21 21 1\n",
      "[-0.35395479] 22 21 1\n",
      "[-2.2257622] 23 21 1\n",
      "[-0.15495262] 0 22 1\n",
      "[1.70871485] 1 22 1\n",
      "[3.36895698] 2 22 1\n",
      "[4.82942389] 3 22 1\n",
      "[6.09370018] 4 22 1\n",
      "[7.16530616] 5 22 1\n",
      "[8.04769895] 6 22 1\n",
      "[8.74427364] 7 22 1\n",
      "[9.2583644] 8 22 1\n",
      "[9.5932456] 9 22 1\n",
      "[9.75213281] 10 22 1\n",
      "[9.73818396] 11 22 1\n",
      "[9.55450026] 12 22 1\n",
      "[9.20412732] 13 22 1\n",
      "[8.69005606] 14 22 1\n",
      "[8.01522378] 15 22 1\n",
      "[7.18251504] 16 22 1\n",
      "[6.19476265] 17 22 1\n",
      "[5.0547486] 18 22 1\n",
      "[3.76520494] 19 22 1\n",
      "[2.32881473] 20 22 1\n",
      "[0.74821287] 21 22 1\n",
      "[-0.97401303] 22 22 1\n",
      "[-2.83532177] 23 22 1\n",
      "[-0.75420189] 0 23 1\n",
      "[1.11959087] 1 23 1\n",
      "[2.78977662] 2 23 1\n",
      "[4.26000872] 3 23 1\n",
      "[5.533875] 4 23 1\n",
      "[6.61489888] 5 23 1\n",
      "[7.50654058] 6 23 1\n",
      "[8.21219822] 7 23 1\n",
      "[8.73520897] 8 23 1\n",
      "[9.07885009] 9 23 1\n",
      "[9.24634006] 10 23 1\n",
      "[9.24083959] 11 23 1\n",
      "[9.06545268] 12 23 1\n",
      "[8.72322766] 13 23 1\n",
      "[8.21715813] 14 23 1\n",
      "[7.550184] 15 23 1\n",
      "[6.7251924] 16 23 1\n",
      "[5.74501869] 17 23 1\n",
      "[4.61244732] 18 23 1\n",
      "[3.33021281] 19 23 1\n",
      "[1.9010006] 20 23 1\n",
      "[0.32744793] 21 23 1\n",
      "[-1.38785526] 22 23 1\n",
      "[-3.2423655] 23 23 1\n",
      "[-1.15456911] 0 24 1\n",
      "[0.72578036] 1 24 1\n",
      "[2.40240517] 2 24 1\n",
      "[3.8789608] 3 24 1\n",
      "[5.15903714] 4 24 1\n",
      "[6.24615965] 5 24 1\n",
      "[7.14379056] 6 24 1\n",
      "[7.85532994] 7 24 1\n",
      "[8.38411689] 8 24 1\n",
      "[8.73343057] 9 24 1\n",
      "[8.9064913] 10 24 1\n",
      "[8.90646165] 11 24 1\n",
      "[8.7364474] 12 24 1\n",
      "[8.39949862] 13 24 1\n",
      "[7.89861067] 14 24 1\n",
      "[7.23672514] 15 24 1\n",
      "[6.41673083] 16 24 1\n",
      "[5.44146475] 17 24 1\n",
      "[4.31371295] 18 24 1\n",
      "[3.03621153] 19 24 1\n",
      "[1.61164748] 20 24 1\n",
      "[0.04265957] 21 24 1\n",
      "[-1.66816076] 22 24 1\n",
      "[-3.51826859] 23 24 1\n",
      "[-1.42614877] 0 25 1\n",
      "[0.45844655] 1 25 1\n",
      "[2.13924102] 2 25 1\n",
      "[3.6198915] 3 25 1\n",
      "[4.90398921] 4 25 1\n",
      "[5.99506094] 5 25 1\n",
      "[6.89657019] 6 25 1\n",
      "[7.61191834] 7 25 1\n",
      "[8.14444571] 8 25 1\n",
      "[8.49743269] 9 25 1\n",
      "[8.67410083] 10 25 1\n",
      "[8.67761384] 11 25 1\n",
      "[8.51107869] 12 25 1\n",
      "[8.17754659] 13 25 1\n",
      "[7.68001401] 14 25 1\n",
      "[7.02142363] 15 25 1\n",
      "[6.20466537] 16 25 1\n",
      "[5.23257725] 17 25 1\n",
      "[4.1079464] 18 25 1\n",
      "[2.83350993] 19 25 1\n",
      "[1.41195583] 20 25 1\n",
      "[-0.15407613] 21 25 1\n",
      "[-1.86199355] 22 25 1\n",
      "[-3.70925056] 23 25 1\n",
      "[-1.61433108] 0 26 1\n",
      "[0.27301367] 1 26 1\n",
      "[1.95650824] 2 26 1\n",
      "[3.43981036] 3 26 1\n",
      "[4.72651214] 4 26 1\n",
      "[5.82014121] 5 26 1\n",
      "[6.72416193] 6 26 1\n",
      "[7.44197647] 7 26 1\n",
      "[7.97692597] 8 26 1\n",
      "[8.33229164] 9 26 1\n",
      "[8.51129577] 10 26 1\n",
      "[8.51710286] 11 26 1\n",
      "[8.35282062] 12 26 1\n",
      "[8.02150102] 13 26 1\n",
      "[7.52614123] 14 26 1\n",
      "[6.86968466] 15 26 1\n",
      "[6.05502191] 16 26 1\n",
      "[5.08499172] 17 26 1\n",
      "[3.96238186] 18 26 1\n",
      "[2.68993012] 19 26 1\n",
      "[1.27032514] 20 26 1\n",
      "[-0.29379268] 21 26 1\n",
      "[-1.99983031] 22 26 1\n",
      "[-3.84524125] 23 26 1\n",
      "[-1.74850882] 0 27 1\n",
      "[0.14061634] 1 27 1\n",
      "[1.82585938] 2 27 1\n",
      "[3.3108786] 3 27 1\n",
      "[4.59926666] 4 27 1\n",
      "[5.69455176] 5 27 1\n",
      "[6.60019879] 6 27 1\n",
      "[7.31961046] 7 27 1\n",
      "[7.85612844] 8 27 1\n",
      "[8.21303443] 9 27 1\n",
      "[8.39355125] 10 27 1\n",
      "[8.4008439] 11 27 1\n",
      "[8.23802056] 12 27 1\n",
      "[7.90813367] 13 27 1\n",
      "[7.41418088] 14 27 1\n",
      "[6.75910608] 15 27 1\n",
      "[5.9458003] 16 27 1\n",
      "[4.97710273] 17 27 1\n",
      "[3.85580158] 18 27 1\n",
      "[2.58463507] 19 27 1\n",
      "[1.16629225] 20 27 1\n",
      "[-0.39658605] 21 27 1\n",
      "[-2.1014064] 22 27 1\n",
      "[-3.9456219] 23 27 1\n",
      "[-1.84771549] 0 28 1\n",
      "[0.04256259] 1 28 1\n",
      "[1.72893787] 2 28 1\n",
      "[3.215069] 3 28 1\n",
      "[4.50454903] 4 28 1\n",
      "[5.6009065] 5 28 1\n",
      "[6.50760666] 6 28 1\n",
      "[7.22805256] 7 28 1\n",
      "[7.76558622] 8 28 1\n",
      "[8.12348967] 9 28 1\n",
      "[8.30498604] 10 28 1\n",
      "[8.31324066] 11 28 1\n",
      "[8.15136204] 12 28 1\n",
      "[7.82240292] 13 28 1\n",
      "[7.32936125] 14 28 1\n",
      "[6.67518122] 15 28 1\n",
      "[5.86275416] 16 28 1\n",
      "[4.89491953] 17 28 1\n",
      "[3.77446585] 18 28 1\n",
      "[2.50413159] 19 28 1\n",
      "[1.0866061] 20 28 1\n",
      "[-0.47546954] 21 28 1\n",
      "[-2.17950163] 22 28 1\n"
     ]
    }
   ],
   "source": [
    "#For hourly, daily, weekly and min max temp details\n",
    "L=[]\n",
    "import random\n",
    "D=date.day\n",
    "H=date.hour\n",
    "M=date.month\n",
    "tp=33\n",
    "for d in range(1,15):\n",
    "    for h in range(1,25):\n",
    "        para=np.array([D,M,H,48,45,0,tp]).reshape(1,-1)\n",
    "        p=tlrmodel.predict(para)\n",
    "        print(p,H,D,M)\n",
    "        tp=list(p)[0]\n",
    "        H+=1\n",
    "        if H==24:\n",
    "            H=0\n",
    "            h=24\n",
    "            D+=1\n",
    "        if D==31:\n",
    "            M+=1\n",
    "            D=1\n",
    "        \n"
   ]
  },
  {
   "cell_type": "code",
   "execution_count": 41,
   "metadata": {},
   "outputs": [
    {
     "ename": "AttributeError",
     "evalue": "'Series' object has no attribute 'value_count'",
     "output_type": "error",
     "traceback": [
      "\u001b[1;31m---------------------------------------------------------------------------\u001b[0m",
      "\u001b[1;31mAttributeError\u001b[0m                            Traceback (most recent call last)",
      "\u001b[1;32m<ipython-input-41-7cec00008b5b>\u001b[0m in \u001b[0;36m<module>\u001b[1;34m\u001b[0m\n\u001b[1;32m----> 1\u001b[1;33m \u001b[0mweather_df\u001b[0m\u001b[1;33m[\u001b[0m\u001b[1;34m\"temp\"\u001b[0m\u001b[1;33m]\u001b[0m\u001b[1;33m.\u001b[0m\u001b[0mvalue_count\u001b[0m\u001b[1;33m(\u001b[0m\u001b[1;33m)\u001b[0m\u001b[1;33m\u001b[0m\u001b[1;33m\u001b[0m\u001b[0m\n\u001b[0m",
      "\u001b[1;32m~\\anaconda3\\lib\\site-packages\\pandas\\core\\generic.py\u001b[0m in \u001b[0;36m__getattr__\u001b[1;34m(self, name)\u001b[0m\n\u001b[0;32m   5463\u001b[0m             \u001b[1;32mif\u001b[0m \u001b[0mself\u001b[0m\u001b[1;33m.\u001b[0m\u001b[0m_info_axis\u001b[0m\u001b[1;33m.\u001b[0m\u001b[0m_can_hold_identifiers_and_holds_name\u001b[0m\u001b[1;33m(\u001b[0m\u001b[0mname\u001b[0m\u001b[1;33m)\u001b[0m\u001b[1;33m:\u001b[0m\u001b[1;33m\u001b[0m\u001b[1;33m\u001b[0m\u001b[0m\n\u001b[0;32m   5464\u001b[0m                 \u001b[1;32mreturn\u001b[0m \u001b[0mself\u001b[0m\u001b[1;33m[\u001b[0m\u001b[0mname\u001b[0m\u001b[1;33m]\u001b[0m\u001b[1;33m\u001b[0m\u001b[1;33m\u001b[0m\u001b[0m\n\u001b[1;32m-> 5465\u001b[1;33m             \u001b[1;32mreturn\u001b[0m \u001b[0mobject\u001b[0m\u001b[1;33m.\u001b[0m\u001b[0m__getattribute__\u001b[0m\u001b[1;33m(\u001b[0m\u001b[0mself\u001b[0m\u001b[1;33m,\u001b[0m \u001b[0mname\u001b[0m\u001b[1;33m)\u001b[0m\u001b[1;33m\u001b[0m\u001b[1;33m\u001b[0m\u001b[0m\n\u001b[0m\u001b[0;32m   5466\u001b[0m \u001b[1;33m\u001b[0m\u001b[0m\n\u001b[0;32m   5467\u001b[0m     \u001b[1;32mdef\u001b[0m \u001b[0m__setattr__\u001b[0m\u001b[1;33m(\u001b[0m\u001b[0mself\u001b[0m\u001b[1;33m,\u001b[0m \u001b[0mname\u001b[0m\u001b[1;33m:\u001b[0m \u001b[0mstr\u001b[0m\u001b[1;33m,\u001b[0m \u001b[0mvalue\u001b[0m\u001b[1;33m)\u001b[0m \u001b[1;33m->\u001b[0m \u001b[1;32mNone\u001b[0m\u001b[1;33m:\u001b[0m\u001b[1;33m\u001b[0m\u001b[1;33m\u001b[0m\u001b[0m\n",
      "\u001b[1;31mAttributeError\u001b[0m: 'Series' object has no attribute 'value_count'"
     ]
    }
   ],
   "source": [
    "df[\"temp\"].value_count()"
   ]
  },
  {
   "cell_type": "code",
   "execution_count": null,
   "metadata": {},
   "outputs": [],
   "source": []
  }
 ],
 "metadata": {
  "kernelspec": {
   "display_name": "Python 3",
   "language": "python",
   "name": "python3"
  },
  "language_info": {
   "codemirror_mode": {
    "name": "ipython",
    "version": 3
   },
   "file_extension": ".py",
   "mimetype": "text/x-python",
   "name": "python",
   "nbconvert_exporter": "python",
   "pygments_lexer": "ipython3",
   "version": "3.8.12"
  }
 },
 "nbformat": 4,
 "nbformat_minor": 2
}
