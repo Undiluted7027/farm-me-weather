{
 "cells": [
  {
   "cell_type": "code",
   "execution_count": 2,
   "metadata": {},
   "outputs": [],
   "source": [
    "#Importing all the libraries and modules\n",
    "import warnings\n",
    "warnings.filterwarnings('ignore')\n",
    "import numpy as np\n",
    "import pandas as pd\n",
    "from matplotlib import pyplot as plt\n",
    "%matplotlib inline\n",
    "\n",
    "import sklearn\n",
    "from sklearn.model_selection import train_test_split\n",
    "from sklearn.metrics import accuracy_score\n",
    "\n",
    "from sklearn.linear_model import LinearRegression\n",
    "from sklearn import preprocessing"
   ]
  },
  {
   "cell_type": "code",
   "execution_count": 3,
   "metadata": {},
   "outputs": [],
   "source": [
    "weather_df=pd.read_csv(r'C:\\Users\\San\\agritech\\Weather-Prediction-Model-IBM\\Final Datasets\\nTemperature.csv')"
   ]
  },
  {
   "cell_type": "code",
   "execution_count": 4,
   "metadata": {},
   "outputs": [
    {
     "name": "stdout",
     "output_type": "stream",
     "text": [
      "(100990, 9)\n",
      "                Date          Month           Hour     heatindex  \\\n",
      "count  100990.000000  100990.000000  100990.000000  29155.000000   \n",
      "mean       15.690049       6.579344      10.928844     35.651710   \n",
      "std         8.769718       3.475841       6.854328      5.015384   \n",
      "min         1.000000       1.000000       0.000000     26.800000   \n",
      "25%         8.000000       4.000000       5.000000     31.700000   \n",
      "50%        16.000000       7.000000      11.000000     35.100000   \n",
      "75%        23.000000      10.000000      17.000000     39.200000   \n",
      "max        31.000000      12.000000      23.000000     73.600000   \n",
      "\n",
      "            humidity           rain           temp  temp previous  \n",
      "count  100233.000000  100990.000000  100317.000000  100317.000000  \n",
      "mean       57.909481       0.026260      25.451260      25.451269  \n",
      "std        23.807771       0.159908       8.482854       8.482859  \n",
      "min         4.000000       0.000000       1.000000       1.000000  \n",
      "25%        39.000000       0.000000      19.000000      19.000000  \n",
      "50%        59.000000       0.000000      27.000000      27.000000  \n",
      "75%        78.000000       0.000000      32.000000      32.000000  \n",
      "max       243.000000       1.000000      90.000000      90.000000  \n",
      "   Date  Month  Hour   Time  heatindex  humidity  rain  temp  temp previous\n",
      "0     1     11    11  11:00        NaN      27.0     0  28.0           30.0\n",
      "1     1     11    12  12:00        NaN      32.0     0  24.0           28.0\n",
      "2     1     11    13  13:00        NaN      44.0     0  24.0           24.0\n",
      "3     1     11    14  14:00        NaN      41.0     0  23.0           24.0\n",
      "4     1     11    16  16:00        NaN      47.0     0  21.0           23.0\n",
      "Index(['Date', 'Month', 'Hour', 'Time', 'heatindex', 'humidity', 'rain',\n",
      "       'temp', 'temp previous'],\n",
      "      dtype='object')\n"
     ]
    }
   ],
   "source": [
    "print(weather_df.shape)\n",
    "print(weather_df.describe())\n",
    "print(weather_df.head())\n",
    "print(weather_df.columns)\n",
    "weather_df.drop([\"Time\"],axis=1,inplace=True)"
   ]
  },
  {
   "cell_type": "markdown",
   "metadata": {},
   "source": [
    "# Preprocessing the data"
   ]
  },
  {
   "cell_type": "code",
   "execution_count": 5,
   "metadata": {},
   "outputs": [
    {
     "name": "stdout",
     "output_type": "stream",
     "text": [
      "Date             False\n",
      "Month            False\n",
      "Hour             False\n",
      "heatindex         True\n",
      "humidity          True\n",
      "rain             False\n",
      "temp              True\n",
      "temp previous     True\n",
      "dtype: bool\n"
     ]
    }
   ],
   "source": [
    "print(weather_df.isnull().any())"
   ]
  },
  {
   "cell_type": "code",
   "execution_count": 6,
   "metadata": {},
   "outputs": [],
   "source": [
    "# Temperature Previous\n",
    "\n",
    "def replace(j):\n",
    "    if weather_df[\"temp previous\"][j]!=(-10):\n",
    "        return weather_df[\"temp previous\"][j]\n",
    "    else:\n",
    "        return replace(j+1)\n",
    "        \n",
    "weather_df[\"temp previous\"].fillna(-10, inplace = True)\n",
    "\n",
    "for i in range(100990):\n",
    "    if weather_df[\"temp previous\"][i]==-10:\n",
    "        weather_df[\"temp previous\"][i]=(replace(i+1)+weather_df[\"temp previous\"][i-1])/2\n",
    "    elif weather_df[\"temp previous\"][i]>=50:\n",
    "        weather_df[\"temp previous\"][i]=(weather_df[\"temp previous\"][i-1]+weather_df[\"temp previous\"][i+1])/2\n",
    "        "
   ]
  },
  {
   "cell_type": "code",
   "execution_count": 7,
   "metadata": {},
   "outputs": [
    {
     "name": "stdout",
     "output_type": "stream",
     "text": [
      "False\n"
     ]
    },
    {
     "data": {
      "text/plain": [
       "15.5"
      ]
     },
     "execution_count": 7,
     "metadata": {},
     "output_type": "execute_result"
    }
   ],
   "source": [
    "print(weather_df[\"temp previous\"].isnull().any())\n",
    "weather_df[\"temp previous\"][124]"
   ]
  },
  {
   "cell_type": "code",
   "execution_count": 8,
   "metadata": {},
   "outputs": [
    {
     "name": "stdout",
     "output_type": "stream",
     "text": [
      "True\n"
     ]
    }
   ],
   "source": [
    "# Temperature\n",
    "\n",
    "print(weather_df[\"temp\"].isnull().any())\n",
    "\n",
    "weather_df[\"temp\"].fillna(-300, inplace = True)\n",
    "\n",
    "for i in range(100990):\n",
    "    if weather_df[\"temp\"][i]==-300:\n",
    "        weather_df[\"temp\"][i]=weather_df[\"temp previous\"][i+1]\n",
    "    elif weather_df[\"temp\"][i]>100:\n",
    "        weather_df[\"temp\"][i]=weather_df[\"temp previous\"][i+1]\n"
   ]
  },
  {
   "cell_type": "code",
   "execution_count": 9,
   "metadata": {},
   "outputs": [
    {
     "name": "stdout",
     "output_type": "stream",
     "text": [
      "False\n"
     ]
    },
    {
     "data": {
      "text/plain": [
       "15.5"
      ]
     },
     "execution_count": 9,
     "metadata": {},
     "output_type": "execute_result"
    }
   ],
   "source": [
    "print(weather_df[\"temp\"].isnull().any())\n",
    "weather_df[\"temp\"][123]"
   ]
  },
  {
   "cell_type": "code",
   "execution_count": 10,
   "metadata": {},
   "outputs": [
    {
     "name": "stdout",
     "output_type": "stream",
     "text": [
      "False\n"
     ]
    }
   ],
   "source": [
    "# Humidity\n",
    "\n",
    "weather_df[\"humidity\"].fillna(-100, inplace = True)\n",
    "\n",
    "print(weather_df[\"humidity\"].isnull().any())\n",
    "\n",
    "def replace(j):\n",
    "    if weather_df[\"humidity\"][j]!=(-100):\n",
    "        return weather_df[\"humidity\"][j]\n",
    "    else:\n",
    "        return replace(j+1)\n",
    "\n",
    "for i in range(100990):\n",
    "    if weather_df[\"humidity\"][i]==-100:\n",
    "        weather_df[\"humidity\"][i]=(replace(i+1)+weather_df[\"humidity\"][i-1])/2\n",
    "    elif weather_df[\"humidity\"][i]>100:\n",
    "        weather_df[\"humidity\"][i]=(weather_df[\"humidity\"][i-1]+weather_df[\"humidity\"][i+1])/2\n",
    "        "
   ]
  },
  {
   "cell_type": "code",
   "execution_count": 11,
   "metadata": {},
   "outputs": [
    {
     "data": {
      "text/plain": [
       "59.0"
      ]
     },
     "execution_count": 11,
     "metadata": {},
     "output_type": "execute_result"
    }
   ],
   "source": [
    "weather_df[\"humidity\"][124]"
   ]
  },
  {
   "cell_type": "code",
   "execution_count": 12,
   "metadata": {},
   "outputs": [],
   "source": [
    "# Heat Index\n",
    "\n",
    "#This is the function for calculating heat index\n",
    "def HI(t,H):\n",
    "    c1 = -42.379\n",
    "    c2= 2.04901523\n",
    "    c3 = 10.14333127\n",
    "    c4 = -0.22475541\n",
    "    c5 = -6.83783 *(0.001)\n",
    "    c6 = -5.481717 * (0.01)\n",
    "    c7 = 1.22874 * (0.001)\n",
    "    c8 = 8.5282 * (0.0001)\n",
    "    c9 = -1.99 * (0.000001)\n",
    "    T=(1.8*t)+32\n",
    "    HI=c1+(c2*T)+(c3*H)+(c4*T*H)+(c5*T*T)+(c6*H*H)+(c7*T*H*T)+(c8*T*H*H)+(c9*T*H*T*H)\n",
    "    FHI=((HI-32)*5)/9\n",
    "    return FHI\n",
    "\n",
    "weather_df[\"heatindex\"].fillna(-200, inplace = True)\n",
    "\n",
    "\n",
    "for i in range(100990):\n",
    "    if weather_df[\"heatindex\"][i]==-200:\n",
    "        weather_df[\"heatindex\"][i]=HI(weather_df[\"temp previous\"][i],weather_df[\"humidity\"][i])\n",
    "    elif weather_df[\"heatindex\"][i]>60:\n",
    "        weather_df[\"heatindex\"][i]=HI(weather_df[\"temp previous\"][i],weather_df[\"humidity\"][i])\n",
    "        \n",
    "    "
   ]
  },
  {
   "cell_type": "code",
   "execution_count": 16,
   "metadata": {},
   "outputs": [
    {
     "name": "stdout",
     "output_type": "stream",
     "text": [
      "27.90896452244449\n"
     ]
    }
   ],
   "source": [
    "print(weather_df[\"heatindex\"][124])"
   ]
  },
  {
   "cell_type": "code",
   "execution_count": 17,
   "metadata": {},
   "outputs": [],
   "source": [
    "weather_df_num=weather_df[list(weather_df.dtypes[weather_df.dtypes!='object'].index)]\n",
    "weather_y=weather_df_num.pop('temp')\n",
    "weather_x=weather_df_num"
   ]
  },
  {
   "cell_type": "code",
   "execution_count": 18,
   "metadata": {},
   "outputs": [
    {
     "data": {
      "text/html": [
       "<div>\n",
       "<style scoped>\n",
       "    .dataframe tbody tr th:only-of-type {\n",
       "        vertical-align: middle;\n",
       "    }\n",
       "\n",
       "    .dataframe tbody tr th {\n",
       "        vertical-align: top;\n",
       "    }\n",
       "\n",
       "    .dataframe thead th {\n",
       "        text-align: right;\n",
       "    }\n",
       "</style>\n",
       "<table border=\"1\" class=\"dataframe\">\n",
       "  <thead>\n",
       "    <tr style=\"text-align: right;\">\n",
       "      <th></th>\n",
       "      <th>Date</th>\n",
       "      <th>Month</th>\n",
       "      <th>Hour</th>\n",
       "      <th>heatindex</th>\n",
       "      <th>humidity</th>\n",
       "      <th>rain</th>\n",
       "      <th>temp previous</th>\n",
       "    </tr>\n",
       "  </thead>\n",
       "  <tbody>\n",
       "    <tr>\n",
       "      <td>99686</td>\n",
       "      <td>6</td>\n",
       "      <td>1</td>\n",
       "      <td>15</td>\n",
       "      <td>15.316544</td>\n",
       "      <td>96.0</td>\n",
       "      <td>0</td>\n",
       "      <td>18.0</td>\n",
       "    </tr>\n",
       "    <tr>\n",
       "      <td>18305</td>\n",
       "      <td>29</td>\n",
       "      <td>1</td>\n",
       "      <td>10</td>\n",
       "      <td>24.825667</td>\n",
       "      <td>35.0</td>\n",
       "      <td>0</td>\n",
       "      <td>21.0</td>\n",
       "    </tr>\n",
       "    <tr>\n",
       "      <td>91877</td>\n",
       "      <td>20</td>\n",
       "      <td>8</td>\n",
       "      <td>6</td>\n",
       "      <td>36.195542</td>\n",
       "      <td>57.0</td>\n",
       "      <td>0</td>\n",
       "      <td>32.0</td>\n",
       "    </tr>\n",
       "    <tr>\n",
       "      <td>55714</td>\n",
       "      <td>29</td>\n",
       "      <td>2</td>\n",
       "      <td>14</td>\n",
       "      <td>25.389065</td>\n",
       "      <td>47.0</td>\n",
       "      <td>0</td>\n",
       "      <td>24.0</td>\n",
       "    </tr>\n",
       "    <tr>\n",
       "      <td>40664</td>\n",
       "      <td>2</td>\n",
       "      <td>2</td>\n",
       "      <td>7</td>\n",
       "      <td>21.773657</td>\n",
       "      <td>82.0</td>\n",
       "      <td>0</td>\n",
       "      <td>16.0</td>\n",
       "    </tr>\n",
       "  </tbody>\n",
       "</table>\n",
       "</div>"
      ],
      "text/plain": [
       "       Date  Month  Hour  heatindex  humidity  rain  temp previous\n",
       "99686     6      1    15  15.316544      96.0     0           18.0\n",
       "18305    29      1    10  24.825667      35.0     0           21.0\n",
       "91877    20      8     6  36.195542      57.0     0           32.0\n",
       "55714    29      2    14  25.389065      47.0     0           24.0\n",
       "40664     2      2     7  21.773657      82.0     0           16.0"
      ]
     },
     "execution_count": 18,
     "metadata": {},
     "output_type": "execute_result"
    }
   ],
   "source": [
    "train_x,test_x,train_y,test_y=train_test_split(weather_x,weather_y,test_size=0.2,random_state=4)\n",
    "train_x.head()"
   ]
  },
  {
   "cell_type": "code",
   "execution_count": 19,
   "metadata": {},
   "outputs": [
    {
     "data": {
      "text/plain": [
       "LinearRegression(copy_X=True, fit_intercept=True, n_jobs=None, normalize=False)"
      ]
     },
     "execution_count": 19,
     "metadata": {},
     "output_type": "execute_result"
    }
   ],
   "source": [
    "#First Model Linear Regression\n",
    "tlrmodel = LinearRegression()\n",
    "tlrmodel.fit(train_x,train_y)"
   ]
  },
  {
   "cell_type": "code",
   "execution_count": 20,
   "metadata": {},
   "outputs": [
    {
     "name": "stdout",
     "output_type": "stream",
     "text": [
      "       Date  Month  Hour  heatindex  humidity  rain  temp previous\n",
      "16733    18     11     8  26.768215      21.0     0           28.0\n",
      "82934    21      4    15  28.553710      27.0     0           30.0\n",
      "33831    11      4    13  32.450585      13.0     0           35.0\n",
      "22660    14     12    19  25.969198      77.0     0           14.0\n",
      "47063    16      8    14  33.600000      89.0     0           28.0\n",
      "...     ...    ...   ...        ...       ...   ...            ...\n",
      "26343    24      5     8  44.400000      21.0     0           43.0\n",
      "10264    12      9    22  25.540468      94.0     0           25.0\n",
      "17753     4      1    15  26.601143      88.0     0           11.0\n",
      "98956     2     12    12  23.190211      73.0     0           22.0\n",
      "46164    26      7    23  34.500000      79.0     0           29.0\n",
      "\n",
      "[20198 rows x 7 columns]\n"
     ]
    },
    {
     "data": {
      "text/plain": [
       "5.410720261883256"
      ]
     },
     "execution_count": 20,
     "metadata": {},
     "output_type": "execute_result"
    }
   ],
   "source": [
    "print(test_x)\n",
    "prediction=tlrmodel.predict(test_x)\n",
    "#Calculating error\n",
    "np.mean((prediction-test_y)**2)"
   ]
  },
  {
   "cell_type": "code",
   "execution_count": 21,
   "metadata": {},
   "outputs": [
    {
     "name": "stdout",
     "output_type": "stream",
     "text": [
      "(1, 7)\n",
      "[27.67444428 28.63836648 33.58768702 ... 11.28601438 22.18737737\n",
      " 27.29846139] [31.17680504]\n"
     ]
    }
   ],
   "source": [
    "l=[6,7,18,43,65,1,33]\n",
    "x=np.array(l).reshape(1,-1)\n",
    "print(x.shape)\n",
    "prediction=tlrmodel.predict(test_x)\n",
    "print(prediction,tlrmodel.predict(x))"
   ]
  },
  {
   "cell_type": "code",
   "execution_count": 22,
   "metadata": {},
   "outputs": [
    {
     "data": {
      "text/html": [
       "<div>\n",
       "<style scoped>\n",
       "    .dataframe tbody tr th:only-of-type {\n",
       "        vertical-align: middle;\n",
       "    }\n",
       "\n",
       "    .dataframe tbody tr th {\n",
       "        vertical-align: top;\n",
       "    }\n",
       "\n",
       "    .dataframe thead th {\n",
       "        text-align: right;\n",
       "    }\n",
       "</style>\n",
       "<table border=\"1\" class=\"dataframe\">\n",
       "  <thead>\n",
       "    <tr style=\"text-align: right;\">\n",
       "      <th></th>\n",
       "      <th>actual</th>\n",
       "      <th>prediction</th>\n",
       "      <th>diff</th>\n",
       "    </tr>\n",
       "  </thead>\n",
       "  <tbody>\n",
       "    <tr>\n",
       "      <td>16733</td>\n",
       "      <td>28.0</td>\n",
       "      <td>27.674444</td>\n",
       "      <td>0.325556</td>\n",
       "    </tr>\n",
       "    <tr>\n",
       "      <td>82934</td>\n",
       "      <td>27.0</td>\n",
       "      <td>28.638366</td>\n",
       "      <td>-1.638366</td>\n",
       "    </tr>\n",
       "    <tr>\n",
       "      <td>33831</td>\n",
       "      <td>32.0</td>\n",
       "      <td>33.587687</td>\n",
       "      <td>-1.587687</td>\n",
       "    </tr>\n",
       "    <tr>\n",
       "      <td>22660</td>\n",
       "      <td>14.0</td>\n",
       "      <td>13.201690</td>\n",
       "      <td>0.798310</td>\n",
       "    </tr>\n",
       "    <tr>\n",
       "      <td>47063</td>\n",
       "      <td>28.0</td>\n",
       "      <td>28.051453</td>\n",
       "      <td>-0.051453</td>\n",
       "    </tr>\n",
       "    <tr>\n",
       "      <td>...</td>\n",
       "      <td>...</td>\n",
       "      <td>...</td>\n",
       "      <td>...</td>\n",
       "    </tr>\n",
       "    <tr>\n",
       "      <td>26343</td>\n",
       "      <td>43.0</td>\n",
       "      <td>42.379087</td>\n",
       "      <td>0.620913</td>\n",
       "    </tr>\n",
       "    <tr>\n",
       "      <td>10264</td>\n",
       "      <td>25.0</td>\n",
       "      <td>23.880131</td>\n",
       "      <td>1.119869</td>\n",
       "    </tr>\n",
       "    <tr>\n",
       "      <td>17753</td>\n",
       "      <td>10.0</td>\n",
       "      <td>11.286014</td>\n",
       "      <td>-1.286014</td>\n",
       "    </tr>\n",
       "    <tr>\n",
       "      <td>98956</td>\n",
       "      <td>19.0</td>\n",
       "      <td>22.187377</td>\n",
       "      <td>-3.187377</td>\n",
       "    </tr>\n",
       "    <tr>\n",
       "      <td>46164</td>\n",
       "      <td>29.0</td>\n",
       "      <td>27.298461</td>\n",
       "      <td>1.701539</td>\n",
       "    </tr>\n",
       "  </tbody>\n",
       "</table>\n",
       "<p>20198 rows × 3 columns</p>\n",
       "</div>"
      ],
      "text/plain": [
       "       actual  prediction      diff\n",
       "16733    28.0   27.674444  0.325556\n",
       "82934    27.0   28.638366 -1.638366\n",
       "33831    32.0   33.587687 -1.587687\n",
       "22660    14.0   13.201690  0.798310\n",
       "47063    28.0   28.051453 -0.051453\n",
       "...       ...         ...       ...\n",
       "26343    43.0   42.379087  0.620913\n",
       "10264    25.0   23.880131  1.119869\n",
       "17753    10.0   11.286014 -1.286014\n",
       "98956    19.0   22.187377 -3.187377\n",
       "46164    29.0   27.298461  1.701539\n",
       "\n",
       "[20198 rows x 3 columns]"
      ]
     },
     "execution_count": 22,
     "metadata": {},
     "output_type": "execute_result"
    }
   ],
   "source": [
    "pd.DataFrame({'actual':test_y,'prediction':prediction,'diff':(test_y-prediction)})"
   ]
  },
  {
   "cell_type": "code",
   "execution_count": 23,
   "metadata": {},
   "outputs": [
    {
     "name": "stderr",
     "output_type": "stream",
     "text": [
      "C:\\Users\\Mayank\\Anaconda3\\lib\\site-packages\\sklearn\\externals\\joblib\\__init__.py:15: DeprecationWarning: sklearn.externals.joblib is deprecated in 0.21 and will be removed in 0.23. Please import this functionality directly from joblib, which can be installed with: pip install joblib. If this warning is raised when loading pickled models, you may need to re-serialize those models with scikit-learn 0.21+.\n",
      "  warnings.warn(msg, category=DeprecationWarning)\n"
     ]
    },
    {
     "data": {
      "text/plain": [
       "['nTLinearRegression.pkl']"
      ]
     },
     "execution_count": 23,
     "metadata": {},
     "output_type": "execute_result"
    }
   ],
   "source": [
    "from sklearn.externals import joblib \n",
    "  \n",
    "# Save the model as a pickle in a file \n",
    "joblib.dump(tlrmodel, 'nTLinearRegression.pkl') \n",
    "  \n",
    "# Load the model from the file only to be uncommented when to be used \n",
    "#LR = joblib.load('TLinearRegression.pkl')  \n",
    "  \n",
    "# Use the loaded model to make predictions \n",
    "#LR.predict(X_test)"
   ]
  },
  {
   "cell_type": "code",
   "execution_count": 24,
   "metadata": {},
   "outputs": [
    {
     "data": {
      "text/html": [
       "<div>\n",
       "<style scoped>\n",
       "    .dataframe tbody tr th:only-of-type {\n",
       "        vertical-align: middle;\n",
       "    }\n",
       "\n",
       "    .dataframe tbody tr th {\n",
       "        vertical-align: top;\n",
       "    }\n",
       "\n",
       "    .dataframe thead th {\n",
       "        text-align: right;\n",
       "    }\n",
       "</style>\n",
       "<table border=\"1\" class=\"dataframe\">\n",
       "  <thead>\n",
       "    <tr style=\"text-align: right;\">\n",
       "      <th></th>\n",
       "      <th>Date</th>\n",
       "      <th>Month</th>\n",
       "      <th>Hour</th>\n",
       "      <th>heatindex</th>\n",
       "      <th>humidity</th>\n",
       "      <th>rain</th>\n",
       "      <th>temp previous</th>\n",
       "    </tr>\n",
       "  </thead>\n",
       "  <tbody>\n",
       "    <tr>\n",
       "      <td>16733</td>\n",
       "      <td>18</td>\n",
       "      <td>11</td>\n",
       "      <td>8</td>\n",
       "      <td>26.768215</td>\n",
       "      <td>21.0</td>\n",
       "      <td>0</td>\n",
       "      <td>28.0</td>\n",
       "    </tr>\n",
       "    <tr>\n",
       "      <td>82934</td>\n",
       "      <td>21</td>\n",
       "      <td>4</td>\n",
       "      <td>15</td>\n",
       "      <td>28.553710</td>\n",
       "      <td>27.0</td>\n",
       "      <td>0</td>\n",
       "      <td>30.0</td>\n",
       "    </tr>\n",
       "    <tr>\n",
       "      <td>33831</td>\n",
       "      <td>11</td>\n",
       "      <td>4</td>\n",
       "      <td>13</td>\n",
       "      <td>32.450585</td>\n",
       "      <td>13.0</td>\n",
       "      <td>0</td>\n",
       "      <td>35.0</td>\n",
       "    </tr>\n",
       "    <tr>\n",
       "      <td>22660</td>\n",
       "      <td>14</td>\n",
       "      <td>12</td>\n",
       "      <td>19</td>\n",
       "      <td>25.969198</td>\n",
       "      <td>77.0</td>\n",
       "      <td>0</td>\n",
       "      <td>14.0</td>\n",
       "    </tr>\n",
       "    <tr>\n",
       "      <td>47063</td>\n",
       "      <td>16</td>\n",
       "      <td>8</td>\n",
       "      <td>14</td>\n",
       "      <td>33.600000</td>\n",
       "      <td>89.0</td>\n",
       "      <td>0</td>\n",
       "      <td>28.0</td>\n",
       "    </tr>\n",
       "    <tr>\n",
       "      <td>...</td>\n",
       "      <td>...</td>\n",
       "      <td>...</td>\n",
       "      <td>...</td>\n",
       "      <td>...</td>\n",
       "      <td>...</td>\n",
       "      <td>...</td>\n",
       "      <td>...</td>\n",
       "    </tr>\n",
       "    <tr>\n",
       "      <td>26343</td>\n",
       "      <td>24</td>\n",
       "      <td>5</td>\n",
       "      <td>8</td>\n",
       "      <td>44.400000</td>\n",
       "      <td>21.0</td>\n",
       "      <td>0</td>\n",
       "      <td>43.0</td>\n",
       "    </tr>\n",
       "    <tr>\n",
       "      <td>10264</td>\n",
       "      <td>12</td>\n",
       "      <td>9</td>\n",
       "      <td>22</td>\n",
       "      <td>25.540468</td>\n",
       "      <td>94.0</td>\n",
       "      <td>0</td>\n",
       "      <td>25.0</td>\n",
       "    </tr>\n",
       "    <tr>\n",
       "      <td>17753</td>\n",
       "      <td>4</td>\n",
       "      <td>1</td>\n",
       "      <td>15</td>\n",
       "      <td>26.601143</td>\n",
       "      <td>88.0</td>\n",
       "      <td>0</td>\n",
       "      <td>11.0</td>\n",
       "    </tr>\n",
       "    <tr>\n",
       "      <td>98956</td>\n",
       "      <td>2</td>\n",
       "      <td>12</td>\n",
       "      <td>12</td>\n",
       "      <td>23.190211</td>\n",
       "      <td>73.0</td>\n",
       "      <td>0</td>\n",
       "      <td>22.0</td>\n",
       "    </tr>\n",
       "    <tr>\n",
       "      <td>46164</td>\n",
       "      <td>26</td>\n",
       "      <td>7</td>\n",
       "      <td>23</td>\n",
       "      <td>34.500000</td>\n",
       "      <td>79.0</td>\n",
       "      <td>0</td>\n",
       "      <td>29.0</td>\n",
       "    </tr>\n",
       "  </tbody>\n",
       "</table>\n",
       "<p>20198 rows × 7 columns</p>\n",
       "</div>"
      ],
      "text/plain": [
       "       Date  Month  Hour  heatindex  humidity  rain  temp previous\n",
       "16733    18     11     8  26.768215      21.0     0           28.0\n",
       "82934    21      4    15  28.553710      27.0     0           30.0\n",
       "33831    11      4    13  32.450585      13.0     0           35.0\n",
       "22660    14     12    19  25.969198      77.0     0           14.0\n",
       "47063    16      8    14  33.600000      89.0     0           28.0\n",
       "...     ...    ...   ...        ...       ...   ...            ...\n",
       "26343    24      5     8  44.400000      21.0     0           43.0\n",
       "10264    12      9    22  25.540468      94.0     0           25.0\n",
       "17753     4      1    15  26.601143      88.0     0           11.0\n",
       "98956     2     12    12  23.190211      73.0     0           22.0\n",
       "46164    26      7    23  34.500000      79.0     0           29.0\n",
       "\n",
       "[20198 rows x 7 columns]"
      ]
     },
     "execution_count": 24,
     "metadata": {},
     "output_type": "execute_result"
    }
   ],
   "source": [
    "test_x"
   ]
  },
  {
   "cell_type": "code",
   "execution_count": 35,
   "metadata": {},
   "outputs": [],
   "source": [
    "#Polynomial Regression\n",
    "from sklearn.preprocessing import PolynomialFeatures\n",
    "poly=PolynomialFeatures(degree=4)"
   ]
  },
  {
   "cell_type": "code",
   "execution_count": 36,
   "metadata": {},
   "outputs": [
    {
     "data": {
      "text/plain": [
       "LinearRegression(copy_X=True, fit_intercept=True, n_jobs=None, normalize=False)"
      ]
     },
     "execution_count": 36,
     "metadata": {},
     "output_type": "execute_result"
    }
   ],
   "source": [
    "x_poly=poly.fit_transform(train_x)\n",
    "lin2=LinearRegression()\n",
    "poly.fit(x_poly,train_y)\n",
    "lin2.fit(x_poly,train_y)"
   ]
  },
  {
   "cell_type": "code",
   "execution_count": 37,
   "metadata": {},
   "outputs": [
    {
     "data": {
      "text/plain": [
       "3.6012801193157897"
      ]
     },
     "execution_count": 37,
     "metadata": {},
     "output_type": "execute_result"
    }
   ],
   "source": [
    "prediction2 = lin2.predict(poly.fit_transform(test_x))\n",
    "#Calculating the error\n",
    "np.mean((prediction2-test_y)**2)"
   ]
  },
  {
   "cell_type": "code",
   "execution_count": 38,
   "metadata": {},
   "outputs": [
    {
     "data": {
      "text/html": [
       "<div>\n",
       "<style scoped>\n",
       "    .dataframe tbody tr th:only-of-type {\n",
       "        vertical-align: middle;\n",
       "    }\n",
       "\n",
       "    .dataframe tbody tr th {\n",
       "        vertical-align: top;\n",
       "    }\n",
       "\n",
       "    .dataframe thead th {\n",
       "        text-align: right;\n",
       "    }\n",
       "</style>\n",
       "<table border=\"1\" class=\"dataframe\">\n",
       "  <thead>\n",
       "    <tr style=\"text-align: right;\">\n",
       "      <th></th>\n",
       "      <th>actual</th>\n",
       "      <th>prediction</th>\n",
       "      <th>diff</th>\n",
       "    </tr>\n",
       "  </thead>\n",
       "  <tbody>\n",
       "    <tr>\n",
       "      <td>16733</td>\n",
       "      <td>28.0</td>\n",
       "      <td>26.890418</td>\n",
       "      <td>1.109582</td>\n",
       "    </tr>\n",
       "    <tr>\n",
       "      <td>82934</td>\n",
       "      <td>27.0</td>\n",
       "      <td>27.621160</td>\n",
       "      <td>-0.621160</td>\n",
       "    </tr>\n",
       "    <tr>\n",
       "      <td>33831</td>\n",
       "      <td>32.0</td>\n",
       "      <td>31.582420</td>\n",
       "      <td>0.417580</td>\n",
       "    </tr>\n",
       "    <tr>\n",
       "      <td>22660</td>\n",
       "      <td>14.0</td>\n",
       "      <td>12.875534</td>\n",
       "      <td>1.124466</td>\n",
       "    </tr>\n",
       "    <tr>\n",
       "      <td>47063</td>\n",
       "      <td>28.0</td>\n",
       "      <td>27.285692</td>\n",
       "      <td>0.714308</td>\n",
       "    </tr>\n",
       "    <tr>\n",
       "      <td>...</td>\n",
       "      <td>...</td>\n",
       "      <td>...</td>\n",
       "      <td>...</td>\n",
       "    </tr>\n",
       "    <tr>\n",
       "      <td>26343</td>\n",
       "      <td>43.0</td>\n",
       "      <td>42.850978</td>\n",
       "      <td>0.149022</td>\n",
       "    </tr>\n",
       "    <tr>\n",
       "      <td>10264</td>\n",
       "      <td>25.0</td>\n",
       "      <td>25.063772</td>\n",
       "      <td>-0.063772</td>\n",
       "    </tr>\n",
       "    <tr>\n",
       "      <td>17753</td>\n",
       "      <td>10.0</td>\n",
       "      <td>9.513604</td>\n",
       "      <td>0.486396</td>\n",
       "    </tr>\n",
       "    <tr>\n",
       "      <td>98956</td>\n",
       "      <td>19.0</td>\n",
       "      <td>19.624309</td>\n",
       "      <td>-0.624309</td>\n",
       "    </tr>\n",
       "    <tr>\n",
       "      <td>46164</td>\n",
       "      <td>29.0</td>\n",
       "      <td>27.834951</td>\n",
       "      <td>1.165049</td>\n",
       "    </tr>\n",
       "  </tbody>\n",
       "</table>\n",
       "<p>20198 rows × 3 columns</p>\n",
       "</div>"
      ],
      "text/plain": [
       "       actual  prediction      diff\n",
       "16733    28.0   26.890418  1.109582\n",
       "82934    27.0   27.621160 -0.621160\n",
       "33831    32.0   31.582420  0.417580\n",
       "22660    14.0   12.875534  1.124466\n",
       "47063    28.0   27.285692  0.714308\n",
       "...       ...         ...       ...\n",
       "26343    43.0   42.850978  0.149022\n",
       "10264    25.0   25.063772 -0.063772\n",
       "17753    10.0    9.513604  0.486396\n",
       "98956    19.0   19.624309 -0.624309\n",
       "46164    29.0   27.834951  1.165049\n",
       "\n",
       "[20198 rows x 3 columns]"
      ]
     },
     "execution_count": 38,
     "metadata": {},
     "output_type": "execute_result"
    }
   ],
   "source": [
    "pd.DataFrame({'actual':test_y,'prediction':prediction2,'diff':(test_y-prediction2)})"
   ]
  },
  {
   "cell_type": "code",
   "execution_count": 39,
   "metadata": {},
   "outputs": [
    {
     "data": {
      "text/plain": [
       "['nTPolynomialRegression.pkl']"
      ]
     },
     "execution_count": 39,
     "metadata": {},
     "output_type": "execute_result"
    }
   ],
   "source": [
    "#Saving the Polynomial Regression Model\n",
    "from sklearn.externals import joblib \n",
    "joblib.dump(poly, 'nTPoly.pkl') \n",
    "joblib.dump(lin2, 'nTPolynomialRegression.pkl') \n",
    "  \n",
    "# Load the model from the file only to be uncommented when to be used \n",
    "#PR = joblib.load('PRTP.pkl')  \n",
    "  \n",
    "# Use the loaded model to make predictions \n",
    "#PR.predict(X_test)"
   ]
  },
  {
   "cell_type": "code",
   "execution_count": 25,
   "metadata": {},
   "outputs": [
    {
     "data": {
      "text/plain": [
       "DecisionTreeRegressor(criterion='mse', max_depth=None, max_features=None,\n",
       "                      max_leaf_nodes=None, min_impurity_decrease=0.0,\n",
       "                      min_impurity_split=None, min_samples_leaf=1,\n",
       "                      min_samples_split=2, min_weight_fraction_leaf=0.0,\n",
       "                      presort=False, random_state=0, splitter='best')"
      ]
     },
     "execution_count": 25,
     "metadata": {},
     "output_type": "execute_result"
    }
   ],
   "source": [
    "#Decision Tree Model\n",
    "from sklearn.tree import DecisionTreeRegressor\n",
    "regressor = DecisionTreeRegressor(random_state=0)\n",
    "regressor.fit(train_x,train_y)"
   ]
  },
  {
   "cell_type": "code",
   "execution_count": 26,
   "metadata": {},
   "outputs": [
    {
     "name": "stdout",
     "output_type": "stream",
     "text": [
      "5.341675485609135\n",
      "[36.]\n"
     ]
    }
   ],
   "source": [
    "prediction3=regressor.predict(test_x)\n",
    "print(np.mean((prediction3-test_y)**2))\n",
    "dt=np.array([6,7,18,43,65,1,33]).reshape(1,-1)\n",
    "print(regressor.predict(dt))"
   ]
  },
  {
   "cell_type": "code",
   "execution_count": 27,
   "metadata": {},
   "outputs": [
    {
     "data": {
      "text/html": [
       "<div>\n",
       "<style scoped>\n",
       "    .dataframe tbody tr th:only-of-type {\n",
       "        vertical-align: middle;\n",
       "    }\n",
       "\n",
       "    .dataframe tbody tr th {\n",
       "        vertical-align: top;\n",
       "    }\n",
       "\n",
       "    .dataframe thead th {\n",
       "        text-align: right;\n",
       "    }\n",
       "</style>\n",
       "<table border=\"1\" class=\"dataframe\">\n",
       "  <thead>\n",
       "    <tr style=\"text-align: right;\">\n",
       "      <th></th>\n",
       "      <th>actual</th>\n",
       "      <th>prediction</th>\n",
       "      <th>diff</th>\n",
       "    </tr>\n",
       "  </thead>\n",
       "  <tbody>\n",
       "    <tr>\n",
       "      <td>16733</td>\n",
       "      <td>28.0</td>\n",
       "      <td>28.0</td>\n",
       "      <td>0.0</td>\n",
       "    </tr>\n",
       "    <tr>\n",
       "      <td>82934</td>\n",
       "      <td>27.0</td>\n",
       "      <td>31.0</td>\n",
       "      <td>-4.0</td>\n",
       "    </tr>\n",
       "    <tr>\n",
       "      <td>33831</td>\n",
       "      <td>32.0</td>\n",
       "      <td>33.0</td>\n",
       "      <td>-1.0</td>\n",
       "    </tr>\n",
       "    <tr>\n",
       "      <td>22660</td>\n",
       "      <td>14.0</td>\n",
       "      <td>14.0</td>\n",
       "      <td>0.0</td>\n",
       "    </tr>\n",
       "    <tr>\n",
       "      <td>47063</td>\n",
       "      <td>28.0</td>\n",
       "      <td>28.0</td>\n",
       "      <td>0.0</td>\n",
       "    </tr>\n",
       "    <tr>\n",
       "      <td>...</td>\n",
       "      <td>...</td>\n",
       "      <td>...</td>\n",
       "      <td>...</td>\n",
       "    </tr>\n",
       "    <tr>\n",
       "      <td>26343</td>\n",
       "      <td>43.0</td>\n",
       "      <td>43.0</td>\n",
       "      <td>0.0</td>\n",
       "    </tr>\n",
       "    <tr>\n",
       "      <td>10264</td>\n",
       "      <td>25.0</td>\n",
       "      <td>25.0</td>\n",
       "      <td>0.0</td>\n",
       "    </tr>\n",
       "    <tr>\n",
       "      <td>17753</td>\n",
       "      <td>10.0</td>\n",
       "      <td>10.5</td>\n",
       "      <td>-0.5</td>\n",
       "    </tr>\n",
       "    <tr>\n",
       "      <td>98956</td>\n",
       "      <td>19.0</td>\n",
       "      <td>21.0</td>\n",
       "      <td>-2.0</td>\n",
       "    </tr>\n",
       "    <tr>\n",
       "      <td>46164</td>\n",
       "      <td>29.0</td>\n",
       "      <td>29.0</td>\n",
       "      <td>0.0</td>\n",
       "    </tr>\n",
       "  </tbody>\n",
       "</table>\n",
       "<p>20198 rows × 3 columns</p>\n",
       "</div>"
      ],
      "text/plain": [
       "       actual  prediction  diff\n",
       "16733    28.0        28.0   0.0\n",
       "82934    27.0        31.0  -4.0\n",
       "33831    32.0        33.0  -1.0\n",
       "22660    14.0        14.0   0.0\n",
       "47063    28.0        28.0   0.0\n",
       "...       ...         ...   ...\n",
       "26343    43.0        43.0   0.0\n",
       "10264    25.0        25.0   0.0\n",
       "17753    10.0        10.5  -0.5\n",
       "98956    19.0        21.0  -2.0\n",
       "46164    29.0        29.0   0.0\n",
       "\n",
       "[20198 rows x 3 columns]"
      ]
     },
     "execution_count": 27,
     "metadata": {},
     "output_type": "execute_result"
    }
   ],
   "source": [
    "pd.DataFrame({'actual':test_y,'prediction':prediction3,'diff':(test_y-prediction3)})"
   ]
  },
  {
   "cell_type": "code",
   "execution_count": 28,
   "metadata": {},
   "outputs": [
    {
     "data": {
      "text/plain": [
       "['nTDecisionTree.pkl']"
      ]
     },
     "execution_count": 28,
     "metadata": {},
     "output_type": "execute_result"
    }
   ],
   "source": [
    "#Saving the Decision Tree\n",
    "joblib.dump(regressor, 'nTDecisionTree.pkl') \n",
    "\n",
    "# Load the model from the file only to be uncommented when to be used \n",
    "#DT = joblib.load('TDecision.pkl')  \n",
    "  \n",
    "# Use the loaded model to make predictions \n",
    "#DT.predict(X_test)"
   ]
  },
  {
   "cell_type": "code",
   "execution_count": 29,
   "metadata": {},
   "outputs": [
    {
     "data": {
      "text/plain": [
       "RandomForestRegressor(bootstrap=True, criterion='mse', max_depth=60,\n",
       "                      max_features='auto', max_leaf_nodes=None,\n",
       "                      min_impurity_decrease=0.0, min_impurity_split=None,\n",
       "                      min_samples_leaf=1, min_samples_split=2,\n",
       "                      min_weight_fraction_leaf=0.0, n_estimators=100,\n",
       "                      n_jobs=None, oob_score=False, random_state=0, verbose=0,\n",
       "                      warm_start=False)"
      ]
     },
     "execution_count": 29,
     "metadata": {},
     "output_type": "execute_result"
    }
   ],
   "source": [
    "#Random Forest Model\n",
    "from sklearn.ensemble import RandomForestRegressor\n",
    "regr=RandomForestRegressor(max_depth=60,random_state=0,n_estimators=100)\n",
    "regr.fit(train_x,train_y)"
   ]
  },
  {
   "cell_type": "code",
   "execution_count": 30,
   "metadata": {},
   "outputs": [
    {
     "data": {
      "text/plain": [
       "3.1968962072291185"
      ]
     },
     "execution_count": 30,
     "metadata": {},
     "output_type": "execute_result"
    }
   ],
   "source": [
    "prediction4=regr.predict(test_x)\n",
    "np.mean((prediction4-test_y)**2)"
   ]
  },
  {
   "cell_type": "code",
   "execution_count": 31,
   "metadata": {},
   "outputs": [
    {
     "data": {
      "text/plain": [
       "array([32.47])"
      ]
     },
     "execution_count": 31,
     "metadata": {},
     "output_type": "execute_result"
    }
   ],
   "source": [
    "regr.predict(dt)"
   ]
  },
  {
   "cell_type": "code",
   "execution_count": 32,
   "metadata": {},
   "outputs": [
    {
     "data": {
      "text/html": [
       "<div>\n",
       "<style scoped>\n",
       "    .dataframe tbody tr th:only-of-type {\n",
       "        vertical-align: middle;\n",
       "    }\n",
       "\n",
       "    .dataframe tbody tr th {\n",
       "        vertical-align: top;\n",
       "    }\n",
       "\n",
       "    .dataframe thead th {\n",
       "        text-align: right;\n",
       "    }\n",
       "</style>\n",
       "<table border=\"1\" class=\"dataframe\">\n",
       "  <thead>\n",
       "    <tr style=\"text-align: right;\">\n",
       "      <th></th>\n",
       "      <th>actual</th>\n",
       "      <th>prediction</th>\n",
       "      <th>diff</th>\n",
       "    </tr>\n",
       "  </thead>\n",
       "  <tbody>\n",
       "    <tr>\n",
       "      <td>16733</td>\n",
       "      <td>28.0</td>\n",
       "      <td>28.150000</td>\n",
       "      <td>-0.150000</td>\n",
       "    </tr>\n",
       "    <tr>\n",
       "      <td>82934</td>\n",
       "      <td>27.0</td>\n",
       "      <td>28.820000</td>\n",
       "      <td>-1.820000</td>\n",
       "    </tr>\n",
       "    <tr>\n",
       "      <td>33831</td>\n",
       "      <td>32.0</td>\n",
       "      <td>33.060000</td>\n",
       "      <td>-1.060000</td>\n",
       "    </tr>\n",
       "    <tr>\n",
       "      <td>22660</td>\n",
       "      <td>14.0</td>\n",
       "      <td>13.365000</td>\n",
       "      <td>0.635000</td>\n",
       "    </tr>\n",
       "    <tr>\n",
       "      <td>47063</td>\n",
       "      <td>28.0</td>\n",
       "      <td>27.830000</td>\n",
       "      <td>0.170000</td>\n",
       "    </tr>\n",
       "    <tr>\n",
       "      <td>...</td>\n",
       "      <td>...</td>\n",
       "      <td>...</td>\n",
       "      <td>...</td>\n",
       "    </tr>\n",
       "    <tr>\n",
       "      <td>26343</td>\n",
       "      <td>43.0</td>\n",
       "      <td>42.680000</td>\n",
       "      <td>0.320000</td>\n",
       "    </tr>\n",
       "    <tr>\n",
       "      <td>10264</td>\n",
       "      <td>25.0</td>\n",
       "      <td>24.990000</td>\n",
       "      <td>0.010000</td>\n",
       "    </tr>\n",
       "    <tr>\n",
       "      <td>17753</td>\n",
       "      <td>10.0</td>\n",
       "      <td>10.625167</td>\n",
       "      <td>-0.625167</td>\n",
       "    </tr>\n",
       "    <tr>\n",
       "      <td>98956</td>\n",
       "      <td>19.0</td>\n",
       "      <td>20.530000</td>\n",
       "      <td>-1.530000</td>\n",
       "    </tr>\n",
       "    <tr>\n",
       "      <td>46164</td>\n",
       "      <td>29.0</td>\n",
       "      <td>29.000000</td>\n",
       "      <td>0.000000</td>\n",
       "    </tr>\n",
       "  </tbody>\n",
       "</table>\n",
       "<p>20198 rows × 3 columns</p>\n",
       "</div>"
      ],
      "text/plain": [
       "       actual  prediction      diff\n",
       "16733    28.0   28.150000 -0.150000\n",
       "82934    27.0   28.820000 -1.820000\n",
       "33831    32.0   33.060000 -1.060000\n",
       "22660    14.0   13.365000  0.635000\n",
       "47063    28.0   27.830000  0.170000\n",
       "...       ...         ...       ...\n",
       "26343    43.0   42.680000  0.320000\n",
       "10264    25.0   24.990000  0.010000\n",
       "17753    10.0   10.625167 -0.625167\n",
       "98956    19.0   20.530000 -1.530000\n",
       "46164    29.0   29.000000  0.000000\n",
       "\n",
       "[20198 rows x 3 columns]"
      ]
     },
     "execution_count": 32,
     "metadata": {},
     "output_type": "execute_result"
    }
   ],
   "source": [
    "pd.DataFrame({'actual':test_y,'prediction':prediction4,'diff':(test_y-prediction4)})"
   ]
  },
  {
   "cell_type": "code",
   "execution_count": 33,
   "metadata": {},
   "outputs": [
    {
     "data": {
      "text/plain": [
       "['nTRandomForest.pkl']"
      ]
     },
     "execution_count": 33,
     "metadata": {},
     "output_type": "execute_result"
    }
   ],
   "source": [
    "from sklearn.externals import joblib \n",
    "  \n",
    "# Save the model as a pickle in a file \n",
    "joblib.dump(regr, 'nTRandomForest.pkl') \n",
    "  \n",
    "# Load the model from the file only to be uncommented when to be used \n",
    "#RF = joblib.load('TRandomForest.pkl')  \n",
    "  \n",
    "# Use the loaded model to make predictions \n",
    "#TEMP.predict(X_test)"
   ]
  },
  {
   "cell_type": "code",
   "execution_count": 34,
   "metadata": {},
   "outputs": [
    {
     "data": {
      "text/plain": [
       "<matplotlib.collections.PathCollection at 0x1d601c1d308>"
      ]
     },
     "execution_count": 34,
     "metadata": {},
     "output_type": "execute_result"
    },
    {
     "data": {
      "image/png": "[encoded data removed]",
      "text/plain": [
       "<Figure size 432x288 with 1 Axes>"
      ]
     },
     "metadata": {
      "needs_background": "light"
     },
     "output_type": "display_data"
    }
   ],
   "source": [
    "plt.scatter(prediction4,test_y)"
   ]
  },
  {
   "cell_type": "code",
   "execution_count": 31,
   "metadata": {},
   "outputs": [],
   "source": [
    "from datetime import datetime\n",
    "datetime.today()\n",
    "date=datetime.now()\n"
   ]
  },
  {
   "cell_type": "code",
   "execution_count": 32,
   "metadata": {},
   "outputs": [
    {
     "name": "stdout",
     "output_type": "stream",
     "text": [
      "29 14 6\n"
     ]
    }
   ],
   "source": [
    "D=date.day\n",
    "H=date.hour\n",
    "M=date.month\n",
    "print(D,H,M)"
   ]
  },
  {
   "cell_type": "code",
   "execution_count": 40,
   "metadata": {},
   "outputs": [
    {
     "name": "stdout",
     "output_type": "stream",
     "text": [
      "[35.42938137] 14 29 6\n",
      "[36.89606283] 15 29 6\n",
      "[37.76151906] 16 29 6\n",
      "[38.25149816] 17 29 6\n",
      "[38.50698433] 18 29 6\n",
      "[38.61602499] 19 29 6\n",
      "[38.63360753] 20 29 6\n",
      "[38.59407265] 21 29 6\n",
      "[38.5188668] 22 29 6\n",
      "[38.42138372] 23 29 6\n",
      "[39.52858411] 0 30 6\n",
      "[40.16953724] 1 30 6\n",
      "[40.5193097] 2 30 6\n",
      "[40.68723403] 3 30 6\n",
      "[40.74159059] 4 30 6\n",
      "[40.72502181] 5 30 6\n",
      "[40.66415875] 6 30 6\n",
      "[40.57563303] 7 30 6\n",
      "[40.46983143] 8 30 6\n",
      "[40.3532407] 9 30 6\n",
      "[40.22991194] 10 30 6\n",
      "[40.10237515] 11 30 6\n",
      "[39.97221036] 12 30 6\n",
      "[39.84040433] 13 30 6\n",
      "[39.70757332] 14 30 6\n",
      "[39.57410218] 15 30 6\n",
      "[39.44023127] 16 30 6\n",
      "[39.30611069] 17 30 6\n",
      "[39.1718342] 18 30 6\n",
      "[39.03746033] 19 30 6\n",
      "[38.90302565] 20 30 6\n",
      "[38.76855298] 21 30 6\n",
      "[38.6340566] 22 30 6\n",
      "[38.49954541] 23 30 6\n",
      "[39.54145677] 0 1 7\n",
      "[40.14163561] 1 1 7\n",
      "[40.46594371] 2 1 7\n",
      "[40.61796504] 3 1 7\n",
      "[40.66238986] 4 1 7\n",
      "[40.63961852] 5 1 7\n",
      "[40.57488183] 6 1 7\n",
      "[40.48393696] 7 1 7\n",
      "[40.37662454] 8 1 7\n",
      "[40.25909028] 9 1 7\n",
      "[40.13517227] 10 1 7\n",
      "[40.00726747] 11 1 7\n",
      "[39.87687286] 12 1 7\n",
      "[39.7449233] 13 1 7\n",
      "[39.61200265] 14 1 7\n",
      "[39.47847553] 15 1 7\n",
      "[39.34456966] 16 1 7\n",
      "[39.21042725] 17 1 7\n",
      "[39.07613712] 18 1 7\n",
      "[38.94175474] 19 1 7\n",
      "[38.80731474] 20 1 7\n",
      "[38.67283875] 21 1 7\n",
      "[38.5383403] 22 1 7\n",
      "[38.40382781] 23 1 7\n",
      "[39.48790259] 0 2 7\n",
      "[40.11441332] 1 2 7\n",
      "[40.45516621] 2 2 7\n",
      "[40.61745765] 3 2 7\n",
      "[40.66829635] 4 2 7\n",
      "[40.6495306] 5 2 7\n",
      "[40.58729549] 6 2 7\n",
      "[40.49791289] 7 2 7\n",
      "[40.39157616] 8 2 7\n",
      "[40.27465122] 9 2 7\n",
      "[40.15111375] 10 2 7\n",
      "[40.02344661] 11 2 7\n",
      "[39.89320042] 12 2 7\n",
      "[39.76134355] 13 2 7\n",
      "[39.62848078] 14 2 7\n",
      "[39.49498981] 15 2 7\n",
      "[39.36110652] 16 2 7\n",
      "[39.22697821] 17 2 7\n",
      "[39.09269689] 18 2 7\n",
      "[38.95832] 19 2 7\n",
      "[38.82388344] 20 2 7\n",
      "[38.6894096] 21 2 7\n",
      "[38.55491249] 22 2 7\n",
      "[38.42040083] 23 2 7\n",
      "[39.50447613] 0 3 7\n",
      "[40.1309872] 1 3 7\n",
      "[40.47174029] 2 3 7\n",
      "[40.63403185] 3 3 7\n",
      "[40.68487063] 4 3 7\n",
      "[40.66610493] 5 3 7\n",
      "[40.60386985] 6 3 7\n",
      "[40.51448728] 7 3 7\n",
      "[40.40815055] 8 3 7\n",
      "[40.29122563] 9 3 7\n",
      "[40.16768816] 10 3 7\n",
      "[40.04002102] 11 3 7\n",
      "[39.90977483] 12 3 7\n",
      "[39.77791796] 13 3 7\n",
      "[39.6450552] 14 3 7\n",
      "[39.51156423] 15 3 7\n",
      "[39.37768094] 16 3 7\n",
      "[39.24355263] 17 3 7\n",
      "[39.10927131] 18 3 7\n",
      "[38.97489442] 19 3 7\n",
      "[38.84045785] 20 3 7\n",
      "[38.70598402] 21 3 7\n",
      "[38.5714869] 22 3 7\n",
      "[38.43697525] 23 3 7\n",
      "[39.52105055] 0 4 7\n",
      "[40.14756161] 1 4 7\n",
      "[40.48831471] 2 4 7\n",
      "[40.65060627] 3 4 7\n",
      "[40.70144505] 4 4 7\n",
      "[40.68267935] 5 4 7\n",
      "[40.62044427] 6 4 7\n",
      "[40.53106169] 7 4 7\n",
      "[40.42472497] 8 4 7\n",
      "[40.30780004] 9 4 7\n",
      "[40.18426257] 10 4 7\n",
      "[40.05659544] 11 4 7\n",
      "[39.92634924] 12 4 7\n",
      "[39.79449238] 13 4 7\n",
      "[39.66162961] 14 4 7\n",
      "[39.52813865] 15 4 7\n",
      "[39.39425535] 16 4 7\n",
      "[39.26012705] 17 4 7\n",
      "[39.12584572] 18 4 7\n",
      "[38.99146884] 19 4 7\n",
      "[38.85703227] 20 4 7\n",
      "[38.72255843] 21 4 7\n",
      "[38.58806132] 22 4 7\n",
      "[38.45354967] 23 4 7\n",
      "[39.53762497] 0 5 7\n",
      "[40.16413603] 1 5 7\n",
      "[40.50488912] 2 5 7\n",
      "[40.66718068] 3 5 7\n",
      "[40.71801946] 4 5 7\n",
      "[40.69925376] 5 5 7\n",
      "[40.63701868] 6 5 7\n",
      "[40.54763611] 7 5 7\n",
      "[40.44129939] 8 5 7\n",
      "[40.32437446] 9 5 7\n",
      "[40.20083699] 10 5 7\n",
      "[40.07316985] 11 5 7\n",
      "[39.94292366] 12 5 7\n",
      "[39.81106679] 13 5 7\n",
      "[39.67820403] 14 5 7\n",
      "[39.54471306] 15 5 7\n",
      "[39.41082977] 16 5 7\n",
      "[39.27670146] 17 5 7\n",
      "[39.14242014] 18 5 7\n",
      "[39.00804325] 19 5 7\n",
      "[38.87360669] 20 5 7\n",
      "[38.73913285] 21 5 7\n",
      "[38.60463573] 22 5 7\n",
      "[38.47012408] 23 5 7\n",
      "[39.55419938] 0 6 7\n",
      "[40.18071044] 1 6 7\n",
      "[40.52146354] 2 6 7\n",
      "[40.6837551] 3 6 7\n",
      "[40.73459388] 4 6 7\n",
      "[40.71582818] 5 6 7\n",
      "[40.6535931] 6 6 7\n",
      "[40.56421053] 7 6 7\n",
      "[40.4578738] 8 6 7\n",
      "[40.34094888] 9 6 7\n",
      "[40.21741141] 10 6 7\n",
      "[40.08974427] 11 6 7\n",
      "[39.95949808] 12 6 7\n",
      "[39.82764121] 13 6 7\n",
      "[39.69477844] 14 6 7\n",
      "[39.56128748] 15 6 7\n",
      "[39.42740419] 16 6 7\n",
      "[39.29327588] 17 6 7\n",
      "[39.15899455] 18 6 7\n",
      "[39.02461767] 19 6 7\n",
      "[38.8901811] 20 6 7\n",
      "[38.75570726] 21 6 7\n",
      "[38.62121015] 22 6 7\n",
      "[38.4866985] 23 6 7\n",
      "[39.5707738] 0 7 7\n",
      "[40.19728486] 1 7 7\n",
      "[40.53803795] 2 7 7\n",
      "[40.70032951] 3 7 7\n",
      "[40.75116829] 4 7 7\n",
      "[40.73240259] 5 7 7\n",
      "[40.67016751] 6 7 7\n",
      "[40.58078494] 7 7 7\n",
      "[40.47444822] 8 7 7\n",
      "[40.35752329] 9 7 7\n",
      "[40.23398582] 10 7 7\n",
      "[40.10631869] 11 7 7\n",
      "[39.97607249] 12 7 7\n",
      "[39.84421563] 13 7 7\n",
      "[39.71135286] 14 7 7\n",
      "[39.57786189] 15 7 7\n",
      "[39.4439786] 16 7 7\n",
      "[39.30985029] 17 7 7\n",
      "[39.17556897] 18 7 7\n",
      "[39.04119208] 19 7 7\n",
      "[38.90675552] 20 7 7\n",
      "[38.77228168] 21 7 7\n",
      "[38.63778457] 22 7 7\n",
      "[38.50327291] 23 7 7\n",
      "[39.58734821] 0 8 7\n",
      "[40.21385928] 1 8 7\n",
      "[40.55461237] 2 8 7\n",
      "[40.71690393] 3 8 7\n",
      "[40.76774271] 4 8 7\n",
      "[40.74897701] 5 8 7\n",
      "[40.68674193] 6 8 7\n",
      "[40.59735936] 7 8 7\n",
      "[40.49102263] 8 8 7\n",
      "[40.37409771] 9 8 7\n",
      "[40.25056024] 10 8 7\n",
      "[40.1228931] 11 8 7\n",
      "[39.99264691] 12 8 7\n",
      "[39.86079004] 13 8 7\n",
      "[39.72792728] 14 8 7\n",
      "[39.59443631] 15 8 7\n",
      "[39.46055302] 16 8 7\n",
      "[39.32642471] 17 8 7\n",
      "[39.19214339] 18 8 7\n",
      "[39.0577665] 19 8 7\n",
      "[38.92332993] 20 8 7\n",
      "[38.7888561] 21 8 7\n",
      "[38.65435898] 22 8 7\n",
      "[38.51984733] 23 8 7\n",
      "[39.60392263] 0 9 7\n",
      "[40.23043369] 1 9 7\n",
      "[40.57118679] 2 9 7\n",
      "[40.73347835] 3 9 7\n",
      "[40.78431712] 4 9 7\n",
      "[40.76555143] 5 9 7\n",
      "[40.70331635] 6 9 7\n",
      "[40.61393377] 7 9 7\n",
      "[40.50759705] 8 9 7\n",
      "[40.39067212] 9 9 7\n",
      "[40.26713465] 10 9 7\n",
      "[40.13946752] 11 9 7\n",
      "[40.00922132] 12 9 7\n",
      "[39.87736446] 13 9 7\n",
      "[39.74450169] 14 9 7\n",
      "[39.61101073] 15 9 7\n",
      "[39.47712743] 16 9 7\n",
      "[39.34299913] 17 9 7\n",
      "[39.2087178] 18 9 7\n",
      "[39.07434092] 19 9 7\n",
      "[38.93990435] 20 9 7\n",
      "[38.80543051] 21 9 7\n",
      "[38.6709334] 22 9 7\n",
      "[38.53642175] 23 9 7\n",
      "[39.62049705] 0 10 7\n",
      "[40.24700811] 1 10 7\n",
      "[40.5877612] 2 10 7\n",
      "[40.75005276] 3 10 7\n",
      "[40.80089154] 4 10 7\n",
      "[40.78212584] 5 10 7\n",
      "[40.71989076] 6 10 7\n",
      "[40.63050819] 7 10 7\n",
      "[40.52417147] 8 10 7\n",
      "[40.40724654] 9 10 7\n",
      "[40.28370907] 10 10 7\n",
      "[40.15604193] 11 10 7\n",
      "[40.02579574] 12 10 7\n",
      "[39.89393887] 13 10 7\n",
      "[39.76107611] 14 10 7\n",
      "[39.62758514] 15 10 7\n",
      "[39.49370185] 16 10 7\n",
      "[39.35957354] 17 10 7\n",
      "[39.22529222] 18 10 7\n",
      "[39.09091533] 19 10 7\n",
      "[38.95647877] 20 10 7\n",
      "[38.82200493] 21 10 7\n",
      "[38.68750781] 22 10 7\n",
      "[38.55299616] 23 10 7\n",
      "[39.63707146] 0 11 7\n",
      "[40.26358252] 1 11 7\n",
      "[40.60433562] 2 11 7\n",
      "[40.76662718] 3 11 7\n",
      "[40.81746596] 4 11 7\n",
      "[40.79870026] 5 11 7\n",
      "[40.73646518] 6 11 7\n",
      "[40.64708261] 7 11 7\n",
      "[40.54074588] 8 11 7\n",
      "[40.42382096] 9 11 7\n",
      "[40.30028349] 10 11 7\n",
      "[40.17261635] 11 11 7\n",
      "[40.04237016] 12 11 7\n",
      "[39.91051329] 13 11 7\n",
      "[39.77765052] 14 11 7\n",
      "[39.64415956] 15 11 7\n",
      "[39.51027627] 16 11 7\n",
      "[39.37614796] 17 11 7\n",
      "[39.24186663] 18 11 7\n",
      "[39.10748975] 19 11 7\n",
      "[38.97305318] 20 11 7\n",
      "[38.83857934] 21 11 7\n",
      "[38.70408223] 22 11 7\n",
      "[38.56957058] 23 11 7\n",
      "[39.65364588] 0 12 7\n",
      "[40.28015694] 1 12 7\n",
      "[40.62091003] 2 12 7\n",
      "[40.78320159] 3 12 7\n",
      "[40.83404037] 4 12 7\n",
      "[40.81527467] 5 12 7\n",
      "[40.75303959] 6 12 7\n",
      "[40.66365702] 7 12 7\n",
      "[40.5573203] 8 12 7\n",
      "[40.44039537] 9 12 7\n",
      "[40.3168579] 10 12 7\n",
      "[40.18919077] 11 12 7\n",
      "[40.05894457] 12 12 7\n",
      "[39.9270877] 13 12 7\n",
      "[39.79422494] 14 12 7\n",
      "[39.66073397] 15 12 7\n",
      "[39.52685068] 16 12 7\n",
      "[39.39272237] 17 12 7\n",
      "[39.25844105] 18 12 7\n",
      "[39.12406416] 19 12 7\n",
      "[38.9896276] 20 12 7\n",
      "[38.85515376] 21 12 7\n",
      "[38.72065665] 22 12 7\n",
      "[38.58614499] 23 12 7\n",
      "[39.67022029] 0 13 7\n",
      "[40.29673136] 1 13 7\n",
      "[40.63748445] 2 13 7\n",
      "[40.79977601] 3 13 7\n",
      "[40.85061479] 4 13 7\n",
      "[40.83184909] 5 13 7\n",
      "[40.76961401] 6 13 7\n",
      "[40.68023144] 7 13 7\n",
      "[40.57389471] 8 13 7\n",
      "[40.45696979] 9 13 7\n",
      "[40.33343232] 10 13 7\n",
      "[40.20576518] 11 13 7\n",
      "[40.07551899] 12 13 7\n",
      "[39.94366212] 13 13 7\n"
     ]
    }
   ],
   "source": [
    "#For hourly, daily, weekly and min max temp details\n",
    "L=[]\n",
    "import random\n",
    "D=date.day\n",
    "H=date.hour\n",
    "M=date.month\n",
    "tp=33\n",
    "for d in range(1,15):\n",
    "    for h in range(1,25):\n",
    "        para=np.array([D,M,H,48,45,0,tp]).reshape(1,-1)\n",
    "        p=tlrmodel.predict(para)\n",
    "        print(p,H,D,M)\n",
    "        tp=list(p)[0]\n",
    "        H+=1\n",
    "        if H==24:\n",
    "            H=0\n",
    "            h=24\n",
    "            D+=1\n",
    "        if D==31:\n",
    "            M+=1\n",
    "            D=1\n",
    "        \n"
   ]
  },
  {
   "cell_type": "code",
   "execution_count": 50,
   "metadata": {},
   "outputs": [
    {
     "ename": "AttributeError",
     "evalue": "'Series' object has no attribute 'value_count'",
     "output_type": "error",
     "traceback": [
      "\u001b[1;31m---------------------------------------------------------------------------\u001b[0m",
      "\u001b[1;31mAttributeError\u001b[0m                            Traceback (most recent call last)",
      "\u001b[1;32m<ipython-input-50-7cec00008b5b>\u001b[0m in \u001b[0;36m<module>\u001b[1;34m\u001b[0m\n\u001b[1;32m----> 1\u001b[1;33m \u001b[0mweather_df\u001b[0m\u001b[1;33m[\u001b[0m\u001b[1;34m\"temp\"\u001b[0m\u001b[1;33m]\u001b[0m\u001b[1;33m.\u001b[0m\u001b[0mvalue_count\u001b[0m\u001b[1;33m(\u001b[0m\u001b[1;33m)\u001b[0m\u001b[1;33m\u001b[0m\u001b[1;33m\u001b[0m\u001b[0m\n\u001b[0m",
      "\u001b[1;32m~\\Anaconda3\\lib\\site-packages\\pandas\\core\\generic.py\u001b[0m in \u001b[0;36m__getattr__\u001b[1;34m(self, name)\u001b[0m\n\u001b[0;32m   5177\u001b[0m             \u001b[1;32mif\u001b[0m \u001b[0mself\u001b[0m\u001b[1;33m.\u001b[0m\u001b[0m_info_axis\u001b[0m\u001b[1;33m.\u001b[0m\u001b[0m_can_hold_identifiers_and_holds_name\u001b[0m\u001b[1;33m(\u001b[0m\u001b[0mname\u001b[0m\u001b[1;33m)\u001b[0m\u001b[1;33m:\u001b[0m\u001b[1;33m\u001b[0m\u001b[1;33m\u001b[0m\u001b[0m\n\u001b[0;32m   5178\u001b[0m                 \u001b[1;32mreturn\u001b[0m \u001b[0mself\u001b[0m\u001b[1;33m[\u001b[0m\u001b[0mname\u001b[0m\u001b[1;33m]\u001b[0m\u001b[1;33m\u001b[0m\u001b[1;33m\u001b[0m\u001b[0m\n\u001b[1;32m-> 5179\u001b[1;33m             \u001b[1;32mreturn\u001b[0m \u001b[0mobject\u001b[0m\u001b[1;33m.\u001b[0m\u001b[0m__getattribute__\u001b[0m\u001b[1;33m(\u001b[0m\u001b[0mself\u001b[0m\u001b[1;33m,\u001b[0m \u001b[0mname\u001b[0m\u001b[1;33m)\u001b[0m\u001b[1;33m\u001b[0m\u001b[1;33m\u001b[0m\u001b[0m\n\u001b[0m\u001b[0;32m   5180\u001b[0m \u001b[1;33m\u001b[0m\u001b[0m\n\u001b[0;32m   5181\u001b[0m     \u001b[1;32mdef\u001b[0m \u001b[0m__setattr__\u001b[0m\u001b[1;33m(\u001b[0m\u001b[0mself\u001b[0m\u001b[1;33m,\u001b[0m \u001b[0mname\u001b[0m\u001b[1;33m,\u001b[0m \u001b[0mvalue\u001b[0m\u001b[1;33m)\u001b[0m\u001b[1;33m:\u001b[0m\u001b[1;33m\u001b[0m\u001b[1;33m\u001b[0m\u001b[0m\n",
      "\u001b[1;31mAttributeError\u001b[0m: 'Series' object has no attribute 'value_count'"
     ]
    }
   ],
   "source": [
    "weather_df[\"temp\"].value_count()"
   ]
  },
  {
   "cell_type": "code",
   "execution_count": null,
   "metadata": {},
   "outputs": [],
   "source": []
  }
 ],
 "metadata": {
  "kernelspec": {
   "display_name": "Python 3",
   "language": "python",
   "name": "python3"
  },
  "language_info": {
   "codemirror_mode": {
    "name": "ipython",
    "version": 3
   },
   "file_extension": ".py",
   "mimetype": "text/x-python",
   "name": "python",
   "nbconvert_exporter": "python",
   "pygments_lexer": "ipython3",
   "version": "3.8.8"
  }
 },
 "nbformat": 4,
 "nbformat_minor": 2
}
