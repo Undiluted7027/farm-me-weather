{
 "cells": [
  {
   "cell_type": "code",
   "execution_count": 1,
   "metadata": {},
   "outputs": [
    {
     "name": "stderr",
     "output_type": "stream",
     "text": [
      "/home/pi/mausam/mausam-main/mausamm/lib/python3.8/site-packages/pandas/compat/__init__.py:124: UserWarning: Could not import the lzma module. Your installed Python is incomplete. Attempting to use lzma compression will result in a RuntimeError.\n",
      "  warnings.warn(msg)\n"
     ]
    }
   ],
   "source": [
    "#Importing all the libraries and modules\n",
    "import numpy as np\n",
    "import pandas as pd\n",
    "from matplotlib import pyplot as plt\n",
    "%matplotlib inline\n",
    "\n",
    "import sklearn\n",
    "from sklearn.model_selection import train_test_split\n",
    "from sklearn.metrics import accuracy_score\n",
    "\n",
    "from sklearn.linear_model import LinearRegression\n",
    "from sklearn import preprocessing"
   ]
  },
  {
   "cell_type": "code",
   "execution_count": 2,
   "metadata": {},
   "outputs": [],
   "source": [
    "weather_df=pd.read_csv(r\"/home/pi/mausam/mausam-main/models/Final Datasets/nTemperature.csv\")"
   ]
  },
  {
   "cell_type": "code",
   "execution_count": 3,
   "metadata": {},
   "outputs": [
    {
     "name": "stdout",
     "output_type": "stream",
     "text": [
      "(100990, 9)\n",
      "                Date          Month           Hour     heatindex  \\\n",
      "count  100990.000000  100990.000000  100990.000000  29155.000000   \n",
      "mean       15.690049       6.579344      10.928844     35.651710   \n",
      "std         8.769718       3.475841       6.854328      5.015384   \n",
      "min         1.000000       1.000000       0.000000     26.800000   \n",
      "25%         8.000000       4.000000       5.000000     31.700000   \n",
      "50%        16.000000       7.000000      11.000000     35.100000   \n",
      "75%        23.000000      10.000000      17.000000     39.200000   \n",
      "max        31.000000      12.000000      23.000000     73.600000   \n",
      "\n",
      "            humidity           rain           temp  temp previous  \n",
      "count  100233.000000  100990.000000  100317.000000  100317.000000  \n",
      "mean       57.909481       0.026260      25.451260      25.451269  \n",
      "std        23.807771       0.159908       8.482854       8.482859  \n",
      "min         4.000000       0.000000       1.000000       1.000000  \n",
      "25%        39.000000       0.000000      19.000000      19.000000  \n",
      "50%        59.000000       0.000000      27.000000      27.000000  \n",
      "75%        78.000000       0.000000      32.000000      32.000000  \n",
      "max       243.000000       1.000000      90.000000      90.000000  \n",
      "   Date  Month  Hour   Time  heatindex  humidity  rain  temp  temp previous\n",
      "0     1     11    11  11:00        NaN      27.0     0  28.0           30.0\n",
      "1     1     11    12  12:00        NaN      32.0     0  24.0           28.0\n",
      "2     1     11    13  13:00        NaN      44.0     0  24.0           24.0\n",
      "3     1     11    14  14:00        NaN      41.0     0  23.0           24.0\n",
      "4     1     11    16  16:00        NaN      47.0     0  21.0           23.0\n",
      "Index(['Date', 'Month', 'Hour', 'Time', 'heatindex', 'humidity', 'rain',\n",
      "       'temp', 'temp previous'],\n",
      "      dtype='object')\n"
     ]
    }
   ],
   "source": [
    "print(weather_df.shape)\n",
    "print(weather_df.describe())\n",
    "print(weather_df.head())\n",
    "print(weather_df.columns)"
   ]
  },
  {
   "cell_type": "code",
   "execution_count": 4,
   "metadata": {},
   "outputs": [
    {
     "name": "stdout",
     "output_type": "stream",
     "text": [
      "Date             False\n",
      "Month            False\n",
      "Hour             False\n",
      "Time             False\n",
      "heatindex         True\n",
      "humidity          True\n",
      "rain             False\n",
      "temp              True\n",
      "temp previous     True\n",
      "dtype: bool\n",
      "Date             False\n",
      "Month            False\n",
      "Hour             False\n",
      "Time             False\n",
      "heatindex        False\n",
      "humidity         False\n",
      "rain             False\n",
      "temp             False\n",
      "temp previous    False\n",
      "dtype: bool\n"
     ]
    }
   ],
   "source": [
    "#Preprocessing the data\n",
    "print(weather_df.isnull().any())\n",
    "weather_df[\"heatindex\"].fillna(35.651710, inplace = True)\n",
    "weather_df[\"humidity\"].fillna(57.909481, inplace = True)\n",
    "weather_df[\"temp\"].fillna(25.451269, inplace = True)\n",
    "weather_df[\"temp previous\"].fillna(25.451489, inplace = True)\n",
    "print(weather_df.isnull().any())\n",
    "#All these mean values are obtained after describing the data set"
   ]
  },
  {
   "cell_type": "code",
   "execution_count": 5,
   "metadata": {},
   "outputs": [
    {
     "name": "stdout",
     "output_type": "stream",
     "text": [
      "   Date  Month  Hour   Time  heatindex  humidity  rain  temp  temp previous\n",
      "0     1     11    11  11:00   35.65171      27.0     0  28.0           30.0\n",
      "1     1     11    12  12:00   35.65171      32.0     0  24.0           28.0\n",
      "2     1     11    13  13:00   35.65171      44.0     0  24.0           24.0\n",
      "3     1     11    14  14:00   35.65171      41.0     0  23.0           24.0\n",
      "4     1     11    16  16:00   35.65171      47.0     0  21.0           23.0\n",
      "                Date          Month           Hour      heatindex  \\\n",
      "count  100990.000000  100990.000000  100990.000000  100990.000000   \n",
      "mean       15.690049       6.579344      10.928844      35.651710   \n",
      "std         8.769718       3.475841       6.854328       2.694736   \n",
      "min         1.000000       1.000000       0.000000      26.800000   \n",
      "25%         8.000000       4.000000       5.000000      35.651710   \n",
      "50%        16.000000       7.000000      11.000000      35.651710   \n",
      "75%        23.000000      10.000000      17.000000      35.651710   \n",
      "max        31.000000      12.000000      23.000000      73.600000   \n",
      "\n",
      "            humidity           rain           temp  temp previous  \n",
      "count  100990.000000  100990.000000  100990.000000  100990.000000  \n",
      "mean       57.909481       0.026260      25.451260      25.451271  \n",
      "std        23.718373       0.159908       8.454542       8.454547  \n",
      "min         4.000000       0.000000       1.000000       1.000000  \n",
      "25%        39.000000       0.000000      19.000000      19.000000  \n",
      "50%        58.000000       0.000000      27.000000      27.000000  \n",
      "75%        77.000000       0.000000      32.000000      32.000000  \n",
      "max       243.000000       1.000000      90.000000      90.000000  \n"
     ]
    }
   ],
   "source": [
    "print(weather_df.head())\n",
    "print(weather_df.describe())"
   ]
  },
  {
   "cell_type": "code",
   "execution_count": 6,
   "metadata": {},
   "outputs": [],
   "source": [
    "weather_df_num=weather_df[list(weather_df.dtypes[weather_df.dtypes!='object'].index)]\n",
    "weather_y=weather_df_num.pop('temp')\n",
    "weather_x=weather_df_num"
   ]
  },
  {
   "cell_type": "code",
   "execution_count": 7,
   "metadata": {},
   "outputs": [
    {
     "data": {
      "text/html": [
       "<div>\n",
       "<style scoped>\n",
       "    .dataframe tbody tr th:only-of-type {\n",
       "        vertical-align: middle;\n",
       "    }\n",
       "\n",
       "    .dataframe tbody tr th {\n",
       "        vertical-align: top;\n",
       "    }\n",
       "\n",
       "    .dataframe thead th {\n",
       "        text-align: right;\n",
       "    }\n",
       "</style>\n",
       "<table border=\"1\" class=\"dataframe\">\n",
       "  <thead>\n",
       "    <tr style=\"text-align: right;\">\n",
       "      <th></th>\n",
       "      <th>Date</th>\n",
       "      <th>Month</th>\n",
       "      <th>Hour</th>\n",
       "      <th>heatindex</th>\n",
       "      <th>humidity</th>\n",
       "      <th>rain</th>\n",
       "      <th>temp previous</th>\n",
       "    </tr>\n",
       "  </thead>\n",
       "  <tbody>\n",
       "    <tr>\n",
       "      <th>99686</th>\n",
       "      <td>6</td>\n",
       "      <td>1</td>\n",
       "      <td>15</td>\n",
       "      <td>35.65171</td>\n",
       "      <td>96.0</td>\n",
       "      <td>0</td>\n",
       "      <td>18.0</td>\n",
       "    </tr>\n",
       "    <tr>\n",
       "      <th>18305</th>\n",
       "      <td>29</td>\n",
       "      <td>1</td>\n",
       "      <td>10</td>\n",
       "      <td>35.65171</td>\n",
       "      <td>35.0</td>\n",
       "      <td>0</td>\n",
       "      <td>21.0</td>\n",
       "    </tr>\n",
       "    <tr>\n",
       "      <th>91877</th>\n",
       "      <td>20</td>\n",
       "      <td>8</td>\n",
       "      <td>6</td>\n",
       "      <td>35.65171</td>\n",
       "      <td>57.0</td>\n",
       "      <td>0</td>\n",
       "      <td>32.0</td>\n",
       "    </tr>\n",
       "    <tr>\n",
       "      <th>55714</th>\n",
       "      <td>29</td>\n",
       "      <td>2</td>\n",
       "      <td>14</td>\n",
       "      <td>35.65171</td>\n",
       "      <td>47.0</td>\n",
       "      <td>0</td>\n",
       "      <td>24.0</td>\n",
       "    </tr>\n",
       "    <tr>\n",
       "      <th>40664</th>\n",
       "      <td>2</td>\n",
       "      <td>2</td>\n",
       "      <td>7</td>\n",
       "      <td>35.65171</td>\n",
       "      <td>82.0</td>\n",
       "      <td>0</td>\n",
       "      <td>16.0</td>\n",
       "    </tr>\n",
       "  </tbody>\n",
       "</table>\n",
       "</div>"
      ],
      "text/plain": [
       "       Date  Month  Hour  heatindex  humidity  rain  temp previous\n",
       "99686     6      1    15   35.65171      96.0     0           18.0\n",
       "18305    29      1    10   35.65171      35.0     0           21.0\n",
       "91877    20      8     6   35.65171      57.0     0           32.0\n",
       "55714    29      2    14   35.65171      47.0     0           24.0\n",
       "40664     2      2     7   35.65171      82.0     0           16.0"
      ]
     },
     "execution_count": 7,
     "metadata": {},
     "output_type": "execute_result"
    }
   ],
   "source": [
    "train_x,test_x,train_y,test_y=train_test_split(weather_x,weather_y,test_size=0.2,random_state=4)\n",
    "train_x.head()"
   ]
  },
  {
   "cell_type": "code",
   "execution_count": 8,
   "metadata": {},
   "outputs": [
    {
     "data": {
      "text/plain": [
       "LinearRegression(copy_X=True, fit_intercept=True, n_jobs=None, normalize=False)"
      ]
     },
     "execution_count": 8,
     "metadata": {},
     "output_type": "execute_result"
    }
   ],
   "source": [
    "#First Model Linear Regression\n",
    "tlrmodel = LinearRegression()\n",
    "tlrmodel.fit(train_x,train_y)"
   ]
  },
  {
   "cell_type": "code",
   "execution_count": 9,
   "metadata": {},
   "outputs": [
    {
     "name": "stdout",
     "output_type": "stream",
     "text": [
      "       Date  Month  Hour  heatindex  humidity  rain  temp previous\n",
      "16733    18     11     8   35.65171      21.0     0           28.0\n",
      "82934    21      4    15   35.65171      27.0     0           30.0\n",
      "33831    11      4    13   35.65171      13.0     0           35.0\n",
      "22660    14     12    19   35.65171      77.0     0           14.0\n",
      "47063    16      8    14   33.60000      89.0     0           28.0\n",
      "...     ...    ...   ...        ...       ...   ...            ...\n",
      "26343    24      5     8   44.40000      21.0     0           43.0\n",
      "10264    12      9    22   35.65171      94.0     0           25.0\n",
      "17753     4      1    15   35.65171      88.0     0           11.0\n",
      "98956     2     12    12   35.65171      73.0     0           22.0\n",
      "46164    26      7    23   34.50000      79.0     0           29.0\n",
      "\n",
      "[20198 rows x 7 columns]\n"
     ]
    },
    {
     "data": {
      "text/plain": [
       "6.346134952426916"
      ]
     },
     "execution_count": 9,
     "metadata": {},
     "output_type": "execute_result"
    }
   ],
   "source": [
    "print(test_x)\n",
    "prediction=tlrmodel.predict(test_x)\n",
    "#Calculating error\n",
    "np.mean((prediction-test_y)**2)"
   ]
  },
  {
   "cell_type": "code",
   "execution_count": 10,
   "metadata": {},
   "outputs": [
    {
     "name": "stdout",
     "output_type": "stream",
     "text": [
      "(1, 7)\n",
      "[27.63285918 28.57850811 33.50069309 ... 11.39743133 22.1913649\n",
      " 27.32664257] [31.56288319]\n"
     ]
    }
   ],
   "source": [
    "l=[29,6,14,48,45,0,33]\n",
    "x=np.array(l).reshape(1,-1)\n",
    "print(x.shape)\n",
    "prediction=tlrmodel.predict(test_x)\n",
    "print(prediction,tlrmodel.predict(x))"
   ]
  },
  {
   "cell_type": "code",
   "execution_count": 11,
   "metadata": {},
   "outputs": [
    {
     "data": {
      "text/html": [
       "<div>\n",
       "<style scoped>\n",
       "    .dataframe tbody tr th:only-of-type {\n",
       "        vertical-align: middle;\n",
       "    }\n",
       "\n",
       "    .dataframe tbody tr th {\n",
       "        vertical-align: top;\n",
       "    }\n",
       "\n",
       "    .dataframe thead th {\n",
       "        text-align: right;\n",
       "    }\n",
       "</style>\n",
       "<table border=\"1\" class=\"dataframe\">\n",
       "  <thead>\n",
       "    <tr style=\"text-align: right;\">\n",
       "      <th></th>\n",
       "      <th>actual</th>\n",
       "      <th>prediction</th>\n",
       "      <th>diff</th>\n",
       "    </tr>\n",
       "  </thead>\n",
       "  <tbody>\n",
       "    <tr>\n",
       "      <th>16733</th>\n",
       "      <td>28.0</td>\n",
       "      <td>27.632859</td>\n",
       "      <td>0.367141</td>\n",
       "    </tr>\n",
       "    <tr>\n",
       "      <th>82934</th>\n",
       "      <td>27.0</td>\n",
       "      <td>28.578508</td>\n",
       "      <td>-1.578508</td>\n",
       "    </tr>\n",
       "    <tr>\n",
       "      <th>33831</th>\n",
       "      <td>32.0</td>\n",
       "      <td>33.500693</td>\n",
       "      <td>-1.500693</td>\n",
       "    </tr>\n",
       "    <tr>\n",
       "      <th>22660</th>\n",
       "      <td>14.0</td>\n",
       "      <td>13.295137</td>\n",
       "      <td>0.704863</td>\n",
       "    </tr>\n",
       "    <tr>\n",
       "      <th>47063</th>\n",
       "      <td>28.0</td>\n",
       "      <td>28.118755</td>\n",
       "      <td>-0.118755</td>\n",
       "    </tr>\n",
       "    <tr>\n",
       "      <th>...</th>\n",
       "      <td>...</td>\n",
       "      <td>...</td>\n",
       "      <td>...</td>\n",
       "    </tr>\n",
       "    <tr>\n",
       "      <th>26343</th>\n",
       "      <td>43.0</td>\n",
       "      <td>41.957635</td>\n",
       "      <td>1.042365</td>\n",
       "    </tr>\n",
       "    <tr>\n",
       "      <th>10264</th>\n",
       "      <td>25.0</td>\n",
       "      <td>23.864677</td>\n",
       "      <td>1.135323</td>\n",
       "    </tr>\n",
       "    <tr>\n",
       "      <th>17753</th>\n",
       "      <td>10.0</td>\n",
       "      <td>11.397431</td>\n",
       "      <td>-1.397431</td>\n",
       "    </tr>\n",
       "    <tr>\n",
       "      <th>98956</th>\n",
       "      <td>19.0</td>\n",
       "      <td>22.191365</td>\n",
       "      <td>-3.191365</td>\n",
       "    </tr>\n",
       "    <tr>\n",
       "      <th>46164</th>\n",
       "      <td>29.0</td>\n",
       "      <td>27.326643</td>\n",
       "      <td>1.673357</td>\n",
       "    </tr>\n",
       "  </tbody>\n",
       "</table>\n",
       "<p>20198 rows × 3 columns</p>\n",
       "</div>"
      ],
      "text/plain": [
       "       actual  prediction      diff\n",
       "16733    28.0   27.632859  0.367141\n",
       "82934    27.0   28.578508 -1.578508\n",
       "33831    32.0   33.500693 -1.500693\n",
       "22660    14.0   13.295137  0.704863\n",
       "47063    28.0   28.118755 -0.118755\n",
       "...       ...         ...       ...\n",
       "26343    43.0   41.957635  1.042365\n",
       "10264    25.0   23.864677  1.135323\n",
       "17753    10.0   11.397431 -1.397431\n",
       "98956    19.0   22.191365 -3.191365\n",
       "46164    29.0   27.326643  1.673357\n",
       "\n",
       "[20198 rows x 3 columns]"
      ]
     },
     "execution_count": 11,
     "metadata": {},
     "output_type": "execute_result"
    }
   ],
   "source": [
    "pd.DataFrame({'actual':test_y,'prediction':prediction,'diff':(test_y-prediction)})"
   ]
  },
  {
   "cell_type": "code",
   "execution_count": 18,
   "metadata": {},
   "outputs": [],
   "source": [
    "import warnings\n",
    "warnings.filterwarnings('ignore')"
   ]
  },
  {
   "cell_type": "code",
   "execution_count": 19,
   "metadata": {},
   "outputs": [
    {
     "data": {
      "text/plain": [
       "['TLinearRegression.pkl']"
      ]
     },
     "execution_count": 19,
     "metadata": {},
     "output_type": "execute_result"
    }
   ],
   "source": [
    "from sklearn.externals import joblib \n",
    "  \n",
    "# Save the model as a pickle in a file \n",
    "joblib.dump(tlrmodel, 'TLinearRegression.pkl') \n",
    "  \n",
    "# Load the model from the file only to be uncommented when to be used \n",
    "#LR = joblib.load('TLinearRegression.pkl')  \n",
    "  \n",
    "# Use the loaded model to make predictions \n",
    "#LR.predict(X_test)"
   ]
  },
  {
   "cell_type": "code",
   "execution_count": 33,
   "metadata": {},
   "outputs": [
    {
     "data": {
      "text/html": [
       "<div>\n",
       "<style scoped>\n",
       "    .dataframe tbody tr th:only-of-type {\n",
       "        vertical-align: middle;\n",
       "    }\n",
       "\n",
       "    .dataframe tbody tr th {\n",
       "        vertical-align: top;\n",
       "    }\n",
       "\n",
       "    .dataframe thead th {\n",
       "        text-align: right;\n",
       "    }\n",
       "</style>\n",
       "<table border=\"1\" class=\"dataframe\">\n",
       "  <thead>\n",
       "    <tr style=\"text-align: right;\">\n",
       "      <th></th>\n",
       "      <th>Date</th>\n",
       "      <th>Month</th>\n",
       "      <th>Hour</th>\n",
       "      <th>heatindex</th>\n",
       "      <th>humidity</th>\n",
       "      <th>rain</th>\n",
       "      <th>temp previous</th>\n",
       "    </tr>\n",
       "  </thead>\n",
       "  <tbody>\n",
       "    <tr>\n",
       "      <td>16733</td>\n",
       "      <td>18</td>\n",
       "      <td>11</td>\n",
       "      <td>8</td>\n",
       "      <td>35.65171</td>\n",
       "      <td>21.0</td>\n",
       "      <td>0</td>\n",
       "      <td>21.0</td>\n",
       "    </tr>\n",
       "    <tr>\n",
       "      <td>82934</td>\n",
       "      <td>21</td>\n",
       "      <td>4</td>\n",
       "      <td>15</td>\n",
       "      <td>35.65171</td>\n",
       "      <td>27.0</td>\n",
       "      <td>0</td>\n",
       "      <td>27.0</td>\n",
       "    </tr>\n",
       "    <tr>\n",
       "      <td>33831</td>\n",
       "      <td>11</td>\n",
       "      <td>4</td>\n",
       "      <td>13</td>\n",
       "      <td>35.65171</td>\n",
       "      <td>13.0</td>\n",
       "      <td>0</td>\n",
       "      <td>37.0</td>\n",
       "    </tr>\n",
       "    <tr>\n",
       "      <td>22660</td>\n",
       "      <td>14</td>\n",
       "      <td>12</td>\n",
       "      <td>19</td>\n",
       "      <td>35.65171</td>\n",
       "      <td>77.0</td>\n",
       "      <td>0</td>\n",
       "      <td>20.0</td>\n",
       "    </tr>\n",
       "    <tr>\n",
       "      <td>47063</td>\n",
       "      <td>16</td>\n",
       "      <td>8</td>\n",
       "      <td>14</td>\n",
       "      <td>33.60000</td>\n",
       "      <td>89.0</td>\n",
       "      <td>0</td>\n",
       "      <td>33.0</td>\n",
       "    </tr>\n",
       "    <tr>\n",
       "      <td>...</td>\n",
       "      <td>...</td>\n",
       "      <td>...</td>\n",
       "      <td>...</td>\n",
       "      <td>...</td>\n",
       "      <td>...</td>\n",
       "      <td>...</td>\n",
       "      <td>...</td>\n",
       "    </tr>\n",
       "    <tr>\n",
       "      <td>26343</td>\n",
       "      <td>24</td>\n",
       "      <td>5</td>\n",
       "      <td>8</td>\n",
       "      <td>44.40000</td>\n",
       "      <td>21.0</td>\n",
       "      <td>0</td>\n",
       "      <td>36.0</td>\n",
       "    </tr>\n",
       "    <tr>\n",
       "      <td>10264</td>\n",
       "      <td>12</td>\n",
       "      <td>9</td>\n",
       "      <td>22</td>\n",
       "      <td>35.65171</td>\n",
       "      <td>94.0</td>\n",
       "      <td>0</td>\n",
       "      <td>25.0</td>\n",
       "    </tr>\n",
       "    <tr>\n",
       "      <td>17753</td>\n",
       "      <td>4</td>\n",
       "      <td>1</td>\n",
       "      <td>15</td>\n",
       "      <td>35.65171</td>\n",
       "      <td>88.0</td>\n",
       "      <td>0</td>\n",
       "      <td>16.0</td>\n",
       "    </tr>\n",
       "    <tr>\n",
       "      <td>98956</td>\n",
       "      <td>2</td>\n",
       "      <td>12</td>\n",
       "      <td>12</td>\n",
       "      <td>35.65171</td>\n",
       "      <td>73.0</td>\n",
       "      <td>0</td>\n",
       "      <td>25.0</td>\n",
       "    </tr>\n",
       "    <tr>\n",
       "      <td>46164</td>\n",
       "      <td>26</td>\n",
       "      <td>7</td>\n",
       "      <td>23</td>\n",
       "      <td>34.50000</td>\n",
       "      <td>79.0</td>\n",
       "      <td>0</td>\n",
       "      <td>28.0</td>\n",
       "    </tr>\n",
       "  </tbody>\n",
       "</table>\n",
       "<p>20198 rows × 7 columns</p>\n",
       "</div>"
      ],
      "text/plain": [
       "       Date  Month  Hour  heatindex  humidity  rain  temp previous\n",
       "16733    18     11     8   35.65171      21.0     0           21.0\n",
       "82934    21      4    15   35.65171      27.0     0           27.0\n",
       "33831    11      4    13   35.65171      13.0     0           37.0\n",
       "22660    14     12    19   35.65171      77.0     0           20.0\n",
       "47063    16      8    14   33.60000      89.0     0           33.0\n",
       "...     ...    ...   ...        ...       ...   ...            ...\n",
       "26343    24      5     8   44.40000      21.0     0           36.0\n",
       "10264    12      9    22   35.65171      94.0     0           25.0\n",
       "17753     4      1    15   35.65171      88.0     0           16.0\n",
       "98956     2     12    12   35.65171      73.0     0           25.0\n",
       "46164    26      7    23   34.50000      79.0     0           28.0\n",
       "\n",
       "[20198 rows x 7 columns]"
      ]
     },
     "execution_count": 33,
     "metadata": {},
     "output_type": "execute_result"
    }
   ],
   "source": [
    "test_x"
   ]
  },
  {
   "cell_type": "code",
   "execution_count": 14,
   "metadata": {},
   "outputs": [],
   "source": [
    "#Polynomial Regression\n",
    "from sklearn.preprocessing import PolynomialFeatures"
   ]
  },
  {
   "cell_type": "code",
   "execution_count": 15,
   "metadata": {},
   "outputs": [],
   "source": [
    "poly=PolynomialFeatures(degree=4)"
   ]
  },
  {
   "cell_type": "code",
   "execution_count": 16,
   "metadata": {},
   "outputs": [],
   "source": [
    "x_poly=poly.fit_transform(train_x)"
   ]
  },
  {
   "cell_type": "code",
   "execution_count": 18,
   "metadata": {},
   "outputs": [],
   "source": [
    "lin2=LinearRegression()"
   ]
  },
  {
   "cell_type": "code",
   "execution_count": 21,
   "metadata": {},
   "outputs": [
    {
     "name": "stderr",
     "output_type": "stream",
     "text": [
      "ERROR:root:Internal Python error in the inspect module.\n",
      "Below is the traceback from this internal error.\n",
      "\n"
     ]
    },
    {
     "name": "stdout",
     "output_type": "stream",
     "text": [
      "Traceback (most recent call last):\n",
      "  File \"C:\\Users\\Mayank\\Anaconda3\\lib\\site-packages\\IPython\\core\\interactiveshell.py\", line 3326, in run_code\n",
      "    exec(code_obj, self.user_global_ns, self.user_ns)\n",
      "  File \"<ipython-input-21-0bbf78d8781c>\", line 1, in <module>\n",
      "    poly.fit(x_poly,train_y)\n",
      "  File \"C:\\Users\\Mayank\\Anaconda3\\lib\\site-packages\\sklearn\\preprocessing\\data.py\", line 1470, in fit\n",
      "    self.n_output_features_ = sum(1 for _ in combinations)\n",
      "  File \"C:\\Users\\Mayank\\Anaconda3\\lib\\site-packages\\sklearn\\preprocessing\\data.py\", line 1470, in <genexpr>\n",
      "    self.n_output_features_ = sum(1 for _ in combinations)\n",
      "KeyboardInterrupt\n",
      "\n",
      "During handling of the above exception, another exception occurred:\n",
      "\n",
      "Traceback (most recent call last):\n",
      "  File \"C:\\Users\\Mayank\\Anaconda3\\lib\\site-packages\\IPython\\core\\interactiveshell.py\", line 2040, in showtraceback\n",
      "    stb = value._render_traceback_()\n",
      "AttributeError: 'KeyboardInterrupt' object has no attribute '_render_traceback_'\n",
      "\n",
      "During handling of the above exception, another exception occurred:\n",
      "\n",
      "Traceback (most recent call last):\n",
      "  File \"C:\\Users\\Mayank\\Anaconda3\\lib\\site-packages\\IPython\\core\\ultratb.py\", line 1101, in get_records\n",
      "    return _fixed_getinnerframes(etb, number_of_lines_of_context, tb_offset)\n",
      "  File \"C:\\Users\\Mayank\\Anaconda3\\lib\\site-packages\\IPython\\core\\ultratb.py\", line 319, in wrapped\n",
      "    return f(*args, **kwargs)\n",
      "  File \"C:\\Users\\Mayank\\Anaconda3\\lib\\site-packages\\IPython\\core\\ultratb.py\", line 353, in _fixed_getinnerframes\n",
      "    records = fix_frame_records_filenames(inspect.getinnerframes(etb, context))\n",
      "  File \"C:\\Users\\Mayank\\Anaconda3\\lib\\inspect.py\", line 1502, in getinnerframes\n",
      "    frameinfo = (tb.tb_frame,) + getframeinfo(tb, context)\n",
      "  File \"C:\\Users\\Mayank\\Anaconda3\\lib\\inspect.py\", line 1460, in getframeinfo\n",
      "    filename = getsourcefile(frame) or getfile(frame)\n",
      "  File \"C:\\Users\\Mayank\\Anaconda3\\lib\\inspect.py\", line 696, in getsourcefile\n",
      "    if getattr(getmodule(object, filename), '__loader__', None) is not None:\n",
      "  File \"C:\\Users\\Mayank\\Anaconda3\\lib\\inspect.py\", line 732, in getmodule\n",
      "    for modname, module in list(sys.modules.items()):\n",
      "KeyboardInterrupt\n"
     ]
    },
    {
     "ename": "KeyboardInterrupt",
     "evalue": "",
     "output_type": "error",
     "traceback": [
      "\u001b[1;31m---------------------------------------------------------------------------\u001b[0m"
     ]
    }
   ],
   "source": [
    "poly.fit(x_poly,train_y)"
   ]
  },
  {
   "cell_type": "code",
   "execution_count": null,
   "metadata": {},
   "outputs": [],
   "source": [
    "lin2.fit(x_poly,train_y)"
   ]
  },
  {
   "cell_type": "code",
   "execution_count": null,
   "metadata": {},
   "outputs": [],
   "source": [
    "prediction2 = lin2.predict(poly.fit_transform(test_x))\n",
    "#Calculating the error\n",
    "np.mean((prediction2-test_y)**2)"
   ]
  },
  {
   "cell_type": "code",
   "execution_count": null,
   "metadata": {},
   "outputs": [],
   "source": [
    "pd.DataFrame({'actual':test_y,'prediction':prediction2,'diff':(test_y-prediction2)})"
   ]
  },
  {
   "cell_type": "code",
   "execution_count": null,
   "metadata": {},
   "outputs": [],
   "source": [
    "#Saving the Polynomial Regression Model\n",
    "joblib.dump(lin2, 'PRTP.pkl') \n",
    "  \n",
    "# Load the model from the file only to be uncommented when to be used \n",
    "#PR = joblib.load('PRTP.pkl')  \n",
    "  \n",
    "# Use the loaded model to make predictions \n",
    "#PR.predict(X_test)"
   ]
  },
  {
   "cell_type": "code",
   "execution_count": 20,
   "metadata": {},
   "outputs": [
    {
     "data": {
      "text/plain": [
       "DecisionTreeRegressor(criterion='mse', max_depth=None, max_features=None,\n",
       "                      max_leaf_nodes=None, min_impurity_decrease=0.0,\n",
       "                      min_impurity_split=None, min_samples_leaf=1,\n",
       "                      min_samples_split=2, min_weight_fraction_leaf=0.0,\n",
       "                      presort=False, random_state=0, splitter='best')"
      ]
     },
     "execution_count": 20,
     "metadata": {},
     "output_type": "execute_result"
    }
   ],
   "source": [
    "#Decision Tree Model\n",
    "from sklearn.tree import DecisionTreeRegressor\n",
    "regressor = DecisionTreeRegressor(random_state=0)\n",
    "regressor.fit(train_x,train_y)"
   ]
  },
  {
   "cell_type": "code",
   "execution_count": 21,
   "metadata": {},
   "outputs": [
    {
     "name": "stdout",
     "output_type": "stream",
     "text": [
      "4.341853975505352\n",
      "[39.]\n"
     ]
    }
   ],
   "source": [
    "prediction3=regressor.predict(test_x)\n",
    "print(np.mean((prediction3-test_y)**2))\n",
    "dt=np.array([29,6,14,48,45,0,32]).reshape(1,-1)\n",
    "print(regressor.predict(dt))"
   ]
  },
  {
   "cell_type": "code",
   "execution_count": 22,
   "metadata": {},
   "outputs": [
    {
     "data": {
      "text/html": [
       "<div>\n",
       "<style scoped>\n",
       "    .dataframe tbody tr th:only-of-type {\n",
       "        vertical-align: middle;\n",
       "    }\n",
       "\n",
       "    .dataframe tbody tr th {\n",
       "        vertical-align: top;\n",
       "    }\n",
       "\n",
       "    .dataframe thead th {\n",
       "        text-align: right;\n",
       "    }\n",
       "</style>\n",
       "<table border=\"1\" class=\"dataframe\">\n",
       "  <thead>\n",
       "    <tr style=\"text-align: right;\">\n",
       "      <th></th>\n",
       "      <th>actual</th>\n",
       "      <th>prediction</th>\n",
       "      <th>diff</th>\n",
       "    </tr>\n",
       "  </thead>\n",
       "  <tbody>\n",
       "    <tr>\n",
       "      <td>16733</td>\n",
       "      <td>28.0</td>\n",
       "      <td>30.0</td>\n",
       "      <td>-2.0</td>\n",
       "    </tr>\n",
       "    <tr>\n",
       "      <td>82934</td>\n",
       "      <td>30.0</td>\n",
       "      <td>32.0</td>\n",
       "      <td>-2.0</td>\n",
       "    </tr>\n",
       "    <tr>\n",
       "      <td>33831</td>\n",
       "      <td>35.0</td>\n",
       "      <td>36.0</td>\n",
       "      <td>-1.0</td>\n",
       "    </tr>\n",
       "    <tr>\n",
       "      <td>22660</td>\n",
       "      <td>14.0</td>\n",
       "      <td>18.0</td>\n",
       "      <td>-4.0</td>\n",
       "    </tr>\n",
       "    <tr>\n",
       "      <td>47063</td>\n",
       "      <td>28.0</td>\n",
       "      <td>28.0</td>\n",
       "      <td>0.0</td>\n",
       "    </tr>\n",
       "    <tr>\n",
       "      <td>...</td>\n",
       "      <td>...</td>\n",
       "      <td>...</td>\n",
       "      <td>...</td>\n",
       "    </tr>\n",
       "    <tr>\n",
       "      <td>26343</td>\n",
       "      <td>43.0</td>\n",
       "      <td>43.0</td>\n",
       "      <td>0.0</td>\n",
       "    </tr>\n",
       "    <tr>\n",
       "      <td>10264</td>\n",
       "      <td>25.0</td>\n",
       "      <td>24.5</td>\n",
       "      <td>0.5</td>\n",
       "    </tr>\n",
       "    <tr>\n",
       "      <td>17753</td>\n",
       "      <td>11.0</td>\n",
       "      <td>12.0</td>\n",
       "      <td>-1.0</td>\n",
       "    </tr>\n",
       "    <tr>\n",
       "      <td>98956</td>\n",
       "      <td>22.0</td>\n",
       "      <td>22.0</td>\n",
       "      <td>0.0</td>\n",
       "    </tr>\n",
       "    <tr>\n",
       "      <td>46164</td>\n",
       "      <td>29.0</td>\n",
       "      <td>29.0</td>\n",
       "      <td>0.0</td>\n",
       "    </tr>\n",
       "  </tbody>\n",
       "</table>\n",
       "<p>20198 rows × 3 columns</p>\n",
       "</div>"
      ],
      "text/plain": [
       "       actual  prediction  diff\n",
       "16733    28.0        30.0  -2.0\n",
       "82934    30.0        32.0  -2.0\n",
       "33831    35.0        36.0  -1.0\n",
       "22660    14.0        18.0  -4.0\n",
       "47063    28.0        28.0   0.0\n",
       "...       ...         ...   ...\n",
       "26343    43.0        43.0   0.0\n",
       "10264    25.0        24.5   0.5\n",
       "17753    11.0        12.0  -1.0\n",
       "98956    22.0        22.0   0.0\n",
       "46164    29.0        29.0   0.0\n",
       "\n",
       "[20198 rows x 3 columns]"
      ]
     },
     "execution_count": 22,
     "metadata": {},
     "output_type": "execute_result"
    }
   ],
   "source": [
    "pd.DataFrame({'actual':test_y,'prediction':prediction3,'diff':(test_y-prediction3)})"
   ]
  },
  {
   "cell_type": "code",
   "execution_count": 23,
   "metadata": {},
   "outputs": [
    {
     "data": {
      "text/plain": [
       "['TDecisionTree.pkl']"
      ]
     },
     "execution_count": 23,
     "metadata": {},
     "output_type": "execute_result"
    }
   ],
   "source": [
    "#Saving the Decision Tree\n",
    "joblib.dump(regressor, 'TDecisionTree.pkl') \n",
    "\n",
    "# Load the model from the file only to be uncommented when to be used \n",
    "#DT = joblib.load('TDecision.pkl')  \n",
    "  \n",
    "# Use the loaded model to make predictions \n",
    "#DT.predict(X_test)"
   ]
  },
  {
   "cell_type": "code",
   "execution_count": 24,
   "metadata": {},
   "outputs": [
    {
     "data": {
      "text/plain": [
       "RandomForestRegressor(bootstrap=True, criterion='mse', max_depth=60,\n",
       "                      max_features='auto', max_leaf_nodes=None,\n",
       "                      min_impurity_decrease=0.0, min_impurity_split=None,\n",
       "                      min_samples_leaf=1, min_samples_split=2,\n",
       "                      min_weight_fraction_leaf=0.0, n_estimators=100,\n",
       "                      n_jobs=None, oob_score=False, random_state=0, verbose=0,\n",
       "                      warm_start=False)"
      ]
     },
     "execution_count": 24,
     "metadata": {},
     "output_type": "execute_result"
    }
   ],
   "source": [
    "#Random Forest Model\n",
    "from sklearn.ensemble import RandomForestRegressor\n",
    "regr=RandomForestRegressor(max_depth=60,random_state=0,n_estimators=100)\n",
    "regr.fit(train_x,train_y)"
   ]
  },
  {
   "cell_type": "code",
   "execution_count": 25,
   "metadata": {},
   "outputs": [
    {
     "data": {
      "text/plain": [
       "2.3409431960840505"
      ]
     },
     "execution_count": 25,
     "metadata": {},
     "output_type": "execute_result"
    }
   ],
   "source": [
    "prediction4=regr.predict(test_x)\n",
    "np.mean((prediction4-test_y)**2)"
   ]
  },
  {
   "cell_type": "code",
   "execution_count": 26,
   "metadata": {},
   "outputs": [
    {
     "data": {
      "text/plain": [
       "array([39.])"
      ]
     },
     "execution_count": 26,
     "metadata": {},
     "output_type": "execute_result"
    }
   ],
   "source": [
    "regr.predict(dt)"
   ]
  },
  {
   "cell_type": "code",
   "execution_count": 27,
   "metadata": {},
   "outputs": [
    {
     "data": {
      "text/html": [
       "<div>\n",
       "<style scoped>\n",
       "    .dataframe tbody tr th:only-of-type {\n",
       "        vertical-align: middle;\n",
       "    }\n",
       "\n",
       "    .dataframe tbody tr th {\n",
       "        vertical-align: top;\n",
       "    }\n",
       "\n",
       "    .dataframe thead th {\n",
       "        text-align: right;\n",
       "    }\n",
       "</style>\n",
       "<table border=\"1\" class=\"dataframe\">\n",
       "  <thead>\n",
       "    <tr style=\"text-align: right;\">\n",
       "      <th></th>\n",
       "      <th>actual</th>\n",
       "      <th>prediction</th>\n",
       "      <th>diff</th>\n",
       "    </tr>\n",
       "  </thead>\n",
       "  <tbody>\n",
       "    <tr>\n",
       "      <td>16733</td>\n",
       "      <td>28.0</td>\n",
       "      <td>29.280</td>\n",
       "      <td>-1.280</td>\n",
       "    </tr>\n",
       "    <tr>\n",
       "      <td>82934</td>\n",
       "      <td>30.0</td>\n",
       "      <td>31.330</td>\n",
       "      <td>-1.330</td>\n",
       "    </tr>\n",
       "    <tr>\n",
       "      <td>33831</td>\n",
       "      <td>35.0</td>\n",
       "      <td>35.900</td>\n",
       "      <td>-0.900</td>\n",
       "    </tr>\n",
       "    <tr>\n",
       "      <td>22660</td>\n",
       "      <td>14.0</td>\n",
       "      <td>16.130</td>\n",
       "      <td>-2.130</td>\n",
       "    </tr>\n",
       "    <tr>\n",
       "      <td>47063</td>\n",
       "      <td>28.0</td>\n",
       "      <td>28.000</td>\n",
       "      <td>0.000</td>\n",
       "    </tr>\n",
       "    <tr>\n",
       "      <td>...</td>\n",
       "      <td>...</td>\n",
       "      <td>...</td>\n",
       "      <td>...</td>\n",
       "    </tr>\n",
       "    <tr>\n",
       "      <td>26343</td>\n",
       "      <td>43.0</td>\n",
       "      <td>43.010</td>\n",
       "      <td>-0.010</td>\n",
       "    </tr>\n",
       "    <tr>\n",
       "      <td>10264</td>\n",
       "      <td>25.0</td>\n",
       "      <td>24.671</td>\n",
       "      <td>0.329</td>\n",
       "    </tr>\n",
       "    <tr>\n",
       "      <td>17753</td>\n",
       "      <td>11.0</td>\n",
       "      <td>12.400</td>\n",
       "      <td>-1.400</td>\n",
       "    </tr>\n",
       "    <tr>\n",
       "      <td>98956</td>\n",
       "      <td>22.0</td>\n",
       "      <td>19.660</td>\n",
       "      <td>2.340</td>\n",
       "    </tr>\n",
       "    <tr>\n",
       "      <td>46164</td>\n",
       "      <td>29.0</td>\n",
       "      <td>28.880</td>\n",
       "      <td>0.120</td>\n",
       "    </tr>\n",
       "  </tbody>\n",
       "</table>\n",
       "<p>20198 rows × 3 columns</p>\n",
       "</div>"
      ],
      "text/plain": [
       "       actual  prediction   diff\n",
       "16733    28.0      29.280 -1.280\n",
       "82934    30.0      31.330 -1.330\n",
       "33831    35.0      35.900 -0.900\n",
       "22660    14.0      16.130 -2.130\n",
       "47063    28.0      28.000  0.000\n",
       "...       ...         ...    ...\n",
       "26343    43.0      43.010 -0.010\n",
       "10264    25.0      24.671  0.329\n",
       "17753    11.0      12.400 -1.400\n",
       "98956    22.0      19.660  2.340\n",
       "46164    29.0      28.880  0.120\n",
       "\n",
       "[20198 rows x 3 columns]"
      ]
     },
     "execution_count": 27,
     "metadata": {},
     "output_type": "execute_result"
    }
   ],
   "source": [
    "pd.DataFrame({'actual':test_y,'prediction':prediction4,'diff':(test_y-prediction4)})"
   ]
  },
  {
   "cell_type": "code",
   "execution_count": 29,
   "metadata": {},
   "outputs": [
    {
     "data": {
      "text/plain": [
       "['TRandomForest.pkl']"
      ]
     },
     "execution_count": 29,
     "metadata": {},
     "output_type": "execute_result"
    }
   ],
   "source": [
    "from sklearn.externals import joblib \n",
    "  \n",
    "# Save the model as a pickle in a file \n",
    "joblib.dump(regr, 'TRandomForest.pkl') \n",
    "  \n",
    "# Load the model from the file only to be uncommented when to be used \n",
    "#RF = joblib.load('TRandomForest.pkl')  \n",
    "  \n",
    "# Use the loaded model to make predictions \n",
    "#TEMP.predict(X_test)"
   ]
  },
  {
   "cell_type": "code",
   "execution_count": 30,
   "metadata": {},
   "outputs": [
    {
     "data": {
      "text/plain": [
       "<matplotlib.collections.PathCollection at 0x1f12b5eacc8>"
      ]
     },
     "execution_count": 30,
     "metadata": {},
     "output_type": "execute_result"
    },
    {
     "data": {
      "image/png": "[encoded data removed]",
      "text/plain": [
       "<Figure size 432x288 with 1 Axes>"
      ]
     },
     "metadata": {
      "needs_background": "light"
     },
     "output_type": "display_data"
    }
   ],
   "source": [
    "plt.scatter(prediction4,test_y)"
   ]
  },
  {
   "cell_type": "code",
   "execution_count": 12,
   "metadata": {},
   "outputs": [],
   "source": [
    "from datetime import datetime\n",
    "datetime.today()\n",
    "date=datetime.now()\n"
   ]
  },
  {
   "cell_type": "code",
   "execution_count": 13,
   "metadata": {},
   "outputs": [
    {
     "name": "stdout",
     "output_type": "stream",
     "text": [
      "23 11 1\n"
     ]
    }
   ],
   "source": [
    "D=date.day\n",
    "H=date.hour\n",
    "M=date.month\n",
    "print(D,H,M)"
   ]
  },
  {
   "cell_type": "code",
   "execution_count": 14,
   "metadata": {},
   "outputs": [
    {
     "name": "stdout",
     "output_type": "stream",
     "text": [
      "[32.12542427] 11 23 1\n",
      "[31.10504651] 12 23 1\n",
      "[29.94286489] 13 23 1\n",
      "[28.64276795] 14 23 1\n",
      "[27.20853762] 15 23 1\n",
      "[25.64385209] 16 23 1\n",
      "[23.95228872] 17 23 1\n",
      "[22.13732673] 18 23 1\n",
      "[20.20234997] 19 23 1\n",
      "[18.15064948] 20 23 1\n",
      "[15.98542606] 21 23 1\n",
      "[13.70979274] 22 23 1\n",
      "[11.32677717] 23 23 1\n",
      "[12.91336929] 0 24 1\n",
      "[14.28666923] 1 24 1\n",
      "[15.4525259] 2 24 1\n",
      "[16.41662781] 3 24 1\n",
      "[17.18450746] 4 24 1\n",
      "[17.76154568] 5 24 1\n",
      "[18.1529757] 6 24 1\n",
      "[18.36388728] 7 24 1\n",
      "[18.3992306] 8 24 1\n",
      "[18.26382008] 9 24 1\n",
      "[17.96233813] 10 24 1\n",
      "[17.49933878] 11 24 1\n",
      "[16.87925113] 12 24 1\n",
      "[16.10638288] 13 24 1\n",
      "[15.18492357] 14 24 1\n",
      "[14.11894785] 15 24 1\n",
      "[12.91241867] 16 24 1\n",
      "[11.56919028] 17 24 1\n",
      "[10.09301123] 18 24 1\n",
      "[8.48752731] 19 24 1\n",
      "[6.75628431] 20 24 1\n",
      "[4.9027308] 21 24 1\n",
      "[2.93022077] 22 24 1\n",
      "[0.84201625] 23 24 1\n",
      "[2.71533511] 0 25 1\n",
      "[4.36749917] 1 25 1\n",
      "[5.80457296] 2 25 1\n",
      "[7.03245466] 3 25 1\n",
      "[8.05688074] 4 25 1\n",
      "[8.88343037] 5 25 1\n",
      "[9.51752971] 6 25 1\n",
      "[9.96445613] 7 25 1\n",
      "[10.22934228] 8 25 1\n",
      "[10.31718008] 9 25 1\n",
      "[10.23282454] 10 25 1\n",
      "[9.98099754] 11 25 1\n",
      "[9.5662915] 12 25 1\n",
      "[8.99317287] 13 25 1\n",
      "[8.26598564] 14 25 1\n",
      "[7.38895469] 15 25 1\n",
      "[6.36618903] 16 25 1\n",
      "[5.20168499] 17 25 1\n",
      "[3.89932932] 18 25 1\n",
      "[2.4629022] 19 25 1\n",
      "[0.89608012] 20 25 1\n",
      "[-0.79756122] 21 25 1\n",
      "[-2.61454419] 22 25 1\n",
      "[-4.55148651] 23 25 1\n",
      "[-2.53105337] 0 26 1\n",
      "[-0.73580918] 1 26 1\n",
      "[0.84042117] 2 26 1\n",
      "[2.2036435] 3 26 1\n",
      "[3.3596989] 4 26 1\n",
      "[4.31426831] 5 26 1\n",
      "[5.07287687] 6 26 1\n",
      "[5.64089822] 7 26 1\n",
      "[6.02355863] 8 26 1\n",
      "[6.22594109] 9 26 1\n",
      "[6.25298916] 10 26 1\n",
      "[6.10951088] 11 26 1\n",
      "[5.8001824] 12 26 1\n",
      "[5.32955168] 13 26 1\n",
      "[4.70204193] 14 26 1\n",
      "[3.92195511] 15 26 1\n",
      "[2.99347518] 16 26 1\n",
      "[1.92067136] 17 26 1\n",
      "[0.70750131] 18 26 1\n",
      "[-0.64218584] 19 26 1\n",
      "[-2.12464653] 20 26 1\n",
      "[-3.73623984] 21 26 1\n",
      "[-5.4734247] 22 26 1\n",
      "[-7.33275713] 23 26 1\n",
      "[-5.23684232] 0 27 1\n",
      "[-3.36818632] 1 27 1\n",
      "[-1.72055724] 2 27 1\n",
      "[-0.2878941] 3 27 1\n",
      "[0.93569792] 4 27 1\n",
      "[1.95595195] 5 27 1\n",
      "[2.77844393] 6 27 1\n",
      "[3.40859688] 7 27 1\n",
      "[3.85168514] 8 27 1\n",
      "[4.11283838] 9 27 1\n",
      "[4.19704563] 10 27 1\n",
      "[4.1091591] 11 27 1\n",
      "[3.85389794] 12 27 1\n",
      "[3.4358519] 13 27 1\n",
      "[2.85948486] 14 27 1\n",
      "[2.12913831] 15 27 1\n",
      "[1.24903467] 16 27 1\n",
      "[0.22328058] 17 27 1\n",
      "[-0.94412995] 18 27 1\n",
      "[-2.24931239] 19 27 1\n",
      "[-3.68848878] 20 27 1\n",
      "[-5.25798474] 21 27 1\n",
      "[-6.95422663] 22 27 1\n",
      "[-8.77373884] 23 27 1\n",
      "[-6.63909575] 0 28 1\n",
      "[-4.73277349] 1 28 1\n",
      "[-3.04851103] 2 28 1\n",
      "[-1.58021906] 3 28 1\n",
      "[-0.32197524] 4 28 1\n",
      "[0.73198038] 5 28 1\n",
      "[1.58724979] 6 28 1\n",
      "[2.24928135] 7 28 1\n",
      "[2.72337403] 8 28 1\n",
      "[3.01468149] 9 28 1\n",
      "[3.12821608] 10 28 1\n",
      "[3.06885266] 11 28 1\n",
      "[2.84133246] 12 28 1\n",
      "[2.45026667] 13 28 1\n",
      "[1.90014003] 14 28 1\n",
      "[1.19531431] 15 28 1\n",
      "[0.34003167] 16 28 1\n",
      "[-0.66158207] 17 28 1\n",
      "[-1.80551421] 18 28 1\n",
      "[-3.0878621] 19 28 1\n",
      "[-4.5048301] 20 28 1\n",
      "[-6.05272667] 21 28 1\n",
      "[-7.72796147] 22 28 1\n",
      "[-9.52704265] 23 28 1\n",
      "[-7.37252878] 0 29 1\n",
      "[-5.44688064] 1 29 1\n",
      "[-3.74382226] 2 29 1\n",
      "[-2.25724979] 3 29 1\n",
      "[-0.98122675] 4 29 1\n",
      "[0.09002055] 5 29 1\n",
      "[0.96210745] 6 29 1\n",
      "[1.64049534] 7 29 1\n",
      "[2.13049583] 8 29 1\n",
      "[2.43727488] 9 29 1\n",
      "[2.56585679] 10 29 1\n",
      "[2.52112807] 11 29 1\n",
      "[2.30784125] 12 29 1\n",
      "[1.93061853] 13 29 1\n",
      "[1.39395537] 14 29 1\n",
      "[0.70222392] 15 29 1\n",
      "[-0.14032352] 16 29 1\n",
      "[-1.12955128] 17 29 1\n",
      "[-2.26143709] 18 29 1\n",
      "[-3.53206898] 19 29 1\n",
      "[-4.93764226] 20 29 1\n",
      "[-6.47445657] 21 29 1\n",
      "[-8.13891302] 22 29 1\n",
      "[-9.9275114] 23 29 1\n",
      "[-7.7628022] 0 30 1\n",
      "[-5.8272383] 1 30 1\n",
      "[-4.11453607] 2 30 1\n",
      "[-2.61858421] 3 30 1\n",
      "[-1.33343897] 4 30 1\n",
      "[-0.25331964] 5 30 1\n",
      "[0.62739602] 6 30 1\n",
      "[1.31417605] 7 30 1\n",
      "[1.81233855] 8 30 1\n",
      "[2.12705579] 9 30 1\n",
      "[2.2633582] 10 30 1\n",
      "[2.22613828] 11 30 1\n",
      "[2.02015435] 12 30 1\n",
      "[1.65003426] 13 30 1\n",
      "[1.12027896] 14 30 1\n",
      "[0.43526595] 15 30 1\n",
      "[-0.40074729] 16 30 1\n",
      "[-1.38362003] 17 30 1\n",
      "[-2.50932508] 18 30 1\n",
      "[-3.77394571] 19 30 1\n",
      "[-5.17367257] 20 30 1\n",
      "[-6.70480078] 21 30 1\n",
      "[-8.36372704] 22 30 1\n",
      "[-10.14694689] 23 30 1\n",
      "[-7.96311096] 0 1 2\n",
      "[-6.00894481] 1 1 2\n",
      "[-4.27815044] 2 1 2\n",
      "[-2.76460256] 3 1 2\n",
      "[-1.46234383] 4 1 2\n",
      "[-0.36558028] 5 1 2\n",
      "[0.53132317] 6 1 2\n",
      "[1.23384709] 7 1 2\n",
      "[1.74732175] 8 1 2\n",
      "[2.07693126] 9 1 2\n",
      "[2.22771757] 10 1 2\n",
      "[2.20458437] 11 1 2\n",
      "[2.01230087] 12 1 2\n",
      "[1.65550553] 13 1 2\n",
      "[1.13870957] 14 1 2\n",
      "[0.46630054] 15 1 2\n",
      "[-0.35745435] 16 1 2\n",
      "[-1.32840488] 17 1 2\n",
      "[-2.44251467] 18 1 2\n",
      "[-3.69585799] 19 1 2\n",
      "[-5.08461679] 20 1 2\n",
      "[-6.6050777] 21 1 2\n",
      "[-8.25362919] 22 1 2\n",
      "[-10.02675876] 23 1 2\n",
      "[-7.84700494] 0 2 2\n",
      "[-5.89680897] 1 2 2\n",
      "[-4.16987591] 2 2 2\n",
      "[-2.66008345] 3 2 2\n",
      "[-1.36147716] 4 2 2\n",
      "[-0.2682659] 5 2 2\n",
      "[0.62518268] 6 2 2\n",
      "[1.32434647] 7 2 2\n",
      "[1.83455314] 8 2 2\n",
      "[2.16098427] 9 2 2\n",
      "[2.30867936] 10 2 2\n",
      "[2.28253971] 11 2 2\n",
      "[2.08733221] 12 2 2\n",
      "[1.72769303] 13 2 2\n",
      "[1.20813123] 14 2 2\n",
      "[0.5330322] 15 2 2\n",
      "[-0.29333892] 16 2 2\n",
      "[-1.26683394] 17 2 2\n",
      "[-2.38341844] 18 2 2\n",
      "[-3.63916862] 19 2 2\n",
      "[-5.03026827] 20 2 2\n",
      "[-6.55300585] 21 2 2\n",
      "[-8.20377157] 22 2 2\n",
      "[-9.97905465] 23 2 2\n",
      "[-7.80139529] 0 3 2\n",
      "[-5.85323634] 1 3 2\n",
      "[-4.12828445] 2 3 2\n",
      "[-2.62041883] 3 3 2\n",
      "[-1.32368654] 4 3 2\n",
      "[-0.23229789] 5 3 2\n",
      "[0.65937805] 6 3 2\n",
      "[1.35681781] 7 3 2\n",
      "[1.86534774] 8 3 2\n",
      "[2.1901481] 9 3 2\n",
      "[2.33625715] 10 3 2\n",
      "[2.30857494] 11 3 2\n",
      "[2.11186718] 12 3 2\n",
      "[1.75076889] 13 3 2\n",
      "[1.22978798] 14 3 2\n",
      "[0.55330876] 15 3 2\n",
      "[-0.2744047] 16 3 2\n",
      "[-1.24920526] 17 3 2\n",
      "[-2.36705949] 18 3 2\n",
      "[-3.62404458] 19 3 2\n",
      "[-5.01634528] 20 3 2\n",
      "[-6.54025097] 21 3 2\n",
      "[-8.19215277] 22 3 2\n",
      "[-9.96854079] 23 3 2\n",
      "[-7.79195606] 0 4 2\n",
      "[-5.84484227] 1 4 2\n",
      "[-4.12090688] 2 4 2\n",
      "[-2.61402988] 3 4 2\n",
      "[-1.31825911] 4 4 2\n",
      "[-0.22780561] 5 4 2\n",
      "[0.66296083] 6 4 2\n",
      "[1.35951603] 7 4 2\n",
      "[1.86718564] 8 4 2\n",
      "[2.19114929] 9 4 2\n",
      "[2.33644456] 10 4 2\n",
      "[2.30797089] 11 4 2\n",
      "[2.11049338] 12 4 2\n",
      "[1.74864644] 13 4 2\n",
      "[1.22693742] 14 4 2\n",
      "[0.54975005] 15 4 2\n",
      "[-0.27865214] 16 4 2\n",
      "[-1.25412254] 17 4 2\n",
      "[-2.37262825] 18 4 2\n",
      "[-3.63024695] 19 4 2\n",
      "[-5.02316389] 20 4 2\n",
      "[-6.54766892] 21 4 2\n",
      "[-8.20015363] 22 4 2\n",
      "[-9.97710856] 23 4 2\n",
      "[-7.8010752] 0 5 2\n",
      "[-5.85449766] 1 5 2\n",
      "[-4.13108382] 2 5 2\n",
      "[-2.62471407] 3 5 2\n",
      "[-1.32943664] 4 5 2\n",
      "[-0.23946294] 5 5 2\n",
      "[0.65083685] 6 5 2\n",
      "[1.34693819] 7 5 2\n",
      "[1.85416639] 8 5 2\n",
      "[2.17770074] 9 5 2\n",
      "[2.32257848] 10 5 2\n",
      "[2.29369873] 11 5 2\n",
      "[2.09582627] 12 5 2\n",
      "[1.73359521] 13 5 2\n",
      "[1.21151261] 14 5 2\n",
      "[0.5339619] 15 5 2\n",
      "[-0.29479367] 16 5 2\n",
      "[-1.27060776] 17 5 2\n",
      "[-2.38944772] 18 5 2\n",
      "[-3.64739152] 19 5 2\n",
      "[-5.04062464] 20 5 2\n",
      "[-6.56543717] 21 5 2\n",
      "[-8.21822096] 22 5 2\n",
      "[-9.99546677] 23 5 2\n",
      "[-7.81971631] 0 6 2\n",
      "[-5.87341392] 1 6 2\n",
      "[-4.15026767] 2 6 2\n",
      "[-2.64415818] 3 6 2\n",
      "[-1.34913387] 4 6 2\n",
      "[-0.25940635] 5 6 2\n",
      "[0.63065401] 6 6 2\n",
      "[1.32652248] 7 6 2\n",
      "[1.83352421] 8 6 2\n",
      "[2.15683829] 9 6 2\n",
      "[2.3015018] 10 6 2\n",
      "[2.27241369] 11 6 2\n",
      "[2.07433859] 12 6 2\n",
      "[1.71191046] 13 6 2\n",
      "[1.18963617] 14 6 2\n",
      "[0.51189904] 15 6 2\n",
      "[-0.31703784] 16 6 2\n",
      "[-1.29302826] 17 6 2\n",
      "[-2.41203974] 18 6 2\n",
      "[-3.67015033] 19 6 2\n",
      "[-5.06354568] 20 6 2\n",
      "[-6.58851599] 21 6 2\n",
      "[-8.24145323] 22 6 2\n",
      "[-10.01884828] 23 6 2\n",
      "[-7.84324297] 0 7 2\n",
      "[-5.89708175] 1 7 2\n",
      "[-4.1740728] 2 7 2\n",
      "[-2.66809684] 3 7 2\n",
      "[-1.3732024] 4 7 2\n",
      "[-0.2836012] 5 7 2\n",
      "[0.60633631] 6 7 2\n",
      "[1.30208531] 7 7 2\n",
      "[1.80897084] 8 7 2\n",
      "[2.1321719] 9 7 2\n",
      "[2.27672549] 10 7 2\n"
     ]
    }
   ],
   "source": [
    "#For hourly, daily, weekly and min max temp details\n",
    "L=[]\n",
    "import random\n",
    "D=date.day\n",
    "H=date.hour\n",
    "M=date.month\n",
    "tp=33\n",
    "for d in range(1,15):\n",
    "    for h in range(1,25):\n",
    "        para=np.array([D,M,H,48,45,0,tp]).reshape(1,-1)\n",
    "        p=tlrmodel.predict(para)\n",
    "        print(p,H,D,M)\n",
    "        tp=list(p)[0]\n",
    "        H+=1\n",
    "        if H==24:\n",
    "            H=0\n",
    "            h=24\n",
    "            D+=1\n",
    "        if D==31:\n",
    "            M+=1\n",
    "            D=1\n",
    "        \n"
   ]
  },
  {
   "cell_type": "code",
   "execution_count": 50,
   "metadata": {},
   "outputs": [
    {
     "ename": "AttributeError",
     "evalue": "'Series' object has no attribute 'value_count'",
     "output_type": "error",
     "traceback": [
      "\u001b[1;31m---------------------------------------------------------------------------\u001b[0m",
      "\u001b[1;31mAttributeError\u001b[0m                            Traceback (most recent call last)",
      "\u001b[1;32m<ipython-input-50-7cec00008b5b>\u001b[0m in \u001b[0;36m<module>\u001b[1;34m\u001b[0m\n\u001b[1;32m----> 1\u001b[1;33m \u001b[0mweather_df\u001b[0m\u001b[1;33m[\u001b[0m\u001b[1;34m\"temp\"\u001b[0m\u001b[1;33m]\u001b[0m\u001b[1;33m.\u001b[0m\u001b[0mvalue_count\u001b[0m\u001b[1;33m(\u001b[0m\u001b[1;33m)\u001b[0m\u001b[1;33m\u001b[0m\u001b[1;33m\u001b[0m\u001b[0m\n\u001b[0m",
      "\u001b[1;32m~\\Anaconda3\\lib\\site-packages\\pandas\\core\\generic.py\u001b[0m in \u001b[0;36m__getattr__\u001b[1;34m(self, name)\u001b[0m\n\u001b[0;32m   5177\u001b[0m             \u001b[1;32mif\u001b[0m \u001b[0mself\u001b[0m\u001b[1;33m.\u001b[0m\u001b[0m_info_axis\u001b[0m\u001b[1;33m.\u001b[0m\u001b[0m_can_hold_identifiers_and_holds_name\u001b[0m\u001b[1;33m(\u001b[0m\u001b[0mname\u001b[0m\u001b[1;33m)\u001b[0m\u001b[1;33m:\u001b[0m\u001b[1;33m\u001b[0m\u001b[1;33m\u001b[0m\u001b[0m\n\u001b[0;32m   5178\u001b[0m                 \u001b[1;32mreturn\u001b[0m \u001b[0mself\u001b[0m\u001b[1;33m[\u001b[0m\u001b[0mname\u001b[0m\u001b[1;33m]\u001b[0m\u001b[1;33m\u001b[0m\u001b[1;33m\u001b[0m\u001b[0m\n\u001b[1;32m-> 5179\u001b[1;33m             \u001b[1;32mreturn\u001b[0m \u001b[0mobject\u001b[0m\u001b[1;33m.\u001b[0m\u001b[0m__getattribute__\u001b[0m\u001b[1;33m(\u001b[0m\u001b[0mself\u001b[0m\u001b[1;33m,\u001b[0m \u001b[0mname\u001b[0m\u001b[1;33m)\u001b[0m\u001b[1;33m\u001b[0m\u001b[1;33m\u001b[0m\u001b[0m\n\u001b[0m\u001b[0;32m   5180\u001b[0m \u001b[1;33m\u001b[0m\u001b[0m\n\u001b[0;32m   5181\u001b[0m     \u001b[1;32mdef\u001b[0m \u001b[0m__setattr__\u001b[0m\u001b[1;33m(\u001b[0m\u001b[0mself\u001b[0m\u001b[1;33m,\u001b[0m \u001b[0mname\u001b[0m\u001b[1;33m,\u001b[0m \u001b[0mvalue\u001b[0m\u001b[1;33m)\u001b[0m\u001b[1;33m:\u001b[0m\u001b[1;33m\u001b[0m\u001b[1;33m\u001b[0m\u001b[0m\n",
      "\u001b[1;31mAttributeError\u001b[0m: 'Series' object has no attribute 'value_count'"
     ]
    }
   ],
   "source": [
    "weather_df[\"temp\"].value_count()"
   ]
  },
  {
   "cell_type": "code",
   "execution_count": null,
   "metadata": {},
   "outputs": [],
   "source": []
  }
 ],
 "metadata": {
  "kernelspec": {
   "display_name": "Python 3",
   "language": "python",
   "name": "python3"
  },
  "language_info": {
   "codemirror_mode": {
    "name": "ipython",
    "version": 3
   },
   "file_extension": ".py",
   "mimetype": "text/x-python",
   "name": "python",
   "nbconvert_exporter": "python",
   "pygments_lexer": "ipython3",
   "version": "3.8.12"
  }
 },
 "nbformat": 4,
 "nbformat_minor": 2
}
