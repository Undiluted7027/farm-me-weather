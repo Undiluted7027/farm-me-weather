{
 "cells": [
  {
   "cell_type": "code",
   "execution_count": 1,
   "metadata": {},
   "outputs": [],
   "source": [
    "#Importing all the libraries and modules\n",
    "import warnings\n",
    "warnings.filterwarnings('ignore')\n",
    "import numpy as np\n",
    "import pandas as pd\n",
    "from matplotlib import pyplot as plt\n",
    "%matplotlib inline\n",
    "\n",
    "import sklearn\n",
    "from sklearn.model_selection import train_test_split\n",
    "from sklearn.metrics import accuracy_score\n",
    "\n",
    "from sklearn.linear_model import LinearRegression\n",
    "from sklearn import preprocessing\n",
    "\n",
    "# MAIN = C:\\Users\\San\\agritech\\Weather-Prediction-Model-IBM\\Final Datasets\\nHumidity.csv"
   ]
  },
  {
   "cell_type": "code",
   "execution_count": 2,
   "metadata": {},
   "outputs": [],
   "source": [
    "humidity=pd.read_csv(r'C:\\Users\\San\\agritech\\Weather-Prediction-Model-IBM\\Final Datasets\\nHumidity.csv')"
   ]
  },
  {
   "cell_type": "code",
   "execution_count": 5,
   "metadata": {},
   "outputs": [
    {
     "name": "stdout",
     "output_type": "stream",
     "text": [
      "(100990, 9)\n",
      "                Date          Month           Hour          dewpt  \\\n",
      "count  100990.000000  100990.000000  100990.000000  100369.000000   \n",
      "mean       15.690049       6.579344      10.928844      15.741205   \n",
      "std         8.769718       3.475841       6.854328       7.058587   \n",
      "min         1.000000       1.000000       0.000000     -24.000000   \n",
      "25%         8.000000       4.000000       5.000000      10.000000   \n",
      "50%        16.000000       7.000000      11.000000      15.000000   \n",
      "75%        23.000000      10.000000      17.000000      22.000000   \n",
      "max        31.000000      12.000000      23.000000      75.000000   \n",
      "\n",
      "          heatindex       humidity           temp           rain  \\\n",
      "count  29155.000000  100233.000000  100990.000000  100990.000000   \n",
      "mean      35.651710      57.909571      25.435916       0.026260   \n",
      "std        5.015384      23.807671       8.481933       0.159908   \n",
      "min       26.800000       4.000000       1.000000       0.000000   \n",
      "25%       31.700000      39.000000      19.000000       0.000000   \n",
      "50%       35.100000      59.000000      27.000000       0.000000   \n",
      "75%       39.200000      78.000000      32.000000       0.000000   \n",
      "max       73.600000     243.000000      47.000000       1.000000   \n",
      "\n",
      "       humidity previous  \n",
      "count      100233.000000  \n",
      "mean           57.909481  \n",
      "std            23.807771  \n",
      "min             4.000000  \n",
      "25%            39.000000  \n",
      "50%            59.000000  \n",
      "75%            78.000000  \n",
      "max           243.000000  \n",
      "   Date  Month  Hour  dewpt  heatindex  humidity  temp  rain  \\\n",
      "0     1     11    11    9.0        NaN      32.0  30.0     0   \n",
      "1     1     11    12   10.0        NaN      44.0  28.0     0   \n",
      "2     1     11    13   11.0        NaN      41.0  24.0     0   \n",
      "3     1     11    14   10.0        NaN      47.0  24.0     0   \n",
      "4     1     11    16   11.0        NaN      56.0  23.0     0   \n",
      "\n",
      "   humidity previous  \n",
      "0               27.0  \n",
      "1               32.0  \n",
      "2               44.0  \n",
      "3               41.0  \n",
      "4               47.0  \n",
      "Index(['Date', 'Month', 'Hour', 'dewpt', 'heatindex', 'humidity', 'temp',\n",
      "       'rain', 'humidity previous'],\n",
      "      dtype='object')\n"
     ]
    }
   ],
   "source": [
    "print(humidity.shape)\n",
    "print(humidity.describe())\n",
    "print(humidity.head())\n",
    "print(humidity.columns)\n",
    "import warnings\n",
    "warnings.filterwarnings('ignore')"
   ]
  },
  {
   "cell_type": "markdown",
   "metadata": {},
   "source": [
    "# Preprocessing the data"
   ]
  },
  {
   "cell_type": "code",
   "execution_count": 6,
   "metadata": {},
   "outputs": [
    {
     "name": "stdout",
     "output_type": "stream",
     "text": [
      "False\n"
     ]
    }
   ],
   "source": [
    "# Temperature\n",
    "print(humidity[\"temp\"].isnull().any())\n",
    "\n",
    "def replace(j):\n",
    "    if humidity[\"temp\"][j]!=(-10):\n",
    "        return humidity[\"temp\"][j]\n",
    "    else:\n",
    "        return replace(j+1)\n",
    "        \n",
    "humidity[\"temp\"].fillna(-10, inplace = True)\n",
    "\n",
    "for i in range(100990):\n",
    "    if humidity[\"temp\"][i]==-10:\n",
    "        humidity[\"temp\"][i]=(replace(i+1)+humidity[\"temp\"][i-1])/2\n",
    "    elif humidity[\"temp\"][i]>=50:\n",
    "        humidity[\"temp\"][i]=(humidity[\"temp\"][i-1]+humidity[\"temp\"][i+1])/2\n",
    "        "
   ]
  },
  {
   "cell_type": "code",
   "execution_count": 7,
   "metadata": {},
   "outputs": [
    {
     "name": "stdout",
     "output_type": "stream",
     "text": [
      "False\n"
     ]
    },
    {
     "data": {
      "text/plain": [
       "15.5"
      ]
     },
     "execution_count": 7,
     "metadata": {},
     "output_type": "execute_result"
    }
   ],
   "source": [
    "print(humidity[\"temp\"].isnull().any())\n",
    "humidity[\"temp\"][124]"
   ]
  },
  {
   "cell_type": "code",
   "execution_count": 9,
   "metadata": {},
   "outputs": [
    {
     "name": "stdout",
     "output_type": "stream",
     "text": [
      "True\n"
     ]
    }
   ],
   "source": [
    "# Humidity Previous\n",
    "\n",
    "print(humidity[\"humidity previous\"].isnull().any())\n",
    "\n",
    "humidity[\"humidity previous\"].fillna(-100, inplace = True)\n",
    "\n",
    "def replace(j):\n",
    "    if humidity[\"humidity previous\"][j]!=(-100):\n",
    "        return humidity[\"humidity previous\"][j]\n",
    "    else:\n",
    "        return replace(j+1)\n",
    "\n",
    "for i in range(100990):\n",
    "    if humidity[\"humidity previous\"][i]==-100:\n",
    "        humidity[\"humidity previous\"][i]=(replace(i+1)+humidity[\"humidity previous\"][i-1])/2\n",
    "    elif humidity[\"humidity previous\"][i]>100:\n",
    "        humidity[\"humidity previous\"][i]=(humidity[\"humidity previous\"][i-1]+humidity[\"humidity previous\"][i+1])/2\n",
    "\n"
   ]
  },
  {
   "cell_type": "code",
   "execution_count": 10,
   "metadata": {},
   "outputs": [
    {
     "data": {
      "text/plain": [
       "59.0"
      ]
     },
     "execution_count": 10,
     "metadata": {},
     "output_type": "execute_result"
    }
   ],
   "source": [
    "humidity[\"humidity previous\"][124]"
   ]
  },
  {
   "cell_type": "code",
   "execution_count": 12,
   "metadata": {},
   "outputs": [
    {
     "name": "stdout",
     "output_type": "stream",
     "text": [
      "True\n"
     ]
    }
   ],
   "source": [
    "# Humidity\n",
    "\n",
    "print(humidity[\"humidity\"].isnull().any())\n",
    "\n",
    "humidity[\"humidity\"].fillna(-300, inplace = True)\n",
    "\n",
    "for i in range(100990):\n",
    "    if humidity[\"humidity\"][i]==-300:\n",
    "        humidity[\"humidity\"][i]=humidity[\"humidity previous\"][i+1]\n",
    "    elif humidity[\"humidity\"][i]>100:\n",
    "        humidity[\"humidity\"][i]=humidity[\"humidity previous\"][i+1]\n"
   ]
  },
  {
   "cell_type": "code",
   "execution_count": 13,
   "metadata": {},
   "outputs": [
    {
     "data": {
      "text/plain": [
       "59.0"
      ]
     },
     "execution_count": 13,
     "metadata": {},
     "output_type": "execute_result"
    }
   ],
   "source": [
    "humidity[\"humidity\"][123]"
   ]
  },
  {
   "cell_type": "code",
   "execution_count": 16,
   "metadata": {},
   "outputs": [],
   "source": [
    "#Heat Index\n",
    "\n",
    "#This is the function for calculating heat index\n",
    "def HI(t,H):\n",
    "    c1 = -42.379\n",
    "    c2= 2.04901523\n",
    "    c3 = 10.14333127\n",
    "    c4 = -0.22475541\n",
    "    c5 = -6.83783 *(0.001)\n",
    "    c6 = -5.481717 * (0.01)\n",
    "    c7 = 1.22874 * (0.001)\n",
    "    c8 = 8.5282 * (0.0001)\n",
    "    c9 = -1.99 * (0.000001)\n",
    "    T=(1.8*t)+32\n",
    "    HI=c1+(c2*T)+(c3*H)+(c4*T*H)+(c5*T*T)+(c6*H*H)+(c7*T*H*T)+(c8*T*H*H)+(c9*T*H*T*H)\n",
    "    FHI=((HI-32)*5)/9\n",
    "    return FHI\n",
    "\n",
    "humidity[\"heatindex\"].fillna(-200, inplace = True)\n",
    "\n",
    "\n",
    "for i in range(100990):\n",
    "    if humidity[\"heatindex\"][i]==-200:\n",
    "        humidity[\"heatindex\"][i]=HI(humidity[\"temp\"][i],humidity[\"humidity previous\"][i])\n",
    "    elif humidity[\"heatindex\"][i]>60:\n",
    "        humidity[\"heatindex\"][i]=HI(humidity[\"temp\"][i],humidity[\"humidity previous\"][i])"
   ]
  },
  {
   "cell_type": "code",
   "execution_count": 17,
   "metadata": {},
   "outputs": [
    {
     "data": {
      "text/plain": [
       "27.90896452244449"
      ]
     },
     "execution_count": 17,
     "metadata": {},
     "output_type": "execute_result"
    }
   ],
   "source": [
    "humidity[\"heatindex\"][124]"
   ]
  },
  {
   "cell_type": "code",
   "execution_count": 20,
   "metadata": {},
   "outputs": [],
   "source": [
    "# Dew Point\n",
    "\n",
    "#Function for calculating Dew Point\n",
    "import math\n",
    "def ln(n):\n",
    "    return math.log(n,math.e)\n",
    "def Tdew(T,H):\n",
    "    nl =ln(H/100)\n",
    "    s=237.3+T\n",
    "    m=17.27*T\n",
    "    TD = (237.3*(nl+(m/s)))/(17.27+(-1)*(nl+(m/s)))    \n",
    "    return TD\n",
    "\n",
    "humidity[\"dewpt\"].fillna(-500, inplace = True)\n",
    "\n",
    "\n",
    "for i in range(100990):\n",
    "    if humidity[\"dewpt\"][i]==-500:\n",
    "        humidity[\"dewpt\"][i]=Tdew(humidity[\"temp\"][i],humidity[\"humidity previous\"][i])\n",
    "    elif humidity[\"dewpt\"][i]>40 or humidity[\"dewpt\"][i]<(-12):\n",
    "        humidity[\"dewpt\"][i]=Tdew(humidity[\"temp\"][i],humidity[\"humidity previous\"][i])\n",
    "        "
   ]
  },
  {
   "cell_type": "code",
   "execution_count": 19,
   "metadata": {},
   "outputs": [
    {
     "data": {
      "text/plain": [
       "7.531332110544606"
      ]
     },
     "execution_count": 19,
     "metadata": {},
     "output_type": "execute_result"
    }
   ],
   "source": [
    "humidity[\"dewpt\"][124]"
   ]
  },
  {
   "cell_type": "code",
   "execution_count": 21,
   "metadata": {},
   "outputs": [],
   "source": [
    "humidity_num=humidity[list(humidity.dtypes[humidity.dtypes!='object'].index)]\n",
    "humidity_y=humidity_num.pop('humidity')\n",
    "humidity_x=humidity_num"
   ]
  },
  {
   "cell_type": "code",
   "execution_count": 22,
   "metadata": {},
   "outputs": [
    {
     "data": {
      "text/html": [
       "<div>\n",
       "<style scoped>\n",
       "    .dataframe tbody tr th:only-of-type {\n",
       "        vertical-align: middle;\n",
       "    }\n",
       "\n",
       "    .dataframe tbody tr th {\n",
       "        vertical-align: top;\n",
       "    }\n",
       "\n",
       "    .dataframe thead th {\n",
       "        text-align: right;\n",
       "    }\n",
       "</style>\n",
       "<table border=\"1\" class=\"dataframe\">\n",
       "  <thead>\n",
       "    <tr style=\"text-align: right;\">\n",
       "      <th></th>\n",
       "      <th>Date</th>\n",
       "      <th>Month</th>\n",
       "      <th>Hour</th>\n",
       "      <th>dewpt</th>\n",
       "      <th>heatindex</th>\n",
       "      <th>temp</th>\n",
       "      <th>rain</th>\n",
       "      <th>humidity previous</th>\n",
       "    </tr>\n",
       "  </thead>\n",
       "  <tbody>\n",
       "    <tr>\n",
       "      <td>99686</td>\n",
       "      <td>6</td>\n",
       "      <td>1</td>\n",
       "      <td>15</td>\n",
       "      <td>17.0</td>\n",
       "      <td>15.316544</td>\n",
       "      <td>18.0</td>\n",
       "      <td>0</td>\n",
       "      <td>96.0</td>\n",
       "    </tr>\n",
       "    <tr>\n",
       "      <td>18305</td>\n",
       "      <td>29</td>\n",
       "      <td>1</td>\n",
       "      <td>10</td>\n",
       "      <td>5.0</td>\n",
       "      <td>24.825667</td>\n",
       "      <td>21.0</td>\n",
       "      <td>0</td>\n",
       "      <td>35.0</td>\n",
       "    </tr>\n",
       "    <tr>\n",
       "      <td>91877</td>\n",
       "      <td>20</td>\n",
       "      <td>8</td>\n",
       "      <td>6</td>\n",
       "      <td>25.0</td>\n",
       "      <td>36.195542</td>\n",
       "      <td>32.0</td>\n",
       "      <td>0</td>\n",
       "      <td>57.0</td>\n",
       "    </tr>\n",
       "    <tr>\n",
       "      <td>55714</td>\n",
       "      <td>29</td>\n",
       "      <td>2</td>\n",
       "      <td>14</td>\n",
       "      <td>12.0</td>\n",
       "      <td>25.389065</td>\n",
       "      <td>24.0</td>\n",
       "      <td>0</td>\n",
       "      <td>47.0</td>\n",
       "    </tr>\n",
       "    <tr>\n",
       "      <td>40664</td>\n",
       "      <td>2</td>\n",
       "      <td>2</td>\n",
       "      <td>7</td>\n",
       "      <td>13.0</td>\n",
       "      <td>21.773657</td>\n",
       "      <td>16.0</td>\n",
       "      <td>0</td>\n",
       "      <td>82.0</td>\n",
       "    </tr>\n",
       "  </tbody>\n",
       "</table>\n",
       "</div>"
      ],
      "text/plain": [
       "       Date  Month  Hour  dewpt  heatindex  temp  rain  humidity previous\n",
       "99686     6      1    15   17.0  15.316544  18.0     0               96.0\n",
       "18305    29      1    10    5.0  24.825667  21.0     0               35.0\n",
       "91877    20      8     6   25.0  36.195542  32.0     0               57.0\n",
       "55714    29      2    14   12.0  25.389065  24.0     0               47.0\n",
       "40664     2      2     7   13.0  21.773657  16.0     0               82.0"
      ]
     },
     "execution_count": 22,
     "metadata": {},
     "output_type": "execute_result"
    }
   ],
   "source": [
    "train_x,test_x,train_y,test_y=train_test_split(humidity_x,humidity_y,test_size=0.2,random_state=4)\n",
    "train_x.head()"
   ]
  },
  {
   "cell_type": "code",
   "execution_count": 23,
   "metadata": {},
   "outputs": [
    {
     "data": {
      "text/plain": [
       "LinearRegression(copy_X=True, fit_intercept=True, n_jobs=None, normalize=False)"
      ]
     },
     "execution_count": 23,
     "metadata": {},
     "output_type": "execute_result"
    }
   ],
   "source": [
    "#First Model Linear Regression\n",
    "hmodel = LinearRegression()\n",
    "hmodel.fit(train_x,train_y)"
   ]
  },
  {
   "cell_type": "code",
   "execution_count": 24,
   "metadata": {},
   "outputs": [
    {
     "name": "stdout",
     "output_type": "stream",
     "text": [
      "       Date  Month  Hour  dewpt  heatindex  temp  rain  humidity previous\n",
      "16733    18     11     8    4.0  26.768215  28.0     0               21.0\n",
      "82934    21      4    15   14.0  28.553710  30.0     0               27.0\n",
      "33831    11      4    13    3.0  32.450585  35.0     0               13.0\n",
      "22660    14     12    19   10.0  25.969198  14.0     0               77.0\n",
      "47063    16      8    14   26.0  33.600000  28.0     0               89.0\n",
      "...     ...    ...   ...    ...        ...   ...   ...                ...\n",
      "26343    24      5     8   16.0  44.400000  43.0     0               21.0\n",
      "10264    12      9    22   24.0  25.540468  25.0     0               94.0\n",
      "17753     4      1    15    9.0  26.601143  11.0     0               88.0\n",
      "98956     2     12    12   17.0  23.190211  22.0     0               73.0\n",
      "46164    26      7    23   25.0  34.500000  29.0     0               79.0\n",
      "\n",
      "[20198 rows x 8 columns]\n"
     ]
    },
    {
     "data": {
      "text/plain": [
       "101.04667661277239"
      ]
     },
     "execution_count": 24,
     "metadata": {},
     "output_type": "execute_result"
    }
   ],
   "source": [
    "print(test_x)\n",
    "prediction=hmodel.predict(test_x)\n",
    "#Calculating error\n",
    "np.mean((prediction-test_y)**2)"
   ]
  },
  {
   "cell_type": "code",
   "execution_count": 25,
   "metadata": {},
   "outputs": [
    {
     "data": {
      "text/html": [
       "<div>\n",
       "<style scoped>\n",
       "    .dataframe tbody tr th:only-of-type {\n",
       "        vertical-align: middle;\n",
       "    }\n",
       "\n",
       "    .dataframe tbody tr th {\n",
       "        vertical-align: top;\n",
       "    }\n",
       "\n",
       "    .dataframe thead th {\n",
       "        text-align: right;\n",
       "    }\n",
       "</style>\n",
       "<table border=\"1\" class=\"dataframe\">\n",
       "  <thead>\n",
       "    <tr style=\"text-align: right;\">\n",
       "      <th></th>\n",
       "      <th>actual</th>\n",
       "      <th>prediction</th>\n",
       "      <th>diff</th>\n",
       "    </tr>\n",
       "  </thead>\n",
       "  <tbody>\n",
       "    <tr>\n",
       "      <td>16733</td>\n",
       "      <td>20.0</td>\n",
       "      <td>22.335772</td>\n",
       "      <td>-2.335772</td>\n",
       "    </tr>\n",
       "    <tr>\n",
       "      <td>82934</td>\n",
       "      <td>40.0</td>\n",
       "      <td>34.963251</td>\n",
       "      <td>5.036749</td>\n",
       "    </tr>\n",
       "    <tr>\n",
       "      <td>33831</td>\n",
       "      <td>18.0</td>\n",
       "      <td>15.554636</td>\n",
       "      <td>2.445364</td>\n",
       "    </tr>\n",
       "    <tr>\n",
       "      <td>22660</td>\n",
       "      <td>77.0</td>\n",
       "      <td>79.360381</td>\n",
       "      <td>-2.360381</td>\n",
       "    </tr>\n",
       "    <tr>\n",
       "      <td>47063</td>\n",
       "      <td>94.0</td>\n",
       "      <td>86.176391</td>\n",
       "      <td>7.823609</td>\n",
       "    </tr>\n",
       "    <tr>\n",
       "      <td>...</td>\n",
       "      <td>...</td>\n",
       "      <td>...</td>\n",
       "      <td>...</td>\n",
       "    </tr>\n",
       "    <tr>\n",
       "      <td>26343</td>\n",
       "      <td>21.0</td>\n",
       "      <td>21.356693</td>\n",
       "      <td>-0.356693</td>\n",
       "    </tr>\n",
       "    <tr>\n",
       "      <td>10264</td>\n",
       "      <td>100.0</td>\n",
       "      <td>94.990357</td>\n",
       "      <td>5.009643</td>\n",
       "    </tr>\n",
       "    <tr>\n",
       "      <td>17753</td>\n",
       "      <td>94.0</td>\n",
       "      <td>85.210003</td>\n",
       "      <td>8.789997</td>\n",
       "    </tr>\n",
       "    <tr>\n",
       "      <td>98956</td>\n",
       "      <td>83.0</td>\n",
       "      <td>71.625814</td>\n",
       "      <td>11.374186</td>\n",
       "    </tr>\n",
       "    <tr>\n",
       "      <td>46164</td>\n",
       "      <td>79.0</td>\n",
       "      <td>83.658151</td>\n",
       "      <td>-4.658151</td>\n",
       "    </tr>\n",
       "  </tbody>\n",
       "</table>\n",
       "<p>20198 rows × 3 columns</p>\n",
       "</div>"
      ],
      "text/plain": [
       "       actual  prediction       diff\n",
       "16733    20.0   22.335772  -2.335772\n",
       "82934    40.0   34.963251   5.036749\n",
       "33831    18.0   15.554636   2.445364\n",
       "22660    77.0   79.360381  -2.360381\n",
       "47063    94.0   86.176391   7.823609\n",
       "...       ...         ...        ...\n",
       "26343    21.0   21.356693  -0.356693\n",
       "10264   100.0   94.990357   5.009643\n",
       "17753    94.0   85.210003   8.789997\n",
       "98956    83.0   71.625814  11.374186\n",
       "46164    79.0   83.658151  -4.658151\n",
       "\n",
       "[20198 rows x 3 columns]"
      ]
     },
     "execution_count": 25,
     "metadata": {},
     "output_type": "execute_result"
    }
   ],
   "source": [
    "pd.DataFrame({'actual':test_y,'prediction':prediction,'diff':(test_y-prediction)})"
   ]
  },
  {
   "cell_type": "code",
   "execution_count": 7,
   "metadata": {},
   "outputs": [],
   "source": [
    "import warnings\n",
    "warnings.filterwarnings('ignore')"
   ]
  },
  {
   "cell_type": "code",
   "execution_count": 26,
   "metadata": {},
   "outputs": [
    {
     "data": {
      "text/plain": [
       "['nHLinearRegression.pkl']"
      ]
     },
     "execution_count": 26,
     "metadata": {},
     "output_type": "execute_result"
    }
   ],
   "source": [
    "from sklearn.externals import joblib \n",
    "  \n",
    "# Save the model as a pickle in a file \n",
    "joblib.dump(hmodel, 'nHLinearRegression.pkl') \n",
    "  \n",
    "# Load the model from the file only to be uncommented when to be used \n",
    "#LR = joblib.load('LRTP.pkl')  \n",
    "  \n",
    "# Use the loaded model to make predictions \n",
    "#LR.predict(X_test)"
   ]
  },
  {
   "cell_type": "code",
   "execution_count": 27,
   "metadata": {},
   "outputs": [],
   "source": [
    "#Polynomial Regression\n",
    "from sklearn.preprocessing import PolynomialFeatures"
   ]
  },
  {
   "cell_type": "code",
   "execution_count": 28,
   "metadata": {},
   "outputs": [
    {
     "data": {
      "text/plain": [
       "LinearRegression(copy_X=True, fit_intercept=True, n_jobs=None, normalize=False)"
      ]
     },
     "execution_count": 28,
     "metadata": {},
     "output_type": "execute_result"
    }
   ],
   "source": [
    "poly=PolynomialFeatures(degree=4)\n",
    "x_poly=poly.fit_transform(train_x)\n",
    "lin2=LinearRegression()\n",
    "poly.fit(x_poly,train_y)\n",
    "lin2.fit(x_poly,train_y)"
   ]
  },
  {
   "cell_type": "code",
   "execution_count": 30,
   "metadata": {},
   "outputs": [
    {
     "data": {
      "text/plain": [
       "65.75690933338534"
      ]
     },
     "execution_count": 30,
     "metadata": {},
     "output_type": "execute_result"
    }
   ],
   "source": [
    "prediction2=lin2.predict(poly.fit_transform(test_x))\n",
    "#Calculating the error\n",
    "np.mean((prediction2-test_y)**2)"
   ]
  },
  {
   "cell_type": "code",
   "execution_count": 43,
   "metadata": {},
   "outputs": [
    {
     "data": {
      "text/plain": [
       "['nHPoly.pkl']"
      ]
     },
     "execution_count": 43,
     "metadata": {},
     "output_type": "execute_result"
    }
   ],
   "source": [
    "joblib.dump(poly, 'nHPoly.pkl') "
   ]
  },
  {
   "cell_type": "code",
   "execution_count": 31,
   "metadata": {},
   "outputs": [
    {
     "data": {
      "text/html": [
       "<div>\n",
       "<style scoped>\n",
       "    .dataframe tbody tr th:only-of-type {\n",
       "        vertical-align: middle;\n",
       "    }\n",
       "\n",
       "    .dataframe tbody tr th {\n",
       "        vertical-align: top;\n",
       "    }\n",
       "\n",
       "    .dataframe thead th {\n",
       "        text-align: right;\n",
       "    }\n",
       "</style>\n",
       "<table border=\"1\" class=\"dataframe\">\n",
       "  <thead>\n",
       "    <tr style=\"text-align: right;\">\n",
       "      <th></th>\n",
       "      <th>actual</th>\n",
       "      <th>prediction</th>\n",
       "      <th>diff</th>\n",
       "    </tr>\n",
       "  </thead>\n",
       "  <tbody>\n",
       "    <tr>\n",
       "      <td>16733</td>\n",
       "      <td>20.0</td>\n",
       "      <td>23.662040</td>\n",
       "      <td>-3.662040</td>\n",
       "    </tr>\n",
       "    <tr>\n",
       "      <td>82934</td>\n",
       "      <td>40.0</td>\n",
       "      <td>40.128327</td>\n",
       "      <td>-0.128327</td>\n",
       "    </tr>\n",
       "    <tr>\n",
       "      <td>33831</td>\n",
       "      <td>18.0</td>\n",
       "      <td>14.604543</td>\n",
       "      <td>3.395457</td>\n",
       "    </tr>\n",
       "    <tr>\n",
       "      <td>22660</td>\n",
       "      <td>77.0</td>\n",
       "      <td>79.144212</td>\n",
       "      <td>-2.144212</td>\n",
       "    </tr>\n",
       "    <tr>\n",
       "      <td>47063</td>\n",
       "      <td>94.0</td>\n",
       "      <td>91.989363</td>\n",
       "      <td>2.010637</td>\n",
       "    </tr>\n",
       "    <tr>\n",
       "      <td>...</td>\n",
       "      <td>...</td>\n",
       "      <td>...</td>\n",
       "      <td>...</td>\n",
       "    </tr>\n",
       "    <tr>\n",
       "      <td>26343</td>\n",
       "      <td>21.0</td>\n",
       "      <td>20.622246</td>\n",
       "      <td>0.377754</td>\n",
       "    </tr>\n",
       "    <tr>\n",
       "      <td>10264</td>\n",
       "      <td>100.0</td>\n",
       "      <td>93.507875</td>\n",
       "      <td>6.492125</td>\n",
       "    </tr>\n",
       "    <tr>\n",
       "      <td>17753</td>\n",
       "      <td>94.0</td>\n",
       "      <td>91.782633</td>\n",
       "      <td>2.217367</td>\n",
       "    </tr>\n",
       "    <tr>\n",
       "      <td>98956</td>\n",
       "      <td>83.0</td>\n",
       "      <td>77.062356</td>\n",
       "      <td>5.937644</td>\n",
       "    </tr>\n",
       "    <tr>\n",
       "      <td>46164</td>\n",
       "      <td>79.0</td>\n",
       "      <td>82.727640</td>\n",
       "      <td>-3.727640</td>\n",
       "    </tr>\n",
       "  </tbody>\n",
       "</table>\n",
       "<p>20198 rows × 3 columns</p>\n",
       "</div>"
      ],
      "text/plain": [
       "       actual  prediction      diff\n",
       "16733    20.0   23.662040 -3.662040\n",
       "82934    40.0   40.128327 -0.128327\n",
       "33831    18.0   14.604543  3.395457\n",
       "22660    77.0   79.144212 -2.144212\n",
       "47063    94.0   91.989363  2.010637\n",
       "...       ...         ...       ...\n",
       "26343    21.0   20.622246  0.377754\n",
       "10264   100.0   93.507875  6.492125\n",
       "17753    94.0   91.782633  2.217367\n",
       "98956    83.0   77.062356  5.937644\n",
       "46164    79.0   82.727640 -3.727640\n",
       "\n",
       "[20198 rows x 3 columns]"
      ]
     },
     "execution_count": 31,
     "metadata": {},
     "output_type": "execute_result"
    }
   ],
   "source": [
    "pd.DataFrame({'actual':test_y,'prediction':prediction2,'diff':(test_y-prediction2)})"
   ]
  },
  {
   "cell_type": "code",
   "execution_count": 32,
   "metadata": {},
   "outputs": [
    {
     "data": {
      "text/plain": [
       "['nHPolynomialRegression.pkl']"
      ]
     },
     "execution_count": 32,
     "metadata": {},
     "output_type": "execute_result"
    }
   ],
   "source": [
    "#Saving the Polynomial Regression Model\n",
    "joblib.dump(lin2, 'nHPolynomialRegression.pkl') \n",
    "  \n",
    "# Load the model from the file only to be uncommented when to be used \n",
    "#PR = joblib.load('HUMPR.pkl')  \n",
    "  \n",
    "# Use the loaded model to make predictions \n",
    "#PR.predict(X_test)"
   ]
  },
  {
   "cell_type": "code",
   "execution_count": 33,
   "metadata": {},
   "outputs": [
    {
     "data": {
      "text/plain": [
       "DecisionTreeRegressor(criterion='mse', max_depth=None, max_features=None,\n",
       "                      max_leaf_nodes=None, min_impurity_decrease=0.0,\n",
       "                      min_impurity_split=None, min_samples_leaf=1,\n",
       "                      min_samples_split=2, min_weight_fraction_leaf=0.0,\n",
       "                      presort=False, random_state=0, splitter='best')"
      ]
     },
     "execution_count": 33,
     "metadata": {},
     "output_type": "execute_result"
    }
   ],
   "source": [
    "#Decision Tree Model\n",
    "from sklearn.tree import DecisionTreeRegressor\n",
    "regressor = DecisionTreeRegressor(random_state=0)\n",
    "regressor.fit(train_x,train_y)"
   ]
  },
  {
   "cell_type": "code",
   "execution_count": 34,
   "metadata": {},
   "outputs": [
    {
     "name": "stdout",
     "output_type": "stream",
     "text": [
      "111.34274911363609\n",
      "[75.]\n"
     ]
    }
   ],
   "source": [
    "prediction3=regressor.predict(test_x)\n",
    "print(np.mean((prediction3-test_y)**2))\n",
    "dt=np.array([6,7,17,26,43,33,1,65]).reshape(1,-1)\n",
    "print(regressor.predict(dt))"
   ]
  },
  {
   "cell_type": "code",
   "execution_count": 35,
   "metadata": {},
   "outputs": [
    {
     "data": {
      "text/plain": [
       "(20198, 8)"
      ]
     },
     "execution_count": 35,
     "metadata": {},
     "output_type": "execute_result"
    }
   ],
   "source": [
    "test_x.shape"
   ]
  },
  {
   "cell_type": "code",
   "execution_count": 41,
   "metadata": {},
   "outputs": [
    {
     "data": {
      "text/html": [
       "<div>\n",
       "<style scoped>\n",
       "    .dataframe tbody tr th:only-of-type {\n",
       "        vertical-align: middle;\n",
       "    }\n",
       "\n",
       "    .dataframe tbody tr th {\n",
       "        vertical-align: top;\n",
       "    }\n",
       "\n",
       "    .dataframe thead th {\n",
       "        text-align: right;\n",
       "    }\n",
       "</style>\n",
       "<table border=\"1\" class=\"dataframe\">\n",
       "  <thead>\n",
       "    <tr style=\"text-align: right;\">\n",
       "      <th></th>\n",
       "      <th>Date</th>\n",
       "      <th>Month</th>\n",
       "      <th>Hour</th>\n",
       "      <th>dewpt</th>\n",
       "      <th>heatindex</th>\n",
       "      <th>temp</th>\n",
       "      <th>rain</th>\n",
       "      <th>humidity previous</th>\n",
       "    </tr>\n",
       "  </thead>\n",
       "  <tbody>\n",
       "    <tr>\n",
       "      <td>16733</td>\n",
       "      <td>18</td>\n",
       "      <td>11</td>\n",
       "      <td>8</td>\n",
       "      <td>4.0</td>\n",
       "      <td>35.65171</td>\n",
       "      <td>28.0</td>\n",
       "      <td>0</td>\n",
       "      <td>35.0</td>\n",
       "    </tr>\n",
       "    <tr>\n",
       "      <td>82934</td>\n",
       "      <td>21</td>\n",
       "      <td>4</td>\n",
       "      <td>15</td>\n",
       "      <td>14.0</td>\n",
       "      <td>35.65171</td>\n",
       "      <td>30.0</td>\n",
       "      <td>0</td>\n",
       "      <td>46.0</td>\n",
       "    </tr>\n",
       "    <tr>\n",
       "      <td>33831</td>\n",
       "      <td>11</td>\n",
       "      <td>4</td>\n",
       "      <td>13</td>\n",
       "      <td>3.0</td>\n",
       "      <td>35.65171</td>\n",
       "      <td>35.0</td>\n",
       "      <td>0</td>\n",
       "      <td>12.0</td>\n",
       "    </tr>\n",
       "  </tbody>\n",
       "</table>\n",
       "</div>"
      ],
      "text/plain": [
       "       Date  Month  Hour  dewpt  heatindex  temp  rain  humidity previous\n",
       "16733    18     11     8    4.0   35.65171  28.0     0               35.0\n",
       "82934    21      4    15   14.0   35.65171  30.0     0               46.0\n",
       "33831    11      4    13    3.0   35.65171  35.0     0               12.0"
      ]
     },
     "execution_count": 41,
     "metadata": {},
     "output_type": "execute_result"
    }
   ],
   "source": [
    "test_x.head(3)"
   ]
  },
  {
   "cell_type": "code",
   "execution_count": 36,
   "metadata": {},
   "outputs": [
    {
     "data": {
      "text/plain": [
       "['nHDecisionTree.pkl']"
      ]
     },
     "execution_count": 36,
     "metadata": {},
     "output_type": "execute_result"
    }
   ],
   "source": [
    "#Saving the Decision Tree\n",
    "joblib.dump(regressor, 'nHDecisionTree.pkl') \n",
    "  \n",
    "# Load the model from the file only to be uncommented when to be used \n",
    "#DT = joblib.load('HUMDT.pkl')  \n",
    "  \n",
    "# Use the loaded model to make predictions \n",
    "#DT.predict(X_test)"
   ]
  },
  {
   "cell_type": "code",
   "execution_count": 37,
   "metadata": {},
   "outputs": [
    {
     "data": {
      "text/plain": [
       "RandomForestRegressor(bootstrap=True, criterion='mse', max_depth=60,\n",
       "                      max_features='auto', max_leaf_nodes=None,\n",
       "                      min_impurity_decrease=0.0, min_impurity_split=None,\n",
       "                      min_samples_leaf=1, min_samples_split=2,\n",
       "                      min_weight_fraction_leaf=0.0, n_estimators=100,\n",
       "                      n_jobs=None, oob_score=False, random_state=0, verbose=0,\n",
       "                      warm_start=False)"
      ]
     },
     "execution_count": 37,
     "metadata": {},
     "output_type": "execute_result"
    }
   ],
   "source": [
    "#Random Forest Model\n",
    "from sklearn.ensemble import RandomForestRegressor\n",
    "regr=RandomForestRegressor(max_depth=60,random_state=0,n_estimators=100)\n",
    "regr.fit(train_x,train_y)"
   ]
  },
  {
   "cell_type": "code",
   "execution_count": 38,
   "metadata": {},
   "outputs": [
    {
     "data": {
      "text/plain": [
       "65.45507212402073"
      ]
     },
     "execution_count": 38,
     "metadata": {},
     "output_type": "execute_result"
    }
   ],
   "source": [
    "prediction4=regr.predict(test_x)\n",
    "np.mean((prediction4-test_y)**2)"
   ]
  },
  {
   "cell_type": "code",
   "execution_count": 39,
   "metadata": {},
   "outputs": [
    {
     "data": {
      "text/plain": [
       "array([65.88])"
      ]
     },
     "execution_count": 39,
     "metadata": {},
     "output_type": "execute_result"
    }
   ],
   "source": [
    "regr.predict(dt)"
   ]
  },
  {
   "cell_type": "code",
   "execution_count": 40,
   "metadata": {},
   "outputs": [
    {
     "data": {
      "text/html": [
       "<div>\n",
       "<style scoped>\n",
       "    .dataframe tbody tr th:only-of-type {\n",
       "        vertical-align: middle;\n",
       "    }\n",
       "\n",
       "    .dataframe tbody tr th {\n",
       "        vertical-align: top;\n",
       "    }\n",
       "\n",
       "    .dataframe thead th {\n",
       "        text-align: right;\n",
       "    }\n",
       "</style>\n",
       "<table border=\"1\" class=\"dataframe\">\n",
       "  <thead>\n",
       "    <tr style=\"text-align: right;\">\n",
       "      <th></th>\n",
       "      <th>actual</th>\n",
       "      <th>prediction</th>\n",
       "      <th>diff</th>\n",
       "    </tr>\n",
       "  </thead>\n",
       "  <tbody>\n",
       "    <tr>\n",
       "      <td>16733</td>\n",
       "      <td>20.0</td>\n",
       "      <td>19.850000</td>\n",
       "      <td>0.150000</td>\n",
       "    </tr>\n",
       "    <tr>\n",
       "      <td>82934</td>\n",
       "      <td>40.0</td>\n",
       "      <td>34.710000</td>\n",
       "      <td>5.290000</td>\n",
       "    </tr>\n",
       "    <tr>\n",
       "      <td>33831</td>\n",
       "      <td>18.0</td>\n",
       "      <td>15.370000</td>\n",
       "      <td>2.630000</td>\n",
       "    </tr>\n",
       "    <tr>\n",
       "      <td>22660</td>\n",
       "      <td>77.0</td>\n",
       "      <td>84.280000</td>\n",
       "      <td>-7.280000</td>\n",
       "    </tr>\n",
       "    <tr>\n",
       "      <td>47063</td>\n",
       "      <td>94.0</td>\n",
       "      <td>90.030000</td>\n",
       "      <td>3.970000</td>\n",
       "    </tr>\n",
       "    <tr>\n",
       "      <td>...</td>\n",
       "      <td>...</td>\n",
       "      <td>...</td>\n",
       "      <td>...</td>\n",
       "    </tr>\n",
       "    <tr>\n",
       "      <td>26343</td>\n",
       "      <td>21.0</td>\n",
       "      <td>19.189333</td>\n",
       "      <td>1.810667</td>\n",
       "    </tr>\n",
       "    <tr>\n",
       "      <td>10264</td>\n",
       "      <td>100.0</td>\n",
       "      <td>91.280000</td>\n",
       "      <td>8.720000</td>\n",
       "    </tr>\n",
       "    <tr>\n",
       "      <td>17753</td>\n",
       "      <td>94.0</td>\n",
       "      <td>90.067000</td>\n",
       "      <td>3.933000</td>\n",
       "    </tr>\n",
       "    <tr>\n",
       "      <td>98956</td>\n",
       "      <td>83.0</td>\n",
       "      <td>79.510000</td>\n",
       "      <td>3.490000</td>\n",
       "    </tr>\n",
       "    <tr>\n",
       "      <td>46164</td>\n",
       "      <td>79.0</td>\n",
       "      <td>77.855000</td>\n",
       "      <td>1.145000</td>\n",
       "    </tr>\n",
       "  </tbody>\n",
       "</table>\n",
       "<p>20198 rows × 3 columns</p>\n",
       "</div>"
      ],
      "text/plain": [
       "       actual  prediction      diff\n",
       "16733    20.0   19.850000  0.150000\n",
       "82934    40.0   34.710000  5.290000\n",
       "33831    18.0   15.370000  2.630000\n",
       "22660    77.0   84.280000 -7.280000\n",
       "47063    94.0   90.030000  3.970000\n",
       "...       ...         ...       ...\n",
       "26343    21.0   19.189333  1.810667\n",
       "10264   100.0   91.280000  8.720000\n",
       "17753    94.0   90.067000  3.933000\n",
       "98956    83.0   79.510000  3.490000\n",
       "46164    79.0   77.855000  1.145000\n",
       "\n",
       "[20198 rows x 3 columns]"
      ]
     },
     "execution_count": 40,
     "metadata": {},
     "output_type": "execute_result"
    }
   ],
   "source": [
    "pd.DataFrame({'actual':test_y,'prediction':prediction4,'diff':(test_y-prediction4)})"
   ]
  },
  {
   "cell_type": "code",
   "execution_count": 41,
   "metadata": {},
   "outputs": [
    {
     "data": {
      "text/plain": [
       "<matplotlib.collections.PathCollection at 0x24303f6c488>"
      ]
     },
     "execution_count": 41,
     "metadata": {},
     "output_type": "execute_result"
    },
    {
     "data": {
      "image/png": "[encoded data removed]",
      "text/plain": [
       "<Figure size 432x288 with 1 Axes>"
      ]
     },
     "metadata": {
      "needs_background": "light"
     },
     "output_type": "display_data"
    }
   ],
   "source": [
    "plt.scatter(prediction4,test_y)"
   ]
  },
  {
   "cell_type": "code",
   "execution_count": 42,
   "metadata": {},
   "outputs": [
    {
     "data": {
      "text/plain": [
       "['nHRandomForest.pkl']"
      ]
     },
     "execution_count": 42,
     "metadata": {},
     "output_type": "execute_result"
    }
   ],
   "source": [
    "from sklearn.externals import joblib \n",
    "  \n",
    "# Save the model as a pickle in a file \n",
    "joblib.dump(regr,'nHRandomForest.pkl') \n",
    "  \n",
    "# Load the model from the file only to be uncommented when to be used \n",
    "#RF = joblib.load('HUMRF.pkl')  \n",
    "  \n",
    "# Use the loaded model to make predictions \n",
    "#RF.predict(X_test)"
   ]
  },
  {
   "cell_type": "code",
   "execution_count": 44,
   "metadata": {},
   "outputs": [
    {
     "data": {
      "text/plain": [
       "Date                 False\n",
       "Month                False\n",
       "Hour                 False\n",
       "dewpt                False\n",
       "heatindex            False\n",
       "humidity             False\n",
       "temp                 False\n",
       "rain                 False\n",
       "humidity previous    False\n",
       "dtype: bool"
      ]
     },
     "execution_count": 44,
     "metadata": {},
     "output_type": "execute_result"
    }
   ],
   "source": [
    "humidity.isnull().any()"
   ]
  },
  {
   "cell_type": "code",
   "execution_count": null,
   "metadata": {},
   "outputs": [],
   "source": []
  }
 ],
 "metadata": {
  "kernelspec": {
   "display_name": "Python 3",
   "language": "python",
   "name": "python3"
  },
  "language_info": {
   "codemirror_mode": {
    "name": "ipython",
    "version": 3
   },
   "file_extension": ".py",
   "mimetype": "text/x-python",
   "name": "python",
   "nbconvert_exporter": "python",
   "pygments_lexer": "ipython3",
   "version": "3.8.8"
  }
 },
 "nbformat": 4,
 "nbformat_minor": 2
}
