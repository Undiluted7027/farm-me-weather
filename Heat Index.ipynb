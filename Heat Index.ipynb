{
 "cells": [
  {
   "cell_type": "code",
   "execution_count": null,
   "metadata": {},
   "outputs": [],
   "source": [
    "'''Comment for myself\n",
    "Heat index is the relative temperature felt due to presence of humidity which slows down the process\n",
    "of evaporation\n",
    "\n",
    "Formula=HI= c1+c2T+c3R+c4TR+c5T2+c6R2+c7T2R+c8TR2+c9T2R2\n",
    "c1 = -42.379\n",
    "c2= 2.04901523\n",
    "c3 = 10.14333127\n",
    "c4 = -0.22475541\n",
    "c5 = -6.83783 *(0.001)\n",
    "c6 = -5.481717 * (0.01)\n",
    "c7 = 1.22874 * (0.001)\n",
    "c8 = 8.5282 * (0.0001)\n",
    "c9 = -1.99 * (0.000001)\n",
    "T2 means T square and R2 means R2\n",
    "\n",
    "I will define a define a function called HI which has to imported in main.py after integration with\n",
    "the hardware. It will give the heat index and will take 2 parameters temp. in fahrenheit nd relative\n",
    "humidity'''"
   ]
  },
  {
   "cell_type": "code",
   "execution_count": 5,
   "metadata": {},
   "outputs": [
    {
     "name": "stdout",
     "output_type": "stream",
     "text": [
      "Enter the temperature in Celsius36\n",
      "Enter the relative humidity in perecentage48\n"
     ]
    }
   ],
   "source": [
    "def HI(t,H):\n",
    "    c1 = -42.379\n",
    "    c2= 2.04901523\n",
    "    c3 = 10.14333127\n",
    "    c4 = -0.22475541\n",
    "    c5 = -6.83783 *(0.001)\n",
    "    c6 = -5.481717 * (0.01)\n",
    "    c7 = 1.22874 * (0.001)\n",
    "    c8 = 8.5282 * (0.0001)\n",
    "    c9 = -1.99 * (0.000001)\n",
    "    T=(1.8*t)+32\n",
    "    HI=c1+(c2*T)+(c3*H)+(c4*T*H)+(c5*T*T)+(c6*H*H)+(c7*T*H*T)+(c8*T*H*H)+(c9*T*H*T*H)\n",
    "    FHI=((HI-32)*5)/9\n",
    "    return FHI\n",
    "    "
   ]
  },
  {
   "cell_type": "code",
   "execution_count": 7,
   "metadata": {},
   "outputs": [
    {
     "name": "stdout",
     "output_type": "stream",
     "text": [
      "Enter the temperature in Celsius38\n",
      "Enter the relative humidity in perecentage52\n"
     ]
    },
    {
     "data": {
      "text/plain": [
       "49.77269130355561"
      ]
     },
     "execution_count": 7,
     "metadata": {},
     "output_type": "execute_result"
    }
   ],
   "source": [
    "t=int(input(\"Enter the temperature in Celsius\"))\n",
    "H=int(input(\"Enter the relative humidity in perecentage\"))\n",
    "HI(t,H)"
   ]
  },
  {
   "cell_type": "code",
   "execution_count": null,
   "metadata": {},
   "outputs": [],
   "source": []
  }
 ],
 "metadata": {
  "kernelspec": {
   "display_name": "Python 3",
   "language": "python",
   "name": "python3"
  },
  "language_info": {
   "codemirror_mode": {
    "name": "ipython",
    "version": 3
   },
   "file_extension": ".py",
   "mimetype": "text/x-python",
   "name": "python",
   "nbconvert_exporter": "python",
   "pygments_lexer": "ipython3",
   "version": "3.7.4"
  }
 },
 "nbformat": 4,
 "nbformat_minor": 2
}
